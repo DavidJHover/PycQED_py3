{
 "cells": [
  {
   "cell_type": "code",
   "execution_count": 80,
   "metadata": {},
   "outputs": [],
   "source": [
    "import numpy as np\n",
    "from numpy import pi\n",
    "import scipy\n",
    "from scipy import linalg as la\n",
    "import scipy.optimize\n",
    "from scipy.optimize import minimize\n",
    "from matplotlib import pyplot as plt\n",
    "%matplotlib inline\n",
    "from importlib import reload\n",
    "import quantumsim.circuit\n",
    "import quantumsim.sparsedm\n",
    "import DiCarloLab_quantum_simulations as qsimulations\n"
   ]
  },
  {
   "cell_type": "code",
   "execution_count": 2,
   "metadata": {},
   "outputs": [],
   "source": [
    "def multiround_block_0(circuit, **kwargs):# qubit_param, qubit_gate={},\n",
    "    '''\n",
    "    qubit_param=(['q1', 'q2', 'q3'...],\n",
    "    [{'noise_flag':True, 't1':30000, 't2':30000}, \n",
    "    {'noise_flag':True, 't1':30000, 't2':30000},\n",
    "    {'noise_flag':True, 't1':30000, 't2':30000}])\n",
    "    The parameters can be different for each qubit\n",
    "    '''\n",
    "    '''\n",
    "    qubit_gate = {'msmt_time':600, 'gate_time_1q':20, 'gate_time_2q':40}\n",
    "    if qubit_gate is not introduced it takes the default values from qsoverlay 600ns\n",
    "    '''\n",
    "    '''\n",
    "    Not creating a new circuitbuilder every time the results slightly differ\n",
    "    This can be dangerous, so it is better to a new circuitbuilder everytime\n",
    "    '''\n",
    "    # readout_error is contained it **kwargs and passed to Sz_measure function\n",
    "\n",
    "    # Variable assignation used for all parts of the function\n",
    "\n",
    "#qubit_gate = qubit_gate\n",
    "\n",
    "#qubit_dic, gate_set, composite_gate_set = qsimulations.qubitdef(qubit_parameters=qubit_param,\n",
    "#                                                                    qubit_gate=qubit_gate)\n",
    "\n",
    "    if 'finalize' in kwargs.keys():\n",
    "        finalize = kwargs['finalize']\n",
    "    else:\n",
    "        finalize = True\n",
    "\n",
    "    # Measure of Identity, ZI, IZ, ZZ, only one circuit needed\n",
    "#cir = qsimulations.create_circuitbuilder(qubit_dic=qubit_dic, gate_set=gate_set,\n",
    "#                                         composite_gate_set=composite_gate_set)\n",
    "    qsimulations.prepare_state(state_prep_ops=(['RX', 'CZ', 'RX'], ['QL', ('QR', 'QL'), 'QL'],\n",
    "                               [pi/2, 0, pi/2]), cir=circuit)\n",
    "    qsimulations.construct_measurement(measurement_list=(['Measure'], ['QL']),\n",
    "                                       cir=circuit, finalize=finalize, **kwargs)\n",
    "    \n",
    "    #sdm=qsimulations.construc_sdm(cir)\n",
    "    \n",
    "    return(circuit)"
   ]
  },
  {
   "cell_type": "code",
   "execution_count": 3,
   "metadata": {},
   "outputs": [],
   "source": [
    "def multiround_block_1(circuit, **kwargs):# qubit_param, qubit_gate={},\n",
    "    '''\n",
    "    qubit_param=(['q1', 'q2', 'q3'...],\n",
    "    [{'noise_flag':True, 't1':30000, 't2':30000}, \n",
    "    {'noise_flag':True, 't1':30000, 't2':30000},\n",
    "    {'noise_flag':True, 't1':30000, 't2':30000}])\n",
    "    The parameters can be different for each qubit\n",
    "    '''\n",
    "    '''\n",
    "    qubit_gate = {'msmt_time':600, 'gate_time_1q':20, 'gate_time_2q':40}\n",
    "    if qubit_gate is not introduced it takes the default values from qsoverlay 600ns\n",
    "    '''\n",
    "    '''\n",
    "    Not creating a new circuitbuilder every time the results slightly differ\n",
    "    This can be dangerous, so it is better to a new circuitbuilder everytime\n",
    "    '''\n",
    "    # readout_error is contained it **kwargs and passed to Sz_measure function\n",
    "\n",
    "    # Variable assignation used for all parts of the function\n",
    "\n",
    "#qubit_gate = qubit_gate\n",
    "\n",
    "#qubit_dic, gate_set, composite_gate_set = qsimulations.qubitdef(qubit_parameters=qubit_param,\n",
    "#                                                                    qubit_gate=qubit_gate)\n",
    "\n",
    "    if 'finalize' in kwargs.keys():\n",
    "        finalize = kwargs['finalize']\n",
    "    else:\n",
    "        finalize = True\n",
    "\n",
    "    # Measure of Identity, ZI, IZ, ZZ, only one circuit needed\n",
    "#cir = qsimulations.create_circuitbuilder(qubit_dic=qubit_dic, gate_set=gate_set,\n",
    "#                                         composite_gate_set=composite_gate_set)\n",
    "    qsimulations.prepare_state(state_prep_ops=(['RX', 'RX', 'CZ', 'RX'], ['QL', 'QR', ('QR', 'QL'), 'QL'],\n",
    "                               [pi/2, pi, 0, pi/2]), cir=circuit)\n",
    "    qsimulations.construct_measurement(measurement_list=(['Measure'], ['QL']),\n",
    "                                       cir=circuit, finalize=finalize, **kwargs)\n",
    "    \n",
    "    #sdm=qsimulations.construc_sdm(cir)\n",
    "    \n",
    "    return(circuit)"
   ]
  },
  {
   "cell_type": "code",
   "execution_count": 155,
   "metadata": {},
   "outputs": [
    {
     "data": {
      "text/plain": [
       "<module 'DiCarloLab_quantum_simulations' from '/home/xabomon/GitHubRepos/DiCarloLab/IARPA_Project/Multiround_parity_meas/DiCarloLab_quantum_simulations.py'>"
      ]
     },
     "execution_count": 155,
     "metadata": {},
     "output_type": "execute_result"
    }
   ],
   "source": [
    "reload(qsimulations)"
   ]
  },
  {
   "cell_type": "code",
   "execution_count": 156,
   "metadata": {},
   "outputs": [
    {
     "data": {
      "text/plain": [
       "<module 'qsoverlay.DiCarlo_setup' from '/home/xabomon/qsoverlay/qsoverlay/DiCarlo_setup.py'>"
      ]
     },
     "execution_count": 156,
     "metadata": {},
     "output_type": "execute_result"
    }
   ],
   "source": [
    "reload(qsimulations.setup)"
   ]
  },
  {
   "cell_type": "code",
   "execution_count": 157,
   "metadata": {},
   "outputs": [],
   "source": [
    "qubit_gate_param={'msmt_time':3000,'gate_time_1q':20,'gate_time_2q':260, 'interval_time':1600}\n",
    "\n",
    "qubit_parameters = (['QL', 'QR'], [{'noise_flag':True, 't1':38000,'t2':28000,\n",
    "                                    'dephasing_axis':0.0,'dephasing_angle':0.0,'dephasing':0.0,\n",
    "                                    'p_exc_init':0.0,'p_dec_init':0.0,'p_exc_fin':0.0,'p_dec_fin':0.0,\n",
    "                                    'msmt_time':3000, 'dephase_var':0*(1e-2/(2*pi)), 'interval_time':1500},\n",
    "                                   {'noise_flag':True, 't1':27000,'t2':19000,\n",
    "                                    'dephasing_axis':0.0,'dephasing_angle':0.0,'dephasing':0.0,\n",
    "                                    'p_exc_init':0.0,'p_dec_init':0.0,'p_exc_fin':0.0,'p_dec_fin':0.0,\n",
    "                                    'msmt_time':3000, 'dephase_var':0*(1e-2/(2*pi)), 'interval_time':1500}])"
   ]
  },
  {
   "cell_type": "code",
   "execution_count": 191,
   "metadata": {},
   "outputs": [],
   "source": [
    "qubit_dic, gate_set, composite_gate_set = qsimulations.qubitdef(qubit_parameters=qubit_parameters,\n",
    "                                                                    qubit_gate=qubit_gate_param)\n",
    "cir0 = qsimulations.create_circuitbuilder(qubit_dic=qubit_dic, gate_set=gate_set,\n",
    "                                             composite_gate_set=composite_gate_set)\n",
    "cir1 = qsimulations.create_circuitbuilder(qubit_dic=qubit_dic, gate_set=gate_set,\n",
    "                                             composite_gate_set=composite_gate_set)\n",
    "    \n",
    "    \n",
    "multiround_block_0(circuit=cir0, \n",
    "                   sampler=quantumsim.circuit.uniform_noisy_sampler(readout_error=0,seed=np.random.randint(5000000)))\n",
    "multiround_block_1(circuit=cir1, \n",
    "                   sampler=quantumsim.circuit.uniform_noisy_sampler(readout_error=0,seed=np.random.randint(5000000)))\n",
    "\n",
    "cir0.circuit.order()\n",
    "cir1.circuit.order()"
   ]
  },
  {
   "cell_type": "code",
   "execution_count": 202,
   "metadata": {},
   "outputs": [
    {
     "data": {
      "text/plain": [
       "(<matplotlib.figure.Figure at 0x7f8231a7c940>,\n",
       " <matplotlib.axes._subplots.AxesSubplot at 0x7f8231a7ccc0>)"
      ]
     },
     "execution_count": 202,
     "metadata": {},
     "output_type": "execute_result"
    },
    {
     "data": {
      "image/png": "[encoded data removed]",
      "text/plain": [
       "<matplotlib.figure.Figure at 0x7f8231a7c940>"
      ]
     },
     "metadata": {},
     "output_type": "display_data"
    }
   ],
   "source": [
    "plt.figure(figsize=(25,5))\n",
    "cir0.circuit.plot()"
   ]
  },
  {
   "cell_type": "code",
   "execution_count": 198,
   "metadata": {},
   "outputs": [
    {
     "data": {
      "text/plain": [
       "(<matplotlib.figure.Figure at 0x7f8231d71208>,\n",
       " <matplotlib.axes._subplots.AxesSubplot at 0x7f8231d710f0>)"
      ]
     },
     "execution_count": 198,
     "metadata": {},
     "output_type": "execute_result"
    },
    {
     "data": {
      "image/png": "[encoded data removed]",
      "text/plain": [
       "<matplotlib.figure.Figure at 0x7f8231d71208>"
      ]
     },
     "metadata": {},
     "output_type": "display_data"
    }
   ],
   "source": [
    "plt.figure(figsize=(20,5))\n",
    "cir1.circuit.plot()"
   ]
  },
  {
   "cell_type": "code",
   "execution_count": 194,
   "metadata": {},
   "outputs": [],
   "source": [
    "iterations = 1000\n",
    "rounds = 30\n",
    "out_bit0=np.zeros(rounds+1)\n",
    "out_bit1=np.zeros(rounds+1)\n",
    "\n",
    "result = []\n",
    "\n",
    "for h in range(iterations):\n",
    "    sdm0 = quantumsim.sparsedm.SparseDM(cir0.circuit.get_qubit_names())\n",
    "    sdm1 = quantumsim.sparsedm.SparseDM(cir1.circuit.get_qubit_names())\n",
    "    cir0.circuit.apply_to(sdm0)    \n",
    "    cir1.circuit.apply_to(sdm1)\n",
    "    out_bit0=np.zeros(rounds+1)\n",
    "    out_bit1=np.zeros(rounds+1)\n",
    "    \n",
    "    for i in range(rounds):\n",
    "        cir0.circuit.apply_to(sdm0)    \n",
    "        cir0.circuit.apply_to(sdm1)\n",
    "        out_bit0[i+1]=sdm0.classical['mQL']\n",
    "        out_bit1[i+1]=sdm1.classical['mQL']\n",
    "    result.append(out_bit0)\n",
    "    result.append(out_bit1)\n",
    "    \n",
    "result = np.array(result).ravel()\n",
    "\n",
    "result = np.array([result, np.zeros_like(result)])"
   ]
  },
  {
   "cell_type": "code",
   "execution_count": 248,
   "metadata": {},
   "outputs": [
    {
     "name": "stdout",
     "output_type": "stream",
     "text": [
      "[[ 0.  0.  1. ...,  1.  0.  1.]\n",
      " [ 0.  0.  0. ...,  0.  0.  0.]]\n"
     ]
    }
   ],
   "source": [
    "print(result)"
   ]
  },
  {
   "cell_type": "code",
   "execution_count": 255,
   "metadata": {},
   "outputs": [
    {
     "name": "stdout",
     "output_type": "stream",
     "text": [
      "DiCarloLab_quantum_simulations.py    \u001b[0m\u001b[01;34m__pycache__\u001b[0m/\r\n",
      "Multiround_parity_measurement.ipynb\r\n"
     ]
    }
   ],
   "source": [
    "ls"
   ]
  },
  {
   "cell_type": "code",
   "execution_count": 249,
   "metadata": {},
   "outputs": [],
   "source": [
    "import pycqed.analysis_v2.syndrome_analysis as a"
   ]
  },
  {
   "cell_type": "code",
   "execution_count": 250,
   "metadata": {},
   "outputs": [],
   "source": [
    "from qcodes.instrument.base import Instrument"
   ]
  },
  {
   "cell_type": "code",
   "execution_count": 251,
   "metadata": {},
   "outputs": [],
   "source": [
    "MC = Instrument.find_instrument('MC')\n",
    "MC.close()"
   ]
  },
  {
   "cell_type": "code",
   "execution_count": 252,
   "metadata": {},
   "outputs": [],
   "source": [
    "from pycqed.measurement import measurement_control as mc\n",
    "MC = mc.MeasurementControl('MC', live_plot_enabled=False)\n",
    "\n",
    "from pycqed.measurement import sweep_functions as swf\n",
    "from pycqed.measurement import detector_functions as det"
   ]
  },
  {
   "cell_type": "code",
   "execution_count": 257,
   "metadata": {},
   "outputs": [
    {
     "data": {
      "text/plain": [
       "array([ 0.,  0.,  1., ...,  1.,  0.,  1.])"
      ]
     },
     "execution_count": 257,
     "metadata": {},
     "output_type": "execute_result"
    }
   ],
   "source": [
    "d.get_values()[0]"
   ]
  },
  {
   "cell_type": "code",
   "execution_count": 261,
   "metadata": {},
   "outputs": [
    {
     "data": {
      "text/plain": [
       "(2, 62000)"
      ]
     },
     "execution_count": 261,
     "metadata": {},
     "output_type": "execute_result"
    }
   ],
   "source": [
    "np.shape(result)"
   ]
  },
  {
   "cell_type": "code",
   "execution_count": null,
   "metadata": {},
   "outputs": [],
   "source": [
    "%matplotlib inline"
   ]
  },
  {
   "cell_type": "code",
   "execution_count": 272,
   "metadata": {},
   "outputs": [
    {
     "data": {
      "text/plain": [
       "array([[ 0.,  0.,  1., ...,  1.,  0.,  1.],\n",
       "       [ 0.,  0.,  0., ...,  0.,  0.,  0.]])"
      ]
     },
     "execution_count": 272,
     "metadata": {},
     "output_type": "execute_result"
    }
   ],
   "source": []
  },
  {
   "cell_type": "code",
   "execution_count": 275,
   "metadata": {},
   "outputs": [
    {
     "data": {
      "text/plain": [
       "'hard'"
      ]
     },
     "execution_count": 275,
     "metadata": {},
     "output_type": "execute_result"
    }
   ],
   "source": [
    "d.detector_control"
   ]
  },
  {
   "cell_type": "code",
   "execution_count": 276,
   "metadata": {},
   "outputs": [
    {
     "data": {
      "text/plain": [
       "'hard'"
      ]
     },
     "execution_count": 276,
     "metadata": {},
     "output_type": "execute_result"
    }
   ],
   "source": [
    "s.sweep_control"
   ]
  },
  {
   "cell_type": "code",
   "execution_count": 277,
   "metadata": {},
   "outputs": [
    {
     "name": "stdout",
     "output_type": "stream",
     "text": [
      "Exception reporting mode: Verbose\n"
     ]
    }
   ],
   "source": [
    "%xmode"
   ]
  },
  {
   "cell_type": "code",
   "execution_count": 286,
   "metadata": {},
   "outputs": [
    {
     "data": {
      "text/plain": [
       "(2, 30)"
      ]
     },
     "execution_count": 286,
     "metadata": {},
     "output_type": "execute_result"
    }
   ],
   "source": [
    "np.shape(MC.detector_function.get_values())"
   ]
  },
  {
   "cell_type": "code",
   "execution_count": 287,
   "metadata": {},
   "outputs": [
    {
     "data": {
      "text/plain": [
       "(2, 62000)"
      ]
     },
     "execution_count": 287,
     "metadata": {},
     "output_type": "execute_result"
    }
   ],
   "source": [
    "np.shape(result)"
   ]
  },
  {
   "cell_type": "code",
   "execution_count": null,
   "metadata": {},
   "outputs": [],
   "source": []
  },
  {
   "cell_type": "code",
   "execution_count": 300,
   "metadata": {},
   "outputs": [
    {
     "name": "stdout",
     "output_type": "stream",
     "text": [
      "Starting measurement: Dummyhard\n",
      "Sweep function: None_Sweep\n",
      "Detector function: Dummy_Detector_Hard\n",
      "\r",
      " \r",
      " 100% completed \telapsed time: 0.0s \ttime left: 0.0s\n"
     ]
    },
    {
     "name": "stderr",
     "output_type": "stream",
     "text": [
      "--- Logging error ---\n",
      "Traceback (most recent call last):\n",
      "  File \"/usr/lib/python3.6/logging/__init__.py\", line 992, in emit\n",
      "    msg = self.format(record)\n",
      "  File \"/usr/lib/python3.6/logging/__init__.py\", line 838, in format\n",
      "    return fmt.format(record)\n",
      "  File \"/usr/lib/python3.6/logging/__init__.py\", line 575, in format\n",
      "    record.message = record.getMessage()\n",
      "  File \"/usr/lib/python3.6/logging/__init__.py\", line 338, in getMessage\n",
      "    msg = msg % self.args\n",
      "TypeError: not all arguments converted during string formatting\n",
      "Call stack:\n",
      "  File \"/usr/lib/python3.6/runpy.py\", line 193, in _run_module_as_main\n",
      "    \"__main__\", mod_spec)\n",
      "  File \"/usr/lib/python3.6/runpy.py\", line 85, in _run_code\n",
      "    exec(code, run_globals)\n",
      "  File \"/usr/local/lib/python3.6/dist-packages/ipykernel_launcher.py\", line 16, in <module>\n",
      "    app.launch_new_instance()\n",
      "  File \"/usr/local/lib/python3.6/dist-packages/traitlets/config/application.py\", line 658, in launch_instance\n",
      "    app.start()\n",
      "  File \"/usr/local/lib/python3.6/dist-packages/ipykernel/kernelapp.py\", line 478, in start\n",
      "    self.io_loop.start()\n",
      "  File \"/usr/local/lib/python3.6/dist-packages/zmq/eventloop/ioloop.py\", line 177, in start\n",
      "    super(ZMQIOLoop, self).start()\n",
      "  File \"/usr/local/lib/python3.6/dist-packages/tornado/ioloop.py\", line 888, in start\n",
      "    handler_func(fd_obj, events)\n",
      "  File \"/usr/local/lib/python3.6/dist-packages/tornado/stack_context.py\", line 277, in null_wrapper\n",
      "    return fn(*args, **kwargs)\n",
      "  File \"/usr/local/lib/python3.6/dist-packages/zmq/eventloop/zmqstream.py\", line 440, in _handle_events\n",
      "    self._handle_recv()\n",
      "  File \"/usr/local/lib/python3.6/dist-packages/zmq/eventloop/zmqstream.py\", line 472, in _handle_recv\n",
      "    self._run_callback(callback, msg)\n",
      "  File \"/usr/local/lib/python3.6/dist-packages/zmq/eventloop/zmqstream.py\", line 414, in _run_callback\n",
      "    callback(*args, **kwargs)\n",
      "  File \"/usr/local/lib/python3.6/dist-packages/tornado/stack_context.py\", line 277, in null_wrapper\n",
      "    return fn(*args, **kwargs)\n",
      "  File \"/usr/local/lib/python3.6/dist-packages/ipykernel/kernelbase.py\", line 281, in dispatcher\n",
      "    return self.dispatch_shell(stream, msg)\n",
      "  File \"/usr/local/lib/python3.6/dist-packages/ipykernel/kernelbase.py\", line 232, in dispatch_shell\n",
      "    handler(stream, idents, msg)\n",
      "  File \"/usr/local/lib/python3.6/dist-packages/ipykernel/kernelbase.py\", line 397, in execute_request\n",
      "    user_expressions, allow_stdin)\n",
      "  File \"/usr/local/lib/python3.6/dist-packages/ipykernel/ipkernel.py\", line 208, in do_execute\n",
      "    res = shell.run_cell(code, store_history=store_history, silent=silent)\n",
      "  File \"/usr/local/lib/python3.6/dist-packages/ipykernel/zmqshell.py\", line 533, in run_cell\n",
      "    return super(ZMQInteractiveShell, self).run_cell(*args, **kwargs)\n",
      "  File \"/usr/local/lib/python3.6/dist-packages/IPython/core/interactiveshell.py\", line 2728, in run_cell\n",
      "    interactivity=interactivity, compiler=compiler, result=result)\n",
      "  File \"/usr/local/lib/python3.6/dist-packages/IPython/core/interactiveshell.py\", line 2856, in run_ast_nodes\n",
      "    if self.run_code(code, result):\n",
      "  File \"/usr/local/lib/python3.6/dist-packages/IPython/core/interactiveshell.py\", line 2910, in run_code\n",
      "    exec(code_obj, self.user_global_ns, self.user_ns)\n",
      "  File \"<ipython-input-300-0dc8185b5c29>\", line 4, in <module>\n",
      "    MC.run('Dummyhard')\n",
      "  File \"/home/xabomon/GitHubRepos/DiCarloLab/PycQED_py3/pycqed/measurement/measurement_control.py\", line 153, in run\n",
      "    self.save_instrument_settings(self.data_object)\n",
      "  File \"/home/xabomon/GitHubRepos/DiCarloLab/PycQED_py3/pycqed/measurement/measurement_control.py\", line 908, in save_instrument_settings\n",
      "    ' instrument settings')\n",
      "Message: 'No station object specified, could not save'\n",
      "Arguments: (' instrument settings',)\n"
     ]
    },
    {
     "data": {
      "text/plain": [
       "{'dset': array([[  0.        ,   0.        ,   1.        ],\n",
       "        [  0.34482759,   0.10954177,   0.99398219],\n",
       "        [  0.68965517,   0.21776513,   0.9760012 ],\n",
       "        [  1.03448276,   0.32336756,   0.94627344],\n",
       "        [  1.37931034,   0.42507806,   0.9051567 ],\n",
       "        [  1.72413793,   0.52167248,   0.85314584],\n",
       "        [  2.06896552,   0.61198826,   0.79086685],\n",
       "        [  2.4137931 ,   0.69493838,   0.71906929],\n",
       "        [  2.75862069,   0.7695245 ,   0.63861729],\n",
       "        [  3.10344828,   0.83484892,   0.55047914],\n",
       "        [  3.44827586,   0.89012541,   0.45571564],\n",
       "        [  3.79310345,   0.93468871,   0.35546733],\n",
       "        [  4.13793103,   0.96800245,   0.25094074],\n",
       "        [  4.48275862,   0.98966569,   0.14339393],\n",
       "        [  4.82758621,   0.9994177 ,   0.03412129],\n",
       "        [  5.17241379,   0.9971411 ,  -0.07556203],\n",
       "        [  5.51724138,   0.9828633 ,  -0.18433591],\n",
       "        [  5.86206897,   0.95675614,  -0.29089119],\n",
       "        [  6.20689655,   0.91913383,  -0.39394542],\n",
       "        [  6.55172414,   0.87044919,  -0.49225828],\n",
       "        [  6.89655172,   0.81128815,  -0.5846465 ],\n",
       "        [  7.24137931,   0.74236277,  -0.66999815],\n",
       "        [  7.5862069 ,   0.66450259,  -0.74728596],\n",
       "        [  7.93103448,   0.57864472,  -0.81557973],\n",
       "        [  8.27586207,   0.4858225 ,  -0.87405749],\n",
       "        [  8.62068966,   0.38715312,  -0.92201544],\n",
       "        [  8.96551724,   0.28382411,  -0.95887636],\n",
       "        [  9.31034483,   0.1770791 ,  -0.98419662],\n",
       "        [  9.65517241,   0.06820283,  -0.99767148],\n",
       "        [ 10.        ,  -0.04149429,  -0.99913874]]),\n",
       " 'sweep_parameter_names': ['pts'],\n",
       " 'sweep_parameter_units': ['arb. unit'],\n",
       " 'value_names': ['distance', 'Power'],\n",
       " 'value_units': ['m', 'W']}"
      ]
     },
     "execution_count": 300,
     "metadata": {},
     "output_type": "execute_result"
    }
   ],
   "source": [
    "MC.set_sweep_function(swf.None_Sweep(sweep_control='hard'))\n",
    "MC.set_sweep_points(np.linspace(0,10,30))\n",
    "MC.set_detector_function(det.Dummy_Detector_Hard())\n",
    "MC.run('Dummyhard')"
   ]
  },
  {
   "cell_type": "code",
   "execution_count": 302,
   "metadata": {},
   "outputs": [
    {
     "data": {
      "text/plain": [
       "<pycqed.analysis_v2.simple_analysis.Basic1DAnalysis at 0x7f8219543400>"
      ]
     },
     "execution_count": 302,
     "metadata": {},
     "output_type": "execute_result"
    },
    {
     "data": {
      "image/png": "[encoded data removed]",
      "text/plain": [
       "<matplotlib.figure.Figure at 0x7f82195ee860>"
      ]
     },
     "metadata": {},
     "output_type": "display_data"
    },
    {
     "data": {
      "image/png": "[encoded data removed]",
      "text/plain": [
       "<matplotlib.figure.Figure at 0x7f8219511630>"
      ]
     },
     "metadata": {},
     "output_type": "display_data"
    }
   ],
   "source": [
    "ma2.Basic1DAnalysis()\n",
    "ma2.Basic1DAnalysis(options_dict={'close_figs':False})"
   ]
  },
  {
   "cell_type": "code",
   "execution_count": 293,
   "metadata": {},
   "outputs": [
    {
     "data": {
      "text/plain": [
       "(2, 62000)"
      ]
     },
     "execution_count": 293,
     "metadata": {},
     "output_type": "execute_result"
    }
   ],
   "source": [
    "np.shape(d.get_values())"
   ]
  },
  {
   "cell_type": "code",
   "execution_count": 294,
   "metadata": {},
   "outputs": [
    {
     "data": {
      "text/plain": [
       "62000"
      ]
     },
     "execution_count": 294,
     "metadata": {},
     "output_type": "execute_result"
    }
   ],
   "source": [
    "len(result[0])"
   ]
  },
  {
   "cell_type": "code",
   "execution_count": 295,
   "metadata": {},
   "outputs": [
    {
     "ename": "AttributeError",
     "evalue": "'MeasurementControl' object and its delegates have no attribute 'sweep_points'",
     "output_type": "error",
     "traceback": [
      "\u001b[0;31m---------------------------------------------------------------------------\u001b[0m",
      "\u001b[0;31mAttributeError\u001b[0m                            Traceback (most recent call last)",
      "\u001b[0;32m<ipython-input-295-656fbc08a176>\u001b[0m in \u001b[0;36m<module>\u001b[0;34m()\u001b[0m\n\u001b[0;32m----> 1\u001b[0;31m \u001b[0mMC\u001b[0m\u001b[0;34m.\u001b[0m\u001b[0msweep_points\u001b[0m\u001b[0;34m\u001b[0m\u001b[0m\n\u001b[0m        \u001b[0;36mglobal\u001b[0m \u001b[0;36mMC.sweep_points\u001b[0m \u001b[0;34m= \u001b[0;36mundefined\u001b[0m\u001b[0m\n",
      "\u001b[0;32m~/GitHubRepos/DiCarloLab/Qcodes/qcodes/utils/helpers.py\u001b[0m in \u001b[0;36m__getattr__\u001b[0;34m(self=<MeasurementControl: MC>, key='sweep_points')\u001b[0m\n\u001b[1;32m    344\u001b[0m         raise AttributeError(\n\u001b[1;32m    345\u001b[0m             \"'{}' object and its delegates have no attribute '{}'\".format(\n\u001b[0;32m--> 346\u001b[0;31m                 self.__class__.__name__, key))\n\u001b[0m        \u001b[0;36mself.__class__.__name__\u001b[0m \u001b[0;34m= 'MeasurementControl'\u001b[0m\u001b[0;34m\n        \u001b[0m\u001b[0;36mkey\u001b[0m \u001b[0;34m= 'sweep_points'\u001b[0m\n\u001b[1;32m    347\u001b[0m \u001b[0;34m\u001b[0m\u001b[0m\n\u001b[1;32m    348\u001b[0m     \u001b[0;32mdef\u001b[0m \u001b[0m__dir__\u001b[0m\u001b[0;34m(\u001b[0m\u001b[0mself\u001b[0m\u001b[0;34m)\u001b[0m\u001b[0;34m:\u001b[0m\u001b[0;34m\u001b[0m\u001b[0m\n",
      "\u001b[0;31mAttributeError\u001b[0m: 'MeasurementControl' object and its delegates have no attribute 'sweep_points'"
     ]
    }
   ],
   "source": [
    "MC.sweep_points"
   ]
  },
  {
   "cell_type": "code",
   "execution_count": 297,
   "metadata": {},
   "outputs": [],
   "source": []
  },
  {
   "cell_type": "code",
   "execution_count": 307,
   "metadata": {},
   "outputs": [],
   "source": [
    "result_new = copy(result)"
   ]
  },
  {
   "cell_type": "code",
   "execution_count": 309,
   "metadata": {},
   "outputs": [],
   "source": [
    "result_new = result[:, :30]"
   ]
  },
  {
   "cell_type": "code",
   "execution_count": 310,
   "metadata": {},
   "outputs": [
    {
     "data": {
      "text/plain": [
       "array([[ 0.,  0.,  1.,  0.,  1.,  1.,  0.,  0.,  1.,  0.,  1.,  0.,  1.,\n",
       "         0.,  1.,  0.,  1.,  0.,  0.,  1.,  0.,  1.,  0.,  1.,  0.,  1.,\n",
       "         0.,  1.,  0.,  1.],\n",
       "       [ 0.,  0.,  0.,  0.,  0.,  0.,  0.,  0.,  0.,  0.,  0.,  0.,  0.,\n",
       "         0.,  0.,  0.,  0.,  0.,  0.,  0.,  0.,  0.,  0.,  0.,  0.,  0.,\n",
       "         0.,  0.,  0.,  0.]])"
      ]
     },
     "execution_count": 310,
     "metadata": {},
     "output_type": "execute_result"
    }
   ],
   "source": [
    "result_new"
   ]
  },
  {
   "cell_type": "code",
   "execution_count": 312,
   "metadata": {},
   "outputs": [
    {
     "data": {
      "text/plain": [
       "array([ 0,  1,  2,  3,  4,  5,  6,  7,  8,  9, 10, 11, 12, 13, 14, 15, 16,\n",
       "       17, 18, 19, 20, 21, 22, 23, 24, 25, 26, 27, 28, 29])"
      ]
     },
     "execution_count": 312,
     "metadata": {},
     "output_type": "execute_result"
    }
   ],
   "source": [
    "x"
   ]
  },
  {
   "cell_type": "code",
   "execution_count": 316,
   "metadata": {
    "scrolled": false
   },
   "outputs": [
    {
     "name": "stdout",
     "output_type": "stream",
     "text": [
      "Starting measurement: Simulation\n",
      "Sweep function: None_Sweep\n",
      "Detector function: Function_Detector\n",
      "\r",
      " \r",
      " 100% completed \telapsed time: 0.0s \ttime left: 0.0s\n"
     ]
    },
    {
     "name": "stderr",
     "output_type": "stream",
     "text": [
      "--- Logging error ---\n",
      "Traceback (most recent call last):\n",
      "  File \"/usr/lib/python3.6/logging/__init__.py\", line 992, in emit\n",
      "    msg = self.format(record)\n",
      "  File \"/usr/lib/python3.6/logging/__init__.py\", line 838, in format\n",
      "    return fmt.format(record)\n",
      "  File \"/usr/lib/python3.6/logging/__init__.py\", line 575, in format\n",
      "    record.message = record.getMessage()\n",
      "  File \"/usr/lib/python3.6/logging/__init__.py\", line 338, in getMessage\n",
      "    msg = msg % self.args\n",
      "TypeError: not all arguments converted during string formatting\n",
      "Call stack:\n",
      "  File \"/usr/lib/python3.6/runpy.py\", line 193, in _run_module_as_main\n",
      "    \"__main__\", mod_spec)\n",
      "  File \"/usr/lib/python3.6/runpy.py\", line 85, in _run_code\n",
      "    exec(code, run_globals)\n",
      "  File \"/usr/local/lib/python3.6/dist-packages/ipykernel_launcher.py\", line 16, in <module>\n",
      "    app.launch_new_instance()\n",
      "  File \"/usr/local/lib/python3.6/dist-packages/traitlets/config/application.py\", line 658, in launch_instance\n",
      "    app.start()\n",
      "  File \"/usr/local/lib/python3.6/dist-packages/ipykernel/kernelapp.py\", line 478, in start\n",
      "    self.io_loop.start()\n",
      "  File \"/usr/local/lib/python3.6/dist-packages/zmq/eventloop/ioloop.py\", line 177, in start\n",
      "    super(ZMQIOLoop, self).start()\n",
      "  File \"/usr/local/lib/python3.6/dist-packages/tornado/ioloop.py\", line 888, in start\n",
      "    handler_func(fd_obj, events)\n",
      "  File \"/usr/local/lib/python3.6/dist-packages/tornado/stack_context.py\", line 277, in null_wrapper\n",
      "    return fn(*args, **kwargs)\n",
      "  File \"/usr/local/lib/python3.6/dist-packages/zmq/eventloop/zmqstream.py\", line 440, in _handle_events\n",
      "    self._handle_recv()\n",
      "  File \"/usr/local/lib/python3.6/dist-packages/zmq/eventloop/zmqstream.py\", line 472, in _handle_recv\n",
      "    self._run_callback(callback, msg)\n",
      "  File \"/usr/local/lib/python3.6/dist-packages/zmq/eventloop/zmqstream.py\", line 414, in _run_callback\n",
      "    callback(*args, **kwargs)\n",
      "  File \"/usr/local/lib/python3.6/dist-packages/tornado/stack_context.py\", line 277, in null_wrapper\n",
      "    return fn(*args, **kwargs)\n",
      "  File \"/usr/local/lib/python3.6/dist-packages/ipykernel/kernelbase.py\", line 281, in dispatcher\n",
      "    return self.dispatch_shell(stream, msg)\n",
      "  File \"/usr/local/lib/python3.6/dist-packages/ipykernel/kernelbase.py\", line 232, in dispatch_shell\n",
      "    handler(stream, idents, msg)\n",
      "  File \"/usr/local/lib/python3.6/dist-packages/ipykernel/kernelbase.py\", line 397, in execute_request\n",
      "    user_expressions, allow_stdin)\n",
      "  File \"/usr/local/lib/python3.6/dist-packages/ipykernel/ipkernel.py\", line 208, in do_execute\n",
      "    res = shell.run_cell(code, store_history=store_history, silent=silent)\n",
      "  File \"/usr/local/lib/python3.6/dist-packages/ipykernel/zmqshell.py\", line 533, in run_cell\n",
      "    return super(ZMQInteractiveShell, self).run_cell(*args, **kwargs)\n",
      "  File \"/usr/local/lib/python3.6/dist-packages/IPython/core/interactiveshell.py\", line 2728, in run_cell\n",
      "    interactivity=interactivity, compiler=compiler, result=result)\n",
      "  File \"/usr/local/lib/python3.6/dist-packages/IPython/core/interactiveshell.py\", line 2856, in run_ast_nodes\n",
      "    if self.run_code(code, result):\n",
      "  File \"/usr/local/lib/python3.6/dist-packages/IPython/core/interactiveshell.py\", line 2910, in run_code\n",
      "    exec(code_obj, self.user_global_ns, self.user_ns)\n",
      "  File \"<ipython-input-316-c1a9c0886a3e>\", line 13, in <module>\n",
      "    MC.run('Simulation')\n",
      "  File \"/home/xabomon/GitHubRepos/DiCarloLab/PycQED_py3/pycqed/measurement/measurement_control.py\", line 153, in run\n",
      "    self.save_instrument_settings(self.data_object)\n",
      "  File \"/home/xabomon/GitHubRepos/DiCarloLab/PycQED_py3/pycqed/measurement/measurement_control.py\", line 908, in save_instrument_settings\n",
      "    ' instrument settings')\n",
      "Message: 'No station object specified, could not save'\n",
      "Arguments: (' instrument settings',)\n"
     ]
    },
    {
     "data": {
      "text/plain": [
       "{'dset': array([[  0.,   0.,   0.],\n",
       "        [  1.,   0.,   0.],\n",
       "        [  2.,   1.,   0.],\n",
       "        [  3.,   0.,   0.],\n",
       "        [  4.,   1.,   0.],\n",
       "        [  5.,   1.,   0.],\n",
       "        [  6.,   0.,   0.],\n",
       "        [  7.,   0.,   0.],\n",
       "        [  8.,   1.,   0.],\n",
       "        [  9.,   0.,   0.],\n",
       "        [ 10.,   1.,   0.],\n",
       "        [ 11.,   0.,   0.],\n",
       "        [ 12.,   1.,   0.],\n",
       "        [ 13.,   0.,   0.],\n",
       "        [ 14.,   1.,   0.],\n",
       "        [ 15.,   0.,   0.],\n",
       "        [ 16.,   1.,   0.],\n",
       "        [ 17.,   0.,   0.],\n",
       "        [ 18.,   0.,   0.],\n",
       "        [ 19.,   1.,   0.],\n",
       "        [ 20.,   0.,   0.],\n",
       "        [ 21.,   1.,   0.],\n",
       "        [ 22.,   0.,   0.],\n",
       "        [ 23.,   1.,   0.],\n",
       "        [ 24.,   0.,   0.],\n",
       "        [ 25.,   1.,   0.],\n",
       "        [ 26.,   0.,   0.],\n",
       "        [ 27.,   1.,   0.],\n",
       "        [ 28.,   0.,   0.],\n",
       "        [ 29.,   1.,   0.]]),\n",
       " 'sweep_parameter_names': ['pts'],\n",
       " 'sweep_parameter_units': ['arb. unit'],\n",
       " 'value_names': ['Ancilla', 'Data'],\n",
       " 'value_units': ['', '']}"
      ]
     },
     "execution_count": 316,
     "metadata": {},
     "output_type": "execute_result"
    }
   ],
   "source": [
    "s = swf.None_Sweep(sweep_control='hard')\n",
    "MC.set_sweep_function(s)\n",
    "\n",
    "def return_results():\n",
    "    #return result.T\n",
    "    return result_new.reshape(2, -1)\n",
    "\n",
    "d = det.Function_Detector(return_results, value_names=['Ancilla', 'Data'],value_units=['',''], detector_control='hard')\n",
    "x=np.arange(len(result_new[0]))\n",
    "#d = det.Function_Detector(return_results, value_names=['Ancilla'], detector_control='hard')\n",
    "MC.set_sweep_points(x)\n",
    "MC.set_detector_function(d)\n",
    "MC.run('Simulation')\n",
    "# ma2.Basic1DAnalysis(options_dict={'close_figs':False})"
   ]
  },
  {
   "cell_type": "code",
   "execution_count": 315,
   "metadata": {},
   "outputs": [
    {
     "data": {
      "text/plain": [
       "'/home/xabomon/GitHubRepos/DiCarloLab/PycQED_py3/data'"
      ]
     },
     "execution_count": 315,
     "metadata": {},
     "output_type": "execute_result"
    }
   ],
   "source": [
    "ma.a_tools.datadir"
   ]
  },
  {
   "cell_type": "code",
   "execution_count": 317,
   "metadata": {},
   "outputs": [
    {
     "ename": "IndexError",
     "evalue": "too many indices for array",
     "output_type": "error",
     "traceback": [
      "\u001b[0;31m---------------------------------------------------------------------------\u001b[0m",
      "\u001b[0;31mIndexError\u001b[0m                                Traceback (most recent call last)",
      "\u001b[0;32m<ipython-input-317-97d23e4897a6>\u001b[0m in \u001b[0;36m<module>\u001b[0;34m()\u001b[0m\n\u001b[0;32m----> 1\u001b[0;31m \u001b[0mma\u001b[0m\u001b[0;34m.\u001b[0m\u001b[0mMeasurementAnalysis\u001b[0m\u001b[0;34m(\u001b[0m\u001b[0;34m)\u001b[0m\u001b[0;34m\u001b[0m\u001b[0m\n\u001b[0m        \u001b[0;36mglobal\u001b[0m \u001b[0;36mma.MeasurementAnalysis\u001b[0m \u001b[0;34m= <class 'pycqed.analysis.measurement_analysis.MeasurementAnalysis'>\u001b[0m\n",
      "\u001b[0;32m~/GitHubRepos/DiCarloLab/PycQED_py3/pycqed/analysis/measurement_analysis.py\u001b[0m in \u001b[0;36m__init__\u001b[0;34m(self=<pycqed.analysis.measurement_analysis.MeasurementAnalysis object>, TwoD=False, folder=None, auto=True, cmap_chosen='viridis', no_of_columns=1, qb_name=None, **kw={})\u001b[0m\n\u001b[1;32m     72\u001b[0m \u001b[0;34m\u001b[0m\u001b[0m\n\u001b[1;32m     73\u001b[0m         \u001b[0;32mif\u001b[0m \u001b[0mauto\u001b[0m \u001b[0;32mis\u001b[0m \u001b[0;32mTrue\u001b[0m\u001b[0;34m:\u001b[0m\u001b[0;34m\u001b[0m\u001b[0m\n\u001b[0;32m---> 74\u001b[0;31m             \u001b[0mself\u001b[0m\u001b[0;34m.\u001b[0m\u001b[0mrun_default_analysis\u001b[0m\u001b[0;34m(\u001b[0m\u001b[0mTwoD\u001b[0m\u001b[0;34m=\u001b[0m\u001b[0mTwoD\u001b[0m\u001b[0;34m,\u001b[0m \u001b[0;34m**\u001b[0m\u001b[0mkw\u001b[0m\u001b[0;34m)\u001b[0m\u001b[0;34m\u001b[0m\u001b[0m\n\u001b[0m        \u001b[0;36mself.run_default_analysis\u001b[0m \u001b[0;34m= <bound method MeasurementAnalysis.run_default_analysis of <pycqed.analysis.measurement_analysis.MeasurementAnalysis object at 0x7f8217ff9dd8>>\u001b[0m\u001b[0;34m\n        \u001b[0m\u001b[0;36mTwoD\u001b[0m \u001b[0;34m= False\u001b[0m\u001b[0;34m\n        \u001b[0m\u001b[0;36mkw\u001b[0m \u001b[0;34m= {}\u001b[0m\n\u001b[1;32m     75\u001b[0m \u001b[0;34m\u001b[0m\u001b[0m\n\u001b[1;32m     76\u001b[0m     \u001b[0;32mdef\u001b[0m \u001b[0mset_plot_parameter_values\u001b[0m\u001b[0;34m(\u001b[0m\u001b[0mself\u001b[0m\u001b[0;34m,\u001b[0m \u001b[0;34m**\u001b[0m\u001b[0mkw\u001b[0m\u001b[0;34m)\u001b[0m\u001b[0;34m:\u001b[0m\u001b[0;34m\u001b[0m\u001b[0m\n",
      "\u001b[0;32m~/GitHubRepos/DiCarloLab/PycQED_py3/pycqed/analysis/measurement_analysis.py\u001b[0m in \u001b[0;36mrun_default_analysis\u001b[0;34m(self=<pycqed.analysis.measurement_analysis.MeasurementAnalysis object>, TwoD=False, close_file=True, show=False, log=False, transpose=False, **kw={})\u001b[0m\n\u001b[1;32m    435\u001b[0m \u001b[0;34m\u001b[0m\u001b[0m\n\u001b[1;32m    436\u001b[0m         \u001b[0;32mif\u001b[0m \u001b[0mTwoD\u001b[0m \u001b[0;32mis\u001b[0m \u001b[0;32mFalse\u001b[0m\u001b[0;34m:\u001b[0m\u001b[0;34m\u001b[0m\u001b[0m\n\u001b[0;32m--> 437\u001b[0;31m             \u001b[0mself\u001b[0m\u001b[0;34m.\u001b[0m\u001b[0mget_naming_and_values\u001b[0m\u001b[0;34m(\u001b[0m\u001b[0;34m)\u001b[0m\u001b[0;34m\u001b[0m\u001b[0m\n\u001b[0m        \u001b[0;36mself.get_naming_and_values\u001b[0m \u001b[0;34m= <bound method MeasurementAnalysis.get_naming_and_values of <pycqed.analysis.measurement_analysis.MeasurementAnalysis object at 0x7f8217ff9dd8>>\u001b[0m\n\u001b[1;32m    438\u001b[0m             \u001b[0mself\u001b[0m\u001b[0;34m.\u001b[0m\u001b[0msweep_points\u001b[0m \u001b[0;34m=\u001b[0m \u001b[0mkw\u001b[0m\u001b[0;34m.\u001b[0m\u001b[0mpop\u001b[0m\u001b[0;34m(\u001b[0m\u001b[0;34m'sweep_points'\u001b[0m\u001b[0;34m,\u001b[0m \u001b[0mself\u001b[0m\u001b[0;34m.\u001b[0m\u001b[0msweep_points\u001b[0m\u001b[0;34m)\u001b[0m\u001b[0;34m\u001b[0m\u001b[0m\n\u001b[1;32m    439\u001b[0m             \u001b[0;31m# Preallocate the array of axes in the figure\u001b[0m\u001b[0;34m\u001b[0m\u001b[0;34m\u001b[0m\u001b[0m\n",
      "\u001b[0;32m~/GitHubRepos/DiCarloLab/PycQED_py3/pycqed/analysis/measurement_analysis.py\u001b[0m in \u001b[0;36mget_naming_and_values\u001b[0;34m(self=<pycqed.analysis.measurement_analysis.MeasurementAnalysis object>)\u001b[0m\n\u001b[1;32m    629\u001b[0m             \u001b[0mself\u001b[0m\u001b[0;34m.\u001b[0m\u001b[0mdata\u001b[0m \u001b[0;34m=\u001b[0m \u001b[0mself\u001b[0m\u001b[0;34m.\u001b[0m\u001b[0mget_values\u001b[0m\u001b[0;34m(\u001b[0m\u001b[0;34m'Data'\u001b[0m\u001b[0;34m)\u001b[0m\u001b[0;34m.\u001b[0m\u001b[0mtranspose\u001b[0m\u001b[0;34m(\u001b[0m\u001b[0;34m)\u001b[0m\u001b[0;34m\u001b[0m\u001b[0m\n\u001b[1;32m    630\u001b[0m             \u001b[0;32mif\u001b[0m \u001b[0mlen\u001b[0m\u001b[0;34m(\u001b[0m\u001b[0mself\u001b[0m\u001b[0;34m.\u001b[0m\u001b[0mparameter_names\u001b[0m\u001b[0;34m)\u001b[0m \u001b[0;34m==\u001b[0m \u001b[0;36m1\u001b[0m\u001b[0;34m:\u001b[0m\u001b[0;34m\u001b[0m\u001b[0m\n\u001b[0;32m--> 631\u001b[0;31m                 \u001b[0mself\u001b[0m\u001b[0;34m.\u001b[0m\u001b[0msweep_points\u001b[0m \u001b[0;34m=\u001b[0m \u001b[0mself\u001b[0m\u001b[0;34m.\u001b[0m\u001b[0mdata\u001b[0m\u001b[0;34m[\u001b[0m\u001b[0;36m0\u001b[0m\u001b[0;34m,\u001b[0m \u001b[0;34m:\u001b[0m\u001b[0;34m]\u001b[0m\u001b[0;34m\u001b[0m\u001b[0m\n\u001b[0m        \u001b[0;36mself.sweep_points\u001b[0m \u001b[0;34m= \u001b[0;36mundefined\u001b[0m\u001b[0m\u001b[0;34m\n        \u001b[0m\u001b[0;36mself.data\u001b[0m \u001b[0;34m= array([ 0.,  0.,  0.,  0.,  0.,  0.,  0.,  0.,  0.,  0.,  0.,  0.,  0.,\n        0.,  0.,  0.,  0.,  0.,  0.,  0.,  0.,  0.,  0.,  0.,  0.,  0.,\n        0.,  0.,  0.,  0.])\u001b[0m\n\u001b[1;32m    632\u001b[0m             \u001b[0;32melse\u001b[0m\u001b[0;34m:\u001b[0m\u001b[0;34m\u001b[0m\u001b[0m\n\u001b[1;32m    633\u001b[0m                 \u001b[0mself\u001b[0m\u001b[0;34m.\u001b[0m\u001b[0msweep_points\u001b[0m \u001b[0;34m=\u001b[0m \u001b[0mself\u001b[0m\u001b[0;34m.\u001b[0m\u001b[0mdata\u001b[0m\u001b[0;34m[\u001b[0m\u001b[0;36m0\u001b[0m\u001b[0;34m:\u001b[0m\u001b[0mlen\u001b[0m\u001b[0;34m(\u001b[0m\u001b[0mself\u001b[0m\u001b[0;34m.\u001b[0m\u001b[0mparameter_names\u001b[0m\u001b[0;34m)\u001b[0m\u001b[0;34m,\u001b[0m \u001b[0;34m:\u001b[0m\u001b[0;34m]\u001b[0m\u001b[0;34m\u001b[0m\u001b[0m\n",
      "\u001b[0;31mIndexError\u001b[0m: too many indices for array"
     ]
    }
   ],
   "source": [
    "ma.MeasurementAnalysis()"
   ]
  },
  {
   "cell_type": "code",
   "execution_count": 304,
   "metadata": {},
   "outputs": [],
   "source": [
    "from pycqed.analysis import measurement_analysis as ma"
   ]
  },
  {
   "cell_type": "code",
   "execution_count": 305,
   "metadata": {},
   "outputs": [
    {
     "ename": "IndexError",
     "evalue": "too many indices for array",
     "output_type": "error",
     "traceback": [
      "\u001b[0;31m---------------------------------------------------------------------------\u001b[0m",
      "\u001b[0;31mIndexError\u001b[0m                                Traceback (most recent call last)",
      "\u001b[0;32m<ipython-input-305-97d23e4897a6>\u001b[0m in \u001b[0;36m<module>\u001b[0;34m()\u001b[0m\n\u001b[0;32m----> 1\u001b[0;31m \u001b[0mma\u001b[0m\u001b[0;34m.\u001b[0m\u001b[0mMeasurementAnalysis\u001b[0m\u001b[0;34m(\u001b[0m\u001b[0;34m)\u001b[0m\u001b[0;34m\u001b[0m\u001b[0m\n\u001b[0m        \u001b[0;36mglobal\u001b[0m \u001b[0;36mma.MeasurementAnalysis\u001b[0m \u001b[0;34m= <class 'pycqed.analysis.measurement_analysis.MeasurementAnalysis'>\u001b[0m\n",
      "\u001b[0;32m~/GitHubRepos/DiCarloLab/PycQED_py3/pycqed/analysis/measurement_analysis.py\u001b[0m in \u001b[0;36m__init__\u001b[0;34m(self=<pycqed.analysis.measurement_analysis.MeasurementAnalysis object>, TwoD=False, folder=None, auto=True, cmap_chosen='viridis', no_of_columns=1, qb_name=None, **kw={})\u001b[0m\n\u001b[1;32m     72\u001b[0m \u001b[0;34m\u001b[0m\u001b[0m\n\u001b[1;32m     73\u001b[0m         \u001b[0;32mif\u001b[0m \u001b[0mauto\u001b[0m \u001b[0;32mis\u001b[0m \u001b[0;32mTrue\u001b[0m\u001b[0;34m:\u001b[0m\u001b[0;34m\u001b[0m\u001b[0m\n\u001b[0;32m---> 74\u001b[0;31m             \u001b[0mself\u001b[0m\u001b[0;34m.\u001b[0m\u001b[0mrun_default_analysis\u001b[0m\u001b[0;34m(\u001b[0m\u001b[0mTwoD\u001b[0m\u001b[0;34m=\u001b[0m\u001b[0mTwoD\u001b[0m\u001b[0;34m,\u001b[0m \u001b[0;34m**\u001b[0m\u001b[0mkw\u001b[0m\u001b[0;34m)\u001b[0m\u001b[0;34m\u001b[0m\u001b[0m\n\u001b[0m        \u001b[0;36mself.run_default_analysis\u001b[0m \u001b[0;34m= <bound method MeasurementAnalysis.run_default_analysis of <pycqed.analysis.measurement_analysis.MeasurementAnalysis object at 0x7f821876d780>>\u001b[0m\u001b[0;34m\n        \u001b[0m\u001b[0;36mTwoD\u001b[0m \u001b[0;34m= False\u001b[0m\u001b[0;34m\n        \u001b[0m\u001b[0;36mkw\u001b[0m \u001b[0;34m= {}\u001b[0m\n\u001b[1;32m     75\u001b[0m \u001b[0;34m\u001b[0m\u001b[0m\n\u001b[1;32m     76\u001b[0m     \u001b[0;32mdef\u001b[0m \u001b[0mset_plot_parameter_values\u001b[0m\u001b[0;34m(\u001b[0m\u001b[0mself\u001b[0m\u001b[0;34m,\u001b[0m \u001b[0;34m**\u001b[0m\u001b[0mkw\u001b[0m\u001b[0;34m)\u001b[0m\u001b[0;34m:\u001b[0m\u001b[0;34m\u001b[0m\u001b[0m\n",
      "\u001b[0;32m~/GitHubRepos/DiCarloLab/PycQED_py3/pycqed/analysis/measurement_analysis.py\u001b[0m in \u001b[0;36mrun_default_analysis\u001b[0;34m(self=<pycqed.analysis.measurement_analysis.MeasurementAnalysis object>, TwoD=False, close_file=True, show=False, log=False, transpose=False, **kw={})\u001b[0m\n\u001b[1;32m    435\u001b[0m \u001b[0;34m\u001b[0m\u001b[0m\n\u001b[1;32m    436\u001b[0m         \u001b[0;32mif\u001b[0m \u001b[0mTwoD\u001b[0m \u001b[0;32mis\u001b[0m \u001b[0;32mFalse\u001b[0m\u001b[0;34m:\u001b[0m\u001b[0;34m\u001b[0m\u001b[0m\n\u001b[0;32m--> 437\u001b[0;31m             \u001b[0mself\u001b[0m\u001b[0;34m.\u001b[0m\u001b[0mget_naming_and_values\u001b[0m\u001b[0;34m(\u001b[0m\u001b[0;34m)\u001b[0m\u001b[0;34m\u001b[0m\u001b[0m\n\u001b[0m        \u001b[0;36mself.get_naming_and_values\u001b[0m \u001b[0;34m= <bound method MeasurementAnalysis.get_naming_and_values of <pycqed.analysis.measurement_analysis.MeasurementAnalysis object at 0x7f821876d780>>\u001b[0m\n\u001b[1;32m    438\u001b[0m             \u001b[0mself\u001b[0m\u001b[0;34m.\u001b[0m\u001b[0msweep_points\u001b[0m \u001b[0;34m=\u001b[0m \u001b[0mkw\u001b[0m\u001b[0;34m.\u001b[0m\u001b[0mpop\u001b[0m\u001b[0;34m(\u001b[0m\u001b[0;34m'sweep_points'\u001b[0m\u001b[0;34m,\u001b[0m \u001b[0mself\u001b[0m\u001b[0;34m.\u001b[0m\u001b[0msweep_points\u001b[0m\u001b[0;34m)\u001b[0m\u001b[0;34m\u001b[0m\u001b[0m\n\u001b[1;32m    439\u001b[0m             \u001b[0;31m# Preallocate the array of axes in the figure\u001b[0m\u001b[0;34m\u001b[0m\u001b[0;34m\u001b[0m\u001b[0m\n",
      "\u001b[0;32m~/GitHubRepos/DiCarloLab/PycQED_py3/pycqed/analysis/measurement_analysis.py\u001b[0m in \u001b[0;36mget_naming_and_values\u001b[0;34m(self=<pycqed.analysis.measurement_analysis.MeasurementAnalysis object>)\u001b[0m\n\u001b[1;32m    629\u001b[0m             \u001b[0mself\u001b[0m\u001b[0;34m.\u001b[0m\u001b[0mdata\u001b[0m \u001b[0;34m=\u001b[0m \u001b[0mself\u001b[0m\u001b[0;34m.\u001b[0m\u001b[0mget_values\u001b[0m\u001b[0;34m(\u001b[0m\u001b[0;34m'Data'\u001b[0m\u001b[0;34m)\u001b[0m\u001b[0;34m.\u001b[0m\u001b[0mtranspose\u001b[0m\u001b[0;34m(\u001b[0m\u001b[0;34m)\u001b[0m\u001b[0;34m\u001b[0m\u001b[0m\n\u001b[1;32m    630\u001b[0m             \u001b[0;32mif\u001b[0m \u001b[0mlen\u001b[0m\u001b[0;34m(\u001b[0m\u001b[0mself\u001b[0m\u001b[0;34m.\u001b[0m\u001b[0mparameter_names\u001b[0m\u001b[0;34m)\u001b[0m \u001b[0;34m==\u001b[0m \u001b[0;36m1\u001b[0m\u001b[0;34m:\u001b[0m\u001b[0;34m\u001b[0m\u001b[0m\n\u001b[0;32m--> 631\u001b[0;31m                 \u001b[0mself\u001b[0m\u001b[0;34m.\u001b[0m\u001b[0msweep_points\u001b[0m \u001b[0;34m=\u001b[0m \u001b[0mself\u001b[0m\u001b[0;34m.\u001b[0m\u001b[0mdata\u001b[0m\u001b[0;34m[\u001b[0m\u001b[0;36m0\u001b[0m\u001b[0;34m,\u001b[0m \u001b[0;34m:\u001b[0m\u001b[0;34m]\u001b[0m\u001b[0;34m\u001b[0m\u001b[0m\n\u001b[0m        \u001b[0;36mself.sweep_points\u001b[0m \u001b[0;34m= \u001b[0;36mundefined\u001b[0m\u001b[0m\u001b[0;34m\n        \u001b[0m\u001b[0;36mself.data\u001b[0m \u001b[0;34m= array([ 0.,  0.,  0., ...,  0.,  0.,  0.])\u001b[0m\n\u001b[1;32m    632\u001b[0m             \u001b[0;32melse\u001b[0m\u001b[0;34m:\u001b[0m\u001b[0;34m\u001b[0m\u001b[0m\n\u001b[1;32m    633\u001b[0m                 \u001b[0mself\u001b[0m\u001b[0;34m.\u001b[0m\u001b[0msweep_points\u001b[0m \u001b[0;34m=\u001b[0m \u001b[0mself\u001b[0m\u001b[0;34m.\u001b[0m\u001b[0mdata\u001b[0m\u001b[0;34m[\u001b[0m\u001b[0;36m0\u001b[0m\u001b[0;34m:\u001b[0m\u001b[0mlen\u001b[0m\u001b[0;34m(\u001b[0m\u001b[0mself\u001b[0m\u001b[0;34m.\u001b[0m\u001b[0mparameter_names\u001b[0m\u001b[0;34m)\u001b[0m\u001b[0;34m,\u001b[0m \u001b[0;34m:\u001b[0m\u001b[0;34m]\u001b[0m\u001b[0;34m\u001b[0m\u001b[0m\n",
      "\u001b[0;31mIndexError\u001b[0m: too many indices for array"
     ]
    }
   ],
   "source": [
    "ma.MeasurementAnalysis()"
   ]
  },
  {
   "cell_type": "code",
   "execution_count": 243,
   "metadata": {},
   "outputs": [
    {
     "data": {
      "text/plain": [
       "'/home/xabomon/GitHubRepos/DiCarloLab/PycQED_py3/data'"
      ]
     },
     "execution_count": 243,
     "metadata": {},
     "output_type": "execute_result"
    }
   ],
   "source": [
    "MC.datadir()"
   ]
  },
  {
   "cell_type": "code",
   "execution_count": 239,
   "metadata": {},
   "outputs": [
    {
     "data": {
      "text/plain": [
       "'soft'"
      ]
     },
     "execution_count": 239,
     "metadata": {},
     "output_type": "execute_result"
    }
   ],
   "source": [
    "\n",
    "s.sweep_control"
   ]
  },
  {
   "cell_type": "code",
   "execution_count": 244,
   "metadata": {},
   "outputs": [],
   "source": [
    "from pycqed.analysis_v2 import measurement_analysis as ma2"
   ]
  },
  {
   "cell_type": "code",
   "execution_count": 247,
   "metadata": {},
   "outputs": [
    {
     "name": "stderr",
     "output_type": "stream",
     "text": [
      "WARNING:root:Error \"too many indices for array\" when processing timestamp 20180125_190902\n"
     ]
    },
    {
     "ename": "IndexError",
     "evalue": "too many indices for array",
     "output_type": "error",
     "traceback": [
      "\u001b[0;31m---------------------------------------------------------------------------\u001b[0m",
      "\u001b[0;31mIndexError\u001b[0m                                Traceback (most recent call last)",
      "\u001b[0;32m<ipython-input-247-3b03e1ab911a>\u001b[0m in \u001b[0;36m<module>\u001b[0;34m()\u001b[0m\n\u001b[0;32m----> 1\u001b[0;31m \u001b[0mma2\u001b[0m\u001b[0;34m.\u001b[0m\u001b[0mBasic1DAnalysis\u001b[0m\u001b[0;34m(\u001b[0m\u001b[0;34m)\u001b[0m\u001b[0;34m\u001b[0m\u001b[0m\n\u001b[0m",
      "\u001b[0;32m~/GitHubRepos/DiCarloLab/PycQED_py3/pycqed/analysis_v2/simple_analysis.py\u001b[0m in \u001b[0;36m__init__\u001b[0;34m(self, t_start, t_stop, label, data_file_path, options_dict, extract_only, do_fitting, auto)\u001b[0m\n\u001b[1;32m     47\u001b[0m         \u001b[0mself\u001b[0m\u001b[0;34m.\u001b[0m\u001b[0mnumeric_params\u001b[0m \u001b[0;34m=\u001b[0m \u001b[0;34m[\u001b[0m\u001b[0;34m]\u001b[0m\u001b[0;34m\u001b[0m\u001b[0m\n\u001b[1;32m     48\u001b[0m         \u001b[0;32mif\u001b[0m \u001b[0mauto\u001b[0m\u001b[0;34m:\u001b[0m\u001b[0;34m\u001b[0m\u001b[0m\n\u001b[0;32m---> 49\u001b[0;31m             \u001b[0mself\u001b[0m\u001b[0;34m.\u001b[0m\u001b[0mrun_analysis\u001b[0m\u001b[0;34m(\u001b[0m\u001b[0;34m)\u001b[0m\u001b[0;34m\u001b[0m\u001b[0m\n\u001b[0m\u001b[1;32m     50\u001b[0m \u001b[0;34m\u001b[0m\u001b[0m\n\u001b[1;32m     51\u001b[0m     \u001b[0;32mdef\u001b[0m \u001b[0mprepare_plots\u001b[0m\u001b[0;34m(\u001b[0m\u001b[0mself\u001b[0m\u001b[0;34m)\u001b[0m\u001b[0;34m:\u001b[0m\u001b[0;34m\u001b[0m\u001b[0m\n",
      "\u001b[0;32m~/GitHubRepos/DiCarloLab/PycQED_py3/pycqed/analysis_v2/base_analysis.py\u001b[0m in \u001b[0;36mrun_analysis\u001b[0;34m(self)\u001b[0m\n\u001b[1;32m    180\u001b[0m         \u001b[0mThis\u001b[0m \u001b[0mfunction\u001b[0m \u001b[0;32mis\u001b[0m \u001b[0mtypically\u001b[0m \u001b[0mcalled\u001b[0m \u001b[0mafter\u001b[0m \u001b[0mthe\u001b[0m \u001b[0m__init__\u001b[0m\u001b[0;34m.\u001b[0m\u001b[0;34m\u001b[0m\u001b[0m\n\u001b[1;32m    181\u001b[0m         \"\"\"\n\u001b[0;32m--> 182\u001b[0;31m         \u001b[0mself\u001b[0m\u001b[0;34m.\u001b[0m\u001b[0mextract_data\u001b[0m\u001b[0;34m(\u001b[0m\u001b[0;34m)\u001b[0m    \u001b[0;31m# extract data specified in params dict\u001b[0m\u001b[0;34m\u001b[0m\u001b[0m\n\u001b[0m\u001b[1;32m    183\u001b[0m         \u001b[0mself\u001b[0m\u001b[0;34m.\u001b[0m\u001b[0mprocess_data\u001b[0m\u001b[0;34m(\u001b[0m\u001b[0;34m)\u001b[0m    \u001b[0;31m# binning, filtering etc\u001b[0m\u001b[0;34m\u001b[0m\u001b[0m\n\u001b[1;32m    184\u001b[0m         \u001b[0;32mif\u001b[0m \u001b[0mself\u001b[0m\u001b[0;34m.\u001b[0m\u001b[0mdo_fitting\u001b[0m\u001b[0;34m:\u001b[0m\u001b[0;34m\u001b[0m\u001b[0m\n",
      "\u001b[0;32m~/GitHubRepos/DiCarloLab/PycQED_py3/pycqed/analysis_v2/base_analysis.py\u001b[0m in \u001b[0;36mextract_data\u001b[0;34m(self)\u001b[0m\n\u001b[1;32m    307\u001b[0m                 \u001b[0mma_type\u001b[0m\u001b[0;34m=\u001b[0m\u001b[0mself\u001b[0m\u001b[0;34m.\u001b[0m\u001b[0mma_type\u001b[0m\u001b[0;34m,\u001b[0m\u001b[0;34m\u001b[0m\u001b[0m\n\u001b[1;32m    308\u001b[0m                 \u001b[0mTwoD\u001b[0m\u001b[0;34m=\u001b[0m\u001b[0mTwoD\u001b[0m\u001b[0;34m,\u001b[0m \u001b[0mnumeric_params\u001b[0m\u001b[0;34m=\u001b[0m\u001b[0mself\u001b[0m\u001b[0;34m.\u001b[0m\u001b[0mnumeric_params\u001b[0m\u001b[0;34m,\u001b[0m\u001b[0;34m\u001b[0m\u001b[0m\n\u001b[0;32m--> 309\u001b[0;31m                 filter_no_analysis=self.filter_no_analysis)\n\u001b[0m\u001b[1;32m    310\u001b[0m \u001b[0;34m\u001b[0m\u001b[0m\n\u001b[1;32m    311\u001b[0m             \u001b[0;31m# Use timestamps to calculate datetimes and add to dictionary\u001b[0m\u001b[0;34m\u001b[0m\u001b[0;34m\u001b[0m\u001b[0m\n",
      "\u001b[0;32m~/GitHubRepos/DiCarloLab/PycQED_py3/pycqed/analysis/analysis_toolbox.py\u001b[0m in \u001b[0;36mget_data_from_timestamp_list\u001b[0;34m(timestamps, param_names, TwoD, max_files, filter_no_analysis, numeric_params, ma_type)\u001b[0m\n\u001b[1;32m    509\u001b[0m                         \u001b[0mana\u001b[0m\u001b[0;34m.\u001b[0m\u001b[0mget_naming_and_values_2D\u001b[0m\u001b[0;34m(\u001b[0m\u001b[0;34m)\u001b[0m\u001b[0;34m\u001b[0m\u001b[0m\n\u001b[1;32m    510\u001b[0m                     \u001b[0;32melse\u001b[0m\u001b[0;34m:\u001b[0m\u001b[0;34m\u001b[0m\u001b[0m\n\u001b[0;32m--> 511\u001b[0;31m                         \u001b[0mana\u001b[0m\u001b[0;34m.\u001b[0m\u001b[0mget_naming_and_values\u001b[0m\u001b[0;34m(\u001b[0m\u001b[0;34m)\u001b[0m\u001b[0;34m\u001b[0m\u001b[0m\n\u001b[0m\u001b[1;32m    512\u001b[0m \u001b[0;34m\u001b[0m\u001b[0m\n\u001b[1;32m    513\u001b[0m                     \u001b[0;32mif\u001b[0m \u001b[0;34m'datasaving_format'\u001b[0m \u001b[0;32min\u001b[0m \u001b[0mana\u001b[0m\u001b[0;34m.\u001b[0m\u001b[0mdata_file\u001b[0m\u001b[0;34m[\u001b[0m\u001b[0;34m'Experimental Data'\u001b[0m\u001b[0;34m]\u001b[0m\u001b[0;34m.\u001b[0m\u001b[0mattrs\u001b[0m\u001b[0;34m:\u001b[0m\u001b[0;34m\u001b[0m\u001b[0m\n",
      "\u001b[0;32m~/GitHubRepos/DiCarloLab/PycQED_py3/pycqed/analysis/measurement_analysis.py\u001b[0m in \u001b[0;36mget_naming_and_values\u001b[0;34m(self)\u001b[0m\n\u001b[1;32m    629\u001b[0m             \u001b[0mself\u001b[0m\u001b[0;34m.\u001b[0m\u001b[0mdata\u001b[0m \u001b[0;34m=\u001b[0m \u001b[0mself\u001b[0m\u001b[0;34m.\u001b[0m\u001b[0mget_values\u001b[0m\u001b[0;34m(\u001b[0m\u001b[0;34m'Data'\u001b[0m\u001b[0;34m)\u001b[0m\u001b[0;34m.\u001b[0m\u001b[0mtranspose\u001b[0m\u001b[0;34m(\u001b[0m\u001b[0;34m)\u001b[0m\u001b[0;34m\u001b[0m\u001b[0m\n\u001b[1;32m    630\u001b[0m             \u001b[0;32mif\u001b[0m \u001b[0mlen\u001b[0m\u001b[0;34m(\u001b[0m\u001b[0mself\u001b[0m\u001b[0;34m.\u001b[0m\u001b[0mparameter_names\u001b[0m\u001b[0;34m)\u001b[0m \u001b[0;34m==\u001b[0m \u001b[0;36m1\u001b[0m\u001b[0;34m:\u001b[0m\u001b[0;34m\u001b[0m\u001b[0m\n\u001b[0;32m--> 631\u001b[0;31m                 \u001b[0mself\u001b[0m\u001b[0;34m.\u001b[0m\u001b[0msweep_points\u001b[0m \u001b[0;34m=\u001b[0m \u001b[0mself\u001b[0m\u001b[0;34m.\u001b[0m\u001b[0mdata\u001b[0m\u001b[0;34m[\u001b[0m\u001b[0;36m0\u001b[0m\u001b[0;34m,\u001b[0m \u001b[0;34m:\u001b[0m\u001b[0;34m]\u001b[0m\u001b[0;34m\u001b[0m\u001b[0m\n\u001b[0m\u001b[1;32m    632\u001b[0m             \u001b[0;32melse\u001b[0m\u001b[0;34m:\u001b[0m\u001b[0;34m\u001b[0m\u001b[0m\n\u001b[1;32m    633\u001b[0m                 \u001b[0mself\u001b[0m\u001b[0;34m.\u001b[0m\u001b[0msweep_points\u001b[0m \u001b[0;34m=\u001b[0m \u001b[0mself\u001b[0m\u001b[0;34m.\u001b[0m\u001b[0mdata\u001b[0m\u001b[0;34m[\u001b[0m\u001b[0;36m0\u001b[0m\u001b[0;34m:\u001b[0m\u001b[0mlen\u001b[0m\u001b[0;34m(\u001b[0m\u001b[0mself\u001b[0m\u001b[0;34m.\u001b[0m\u001b[0mparameter_names\u001b[0m\u001b[0;34m)\u001b[0m\u001b[0;34m,\u001b[0m \u001b[0;34m:\u001b[0m\u001b[0;34m]\u001b[0m\u001b[0;34m\u001b[0m\u001b[0m\n",
      "\u001b[0;31mIndexError\u001b[0m: too many indices for array"
     ]
    }
   ],
   "source": [
    "ma2.Basic1DAnalysis()"
   ]
  },
  {
   "cell_type": "code",
   "execution_count": 246,
   "metadata": {
    "scrolled": true
   },
   "outputs": [
    {
     "name": "stderr",
     "output_type": "stream",
     "text": [
      "WARNING:root:Could not import qutip\n",
      "WARNING:root:Error \"too many indices for array\" when processing timestamp 20180125_190902\n"
     ]
    },
    {
     "ename": "IndexError",
     "evalue": "too many indices for array",
     "output_type": "error",
     "traceback": [
      "\u001b[0;31m---------------------------------------------------------------------------\u001b[0m",
      "\u001b[0;31mIndexError\u001b[0m                                Traceback (most recent call last)",
      "\u001b[0;32m<ipython-input-246-e8b69d9e1cb5>\u001b[0m in \u001b[0;36m<module>\u001b[0;34m()\u001b[0m\n\u001b[1;32m      1\u001b[0m ma2.One_Qubit_Paritycheck_Analysis(options_dict={'post_sel_th_anc':0.5,\n\u001b[1;32m      2\u001b[0m                                                  \u001b[0;34m'post_sel_th_data'\u001b[0m\u001b[0;34m:\u001b[0m\u001b[0;36m0.5\u001b[0m\u001b[0;34m,\u001b[0m\u001b[0;34m\u001b[0m\u001b[0m\n\u001b[0;32m----> 3\u001b[0;31m                                                  'nr_of_meas':rounds+1})\n\u001b[0m",
      "\u001b[0;32m~/GitHubRepos/DiCarloLab/PycQED_py3/pycqed/analysis_v2/syndrome_analysis.py\u001b[0m in \u001b[0;36m__init__\u001b[0;34m(self, t_start, t_stop, label, data_file_path, options_dict, extract_only, do_fitting, auto)\u001b[0m\n\u001b[1;32m    212\u001b[0m         \u001b[0mself\u001b[0m\u001b[0;34m.\u001b[0m\u001b[0mnumeric_params\u001b[0m \u001b[0;34m=\u001b[0m \u001b[0;34m[\u001b[0m\u001b[0;34m]\u001b[0m\u001b[0;34m\u001b[0m\u001b[0m\n\u001b[1;32m    213\u001b[0m         \u001b[0;32mif\u001b[0m \u001b[0mauto\u001b[0m\u001b[0;34m:\u001b[0m\u001b[0;34m\u001b[0m\u001b[0m\n\u001b[0;32m--> 214\u001b[0;31m             \u001b[0mself\u001b[0m\u001b[0;34m.\u001b[0m\u001b[0mrun_analysis\u001b[0m\u001b[0;34m(\u001b[0m\u001b[0;34m)\u001b[0m\u001b[0;34m\u001b[0m\u001b[0m\n\u001b[0m\u001b[1;32m    215\u001b[0m \u001b[0;34m\u001b[0m\u001b[0m\n\u001b[1;32m    216\u001b[0m     \u001b[0;32mdef\u001b[0m \u001b[0mprocess_data\u001b[0m\u001b[0;34m(\u001b[0m\u001b[0mself\u001b[0m\u001b[0;34m)\u001b[0m\u001b[0;34m:\u001b[0m\u001b[0;34m\u001b[0m\u001b[0m\n",
      "\u001b[0;32m~/GitHubRepos/DiCarloLab/PycQED_py3/pycqed/analysis_v2/base_analysis.py\u001b[0m in \u001b[0;36mrun_analysis\u001b[0;34m(self)\u001b[0m\n\u001b[1;32m    180\u001b[0m         \u001b[0mThis\u001b[0m \u001b[0mfunction\u001b[0m \u001b[0;32mis\u001b[0m \u001b[0mtypically\u001b[0m \u001b[0mcalled\u001b[0m \u001b[0mafter\u001b[0m \u001b[0mthe\u001b[0m \u001b[0m__init__\u001b[0m\u001b[0;34m.\u001b[0m\u001b[0;34m\u001b[0m\u001b[0m\n\u001b[1;32m    181\u001b[0m         \"\"\"\n\u001b[0;32m--> 182\u001b[0;31m         \u001b[0mself\u001b[0m\u001b[0;34m.\u001b[0m\u001b[0mextract_data\u001b[0m\u001b[0;34m(\u001b[0m\u001b[0;34m)\u001b[0m    \u001b[0;31m# extract data specified in params dict\u001b[0m\u001b[0;34m\u001b[0m\u001b[0m\n\u001b[0m\u001b[1;32m    183\u001b[0m         \u001b[0mself\u001b[0m\u001b[0;34m.\u001b[0m\u001b[0mprocess_data\u001b[0m\u001b[0;34m(\u001b[0m\u001b[0;34m)\u001b[0m    \u001b[0;31m# binning, filtering etc\u001b[0m\u001b[0;34m\u001b[0m\u001b[0m\n\u001b[1;32m    184\u001b[0m         \u001b[0;32mif\u001b[0m \u001b[0mself\u001b[0m\u001b[0;34m.\u001b[0m\u001b[0mdo_fitting\u001b[0m\u001b[0;34m:\u001b[0m\u001b[0;34m\u001b[0m\u001b[0m\n",
      "\u001b[0;32m~/GitHubRepos/DiCarloLab/PycQED_py3/pycqed/analysis_v2/base_analysis.py\u001b[0m in \u001b[0;36mextract_data\u001b[0;34m(self)\u001b[0m\n\u001b[1;32m    307\u001b[0m                 \u001b[0mma_type\u001b[0m\u001b[0;34m=\u001b[0m\u001b[0mself\u001b[0m\u001b[0;34m.\u001b[0m\u001b[0mma_type\u001b[0m\u001b[0;34m,\u001b[0m\u001b[0;34m\u001b[0m\u001b[0m\n\u001b[1;32m    308\u001b[0m                 \u001b[0mTwoD\u001b[0m\u001b[0;34m=\u001b[0m\u001b[0mTwoD\u001b[0m\u001b[0;34m,\u001b[0m \u001b[0mnumeric_params\u001b[0m\u001b[0;34m=\u001b[0m\u001b[0mself\u001b[0m\u001b[0;34m.\u001b[0m\u001b[0mnumeric_params\u001b[0m\u001b[0;34m,\u001b[0m\u001b[0;34m\u001b[0m\u001b[0m\n\u001b[0;32m--> 309\u001b[0;31m                 filter_no_analysis=self.filter_no_analysis)\n\u001b[0m\u001b[1;32m    310\u001b[0m \u001b[0;34m\u001b[0m\u001b[0m\n\u001b[1;32m    311\u001b[0m             \u001b[0;31m# Use timestamps to calculate datetimes and add to dictionary\u001b[0m\u001b[0;34m\u001b[0m\u001b[0;34m\u001b[0m\u001b[0m\n",
      "\u001b[0;32m~/GitHubRepos/DiCarloLab/PycQED_py3/pycqed/analysis/analysis_toolbox.py\u001b[0m in \u001b[0;36mget_data_from_timestamp_list\u001b[0;34m(timestamps, param_names, TwoD, max_files, filter_no_analysis, numeric_params, ma_type)\u001b[0m\n\u001b[1;32m    509\u001b[0m                         \u001b[0mana\u001b[0m\u001b[0;34m.\u001b[0m\u001b[0mget_naming_and_values_2D\u001b[0m\u001b[0;34m(\u001b[0m\u001b[0;34m)\u001b[0m\u001b[0;34m\u001b[0m\u001b[0m\n\u001b[1;32m    510\u001b[0m                     \u001b[0;32melse\u001b[0m\u001b[0;34m:\u001b[0m\u001b[0;34m\u001b[0m\u001b[0m\n\u001b[0;32m--> 511\u001b[0;31m                         \u001b[0mana\u001b[0m\u001b[0;34m.\u001b[0m\u001b[0mget_naming_and_values\u001b[0m\u001b[0;34m(\u001b[0m\u001b[0;34m)\u001b[0m\u001b[0;34m\u001b[0m\u001b[0m\n\u001b[0m\u001b[1;32m    512\u001b[0m \u001b[0;34m\u001b[0m\u001b[0m\n\u001b[1;32m    513\u001b[0m                     \u001b[0;32mif\u001b[0m \u001b[0;34m'datasaving_format'\u001b[0m \u001b[0;32min\u001b[0m \u001b[0mana\u001b[0m\u001b[0;34m.\u001b[0m\u001b[0mdata_file\u001b[0m\u001b[0;34m[\u001b[0m\u001b[0;34m'Experimental Data'\u001b[0m\u001b[0;34m]\u001b[0m\u001b[0;34m.\u001b[0m\u001b[0mattrs\u001b[0m\u001b[0;34m:\u001b[0m\u001b[0;34m\u001b[0m\u001b[0m\n",
      "\u001b[0;32m~/GitHubRepos/DiCarloLab/PycQED_py3/pycqed/analysis/measurement_analysis.py\u001b[0m in \u001b[0;36mget_naming_and_values\u001b[0;34m(self)\u001b[0m\n\u001b[1;32m    629\u001b[0m             \u001b[0mself\u001b[0m\u001b[0;34m.\u001b[0m\u001b[0mdata\u001b[0m \u001b[0;34m=\u001b[0m \u001b[0mself\u001b[0m\u001b[0;34m.\u001b[0m\u001b[0mget_values\u001b[0m\u001b[0;34m(\u001b[0m\u001b[0;34m'Data'\u001b[0m\u001b[0;34m)\u001b[0m\u001b[0;34m.\u001b[0m\u001b[0mtranspose\u001b[0m\u001b[0;34m(\u001b[0m\u001b[0;34m)\u001b[0m\u001b[0;34m\u001b[0m\u001b[0m\n\u001b[1;32m    630\u001b[0m             \u001b[0;32mif\u001b[0m \u001b[0mlen\u001b[0m\u001b[0;34m(\u001b[0m\u001b[0mself\u001b[0m\u001b[0;34m.\u001b[0m\u001b[0mparameter_names\u001b[0m\u001b[0;34m)\u001b[0m \u001b[0;34m==\u001b[0m \u001b[0;36m1\u001b[0m\u001b[0;34m:\u001b[0m\u001b[0;34m\u001b[0m\u001b[0m\n\u001b[0;32m--> 631\u001b[0;31m                 \u001b[0mself\u001b[0m\u001b[0;34m.\u001b[0m\u001b[0msweep_points\u001b[0m \u001b[0;34m=\u001b[0m \u001b[0mself\u001b[0m\u001b[0;34m.\u001b[0m\u001b[0mdata\u001b[0m\u001b[0;34m[\u001b[0m\u001b[0;36m0\u001b[0m\u001b[0;34m,\u001b[0m \u001b[0;34m:\u001b[0m\u001b[0;34m]\u001b[0m\u001b[0;34m\u001b[0m\u001b[0m\n\u001b[0m\u001b[1;32m    632\u001b[0m             \u001b[0;32melse\u001b[0m\u001b[0;34m:\u001b[0m\u001b[0;34m\u001b[0m\u001b[0m\n\u001b[1;32m    633\u001b[0m                 \u001b[0mself\u001b[0m\u001b[0;34m.\u001b[0m\u001b[0msweep_points\u001b[0m \u001b[0;34m=\u001b[0m \u001b[0mself\u001b[0m\u001b[0;34m.\u001b[0m\u001b[0mdata\u001b[0m\u001b[0;34m[\u001b[0m\u001b[0;36m0\u001b[0m\u001b[0;34m:\u001b[0m\u001b[0mlen\u001b[0m\u001b[0;34m(\u001b[0m\u001b[0mself\u001b[0m\u001b[0;34m.\u001b[0m\u001b[0mparameter_names\u001b[0m\u001b[0;34m)\u001b[0m\u001b[0;34m,\u001b[0m \u001b[0;34m:\u001b[0m\u001b[0;34m]\u001b[0m\u001b[0;34m\u001b[0m\u001b[0m\n",
      "\u001b[0;31mIndexError\u001b[0m: too many indices for array"
     ]
    }
   ],
   "source": [
    "ma2.One_Qubit_Paritycheck_Analysis(options_dict={'post_sel_th_anc':0.5,\n",
    "                                                 'post_sel_th_data':0.5,\n",
    "                                                 'nr_of_meas':rounds+1})"
   ]
  },
  {
   "cell_type": "code",
   "execution_count": null,
   "metadata": {},
   "outputs": [],
   "source": []
  }
 ],
 "metadata": {
  "kernelspec": {
   "display_name": "Python 3",
   "language": "python",
   "name": "python3"
  },
  "language_info": {
   "codemirror_mode": {
    "name": "ipython",
    "version": 3
   },
   "file_extension": ".py",
   "mimetype": "text/x-python",
   "name": "python",
   "nbconvert_exporter": "python",
   "pygments_lexer": "ipython3",
   "version": "3.6.3"
  }
 },
 "nbformat": 4,
 "nbformat_minor": 2
}
