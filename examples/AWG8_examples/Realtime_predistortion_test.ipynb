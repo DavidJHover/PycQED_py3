{
 "cells": [
  {
   "cell_type": "markdown",
   "metadata": {},
   "source": [
    "# Real time predistortion demonstration"
   ]
  },
  {
   "cell_type": "markdown",
   "metadata": {},
   "source": [
    "## Load PycQED"
   ]
  },
  {
   "cell_type": "code",
   "execution_count": 2,
   "metadata": {},
   "outputs": [],
   "source": [
    "from pycqed.instrument_drivers.physical_instruments.ZurichInstruments import ZI_HDAWG8"
   ]
  },
  {
   "cell_type": "markdown",
   "metadata": {},
   "source": [
    "## Connect to the HDAWG device"
   ]
  },
  {
   "cell_type": "markdown",
   "metadata": {},
   "source": [
    "Please replace 'dev8018' by the correct device identifier."
   ]
  },
  {
   "cell_type": "code",
   "execution_count": null,
   "metadata": {},
   "outputs": [],
   "source": [
    "AWG8 = ZI_HDAWG8.ZI_HDAWG8('AWG8_8018', device='dev8018')"
   ]
  },
  {
   "cell_type": "markdown",
   "metadata": {},
   "source": [
    "## Upload SeqC program"
   ]
  },
  {
   "cell_type": "code",
   "execution_count": 3,
   "metadata": {},
   "outputs": [
    {
     "name": "stdout",
     "output_type": "stream",
     "text": [
      "Configuring AWG_nr 0.\n",
      "Compilation started\n",
      "Detected 1 HDAWG sub-devices\n",
      "Compiling string\n",
      "Compilation successful\n",
      "Uploading file to device...\n",
      "File successfully uploaded in 1.83s\n"
     ]
    }
   ],
   "source": [
    "AWG8.configure_awg_from_string(0, '''\n",
    "// Constants\n",
    "const FS = 2.4e9;\n",
    "const PULSE_AMP = 0.5;\n",
    "const PULSE_LENGTH = 5e-6;\n",
    "\n",
    "// Waveform\n",
    "wave w = join(PULSE_AMP*ones(PULSE_LENGTH*FS), zeros(PULSE_LENGTH*FS), -PULSE_AMP*ones(PULSE_LENGTH*FS));\n",
    "\n",
    "while (1) {\n",
    "    // Play waveform on channel 1\n",
    "    playWave(1, w);\n",
    "    setTrigger(1);\n",
    "    setTrigger(0);\n",
    "}    \n",
    "''')"
   ]
  },
  {
   "cell_type": "markdown",
   "metadata": {},
   "source": [
    "## Enable output channel 1"
   ]
  },
  {
   "cell_type": "code",
   "execution_count": 4,
   "metadata": {},
   "outputs": [],
   "source": [
    "AWG8.set('sigouts_0_on', 1)"
   ]
  },
  {
   "cell_type": "markdown",
   "metadata": {},
   "source": [
    "## Start the AWG"
   ]
  },
  {
   "cell_type": "code",
   "execution_count": 5,
   "metadata": {},
   "outputs": [],
   "source": [
    "AWG8.start()"
   ]
  },
  {
   "cell_type": "markdown",
   "metadata": {},
   "source": [
    "## Run the real-time pre-distortion on channel 1"
   ]
  },
  {
   "cell_type": "markdown",
   "metadata": {},
   "source": [
    "### High-pass filter compensation (HPC)\n",
    "\n",
    "* Exponential decay is compensated by linear increase.\n",
    "* Mapping from input $x_n$ to output $y_n$ for each sample with index $n$:\n",
    "  * $y_n = x_n + k(2u_n-x_n)$.\n",
    "* The state variable is $u_n = u_{n-8} + \\bar{x}_n$, where $\\bar{x}_n$ is an average over eight parallel paths. \n",
    "* Parameter $k = 1/(2\\tau f_s$), where $\\tau$ is the time constant and $f_s = 2.4\\;\\mathrm{GSa/s}$ is the sampling rate.\n",
    "* Important: the state variable is only updated every 8th clock cycle of the sample clock, i.e with rate $f_s/8 = 300\\;\\mathrm{MSa/s}$\n"
   ]
  },
  {
   "cell_type": "code",
   "execution_count": 13,
   "metadata": {},
   "outputs": [
    {
     "data": {
      "text/plain": [
       "{'delay_clk_cycles': 17, 'hpc_tau': 2.000144922931213e-05, 'exp_coefs': []}"
      ]
     },
     "execution_count": 13,
     "metadata": {},
     "output_type": "execute_result"
    }
   ],
   "source": [
    "AWG8.run_realtime_predistortion(0, hpc_tau = 20e-6)"
   ]
  },
  {
   "cell_type": "markdown",
   "metadata": {},
   "source": [
    "## Disable real-time pre-distortion again"
   ]
  },
  {
   "cell_type": "code",
   "execution_count": 16,
   "metadata": {
    "scrolled": true
   },
   "outputs": [
    {
     "data": {
      "text/plain": [
       "{'delay_clk_cycles': 0, 'hpc_tau': None, 'exp_coefs': []}"
      ]
     },
     "execution_count": 16,
     "metadata": {},
     "output_type": "execute_result"
    }
   ],
   "source": [
    "AWG8.run_realtime_predistortion(0)"
   ]
  },
  {
   "cell_type": "markdown",
   "metadata": {},
   "source": [
    "### Exponential under- / overshoot compensation (EXP)\n",
    "* Mapping from input $x_n$ to output $y_n$ for each sample with index $n$:\n",
    "   * $y_n = (1 - k) x_n - k u_n$\n",
    "* The state variable is an exponential moving average: $u_n = u_{n-32} + 32\\alpha (\\bar{x}_n - u_{n-32})$, where $\\bar{x}_n$ is an average over 32 consecutive samples. \n",
    "* Important: the state variable is only updated every 8th clock cycle of the sample clock, i.e with rate $f_s/8 = 300\\;\\mathrm{MSa/s}$\n",
    "* Parameters: \n",
    " * $\\alpha = 1 - e^{-1/(f_s\\tau(1+A)}$\n",
    " * $k = \\begin{cases}A/(1 + A - \\alpha) & \\text{, for } A\\geq0\\\\ A/((1+A)(1-\\alpha)) & \\text{, for } A<0\\end{cases}$\n",
    " * where $\\tau$ is the time constant and $A$ the amplitude of the over- / undershoot relative to the pulse amplitude."
   ]
  },
  {
   "cell_type": "code",
   "execution_count": 15,
   "metadata": {},
   "outputs": [
    {
     "data": {
      "text/plain": [
       "{'delay_clk_cycles': 31,\n",
       " 'hpc_tau': 2.000144922931213e-05,\n",
       " 'exp_coefs': [{'tau': 1.9999999949504854e-06, 'amp': -0.009999999776482582}]}"
      ]
     },
     "execution_count": 15,
     "metadata": {},
     "output_type": "execute_result"
    }
   ],
   "source": [
    "AWG8.run_realtime_predistortion(0, hpc_tau = 20e-6, exp_coefs=[\n",
    "    {'tau' : 2e-6, 'amp' : -0.01}\n",
    "])"
   ]
  },
  {
   "cell_type": "markdown",
   "metadata": {},
   "source": [
    "### Multiple EXP filters"
   ]
  },
  {
   "cell_type": "code",
   "execution_count": 11,
   "metadata": {},
   "outputs": [
    {
     "data": {
      "text/plain": [
       "{'delay_clk_cycles': 45,\n",
       " 'hpc_tau': 2.000144922931213e-05,\n",
       " 'exp_coefs': [{'tau': 1.9999999949504854e-06, 'amp': 0.009999999776482582},\n",
       "  {'tau': 1.9999999949504854e-06, 'amp': -0.009999999776482582}]}"
      ]
     },
     "execution_count": 11,
     "metadata": {},
     "output_type": "execute_result"
    }
   ],
   "source": [
    "AWG8.run_realtime_predistortion(0, hpc_tau = 20e-6, exp_coefs=[\n",
    "    {'tau' : 2e-6, 'amp' : 0.01},\n",
    "    {'tau' : 2e-6, 'amp' : -0.01}\n",
    "])"
   ]
  },
  {
   "cell_type": "code",
   "execution_count": 19,
   "metadata": {},
   "outputs": [
    {
     "data": {
      "text/plain": [
       "{'delay_clk_cycles': 45,\n",
       " 'hpc_tau': 2.000144922931213e-05,\n",
       " 'exp_coefs': [{'tau': 1.9999999949504854e-06, 'amp': 0.009999999776482582},\n",
       "  {'tau': 9.999999974752427e-07, 'amp': -0.004999999888241291}]}"
      ]
     },
     "execution_count": 19,
     "metadata": {},
     "output_type": "execute_result"
    }
   ],
   "source": [
    "AWG8.run_realtime_predistortion(0, hpc_tau = 20e-6, exp_coefs=[\n",
    "    {'tau' : 2e-6, 'amp' : 0.01},\n",
    "    {'tau' : 1e-6, 'amp' : -0.005}\n",
    "])"
   ]
  }
 ],
 "metadata": {
  "kernelspec": {
   "display_name": "Python 3",
   "language": "python",
   "name": "python3"
  }
 },
 "nbformat": 4,
 "nbformat_minor": 2
}
