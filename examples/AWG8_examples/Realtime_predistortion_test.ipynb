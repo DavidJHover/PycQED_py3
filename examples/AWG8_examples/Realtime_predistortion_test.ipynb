{
 "cells": [
  {
   "cell_type": "markdown",
   "metadata": {},
   "source": [
    "# Real time predistortion demonstration"
   ]
  },
  {
   "cell_type": "markdown",
   "metadata": {},
   "source": [
    "## Load PycQED"
   ]
  },
  {
   "cell_type": "code",
   "execution_count": 1,
   "metadata": {},
   "outputs": [],
   "source": [
    "from pycqed.instrument_drivers.physical_instruments.ZurichInstruments import ZI_HDAWG8"
   ]
  },
  {
   "cell_type": "markdown",
   "metadata": {},
   "source": [
    "## Connect to the HDAWG device"
   ]
  },
  {
   "cell_type": "code",
   "execution_count": 2,
   "metadata": {},
   "outputs": [
    {
     "name": "stdout",
     "output_type": "stream",
     "text": [
      "Connecting to server on host localhost:8004 using API level 5\n",
      "Trying to connect to device dev8018\n",
      "Connected to device dev8018 over 1GbE\n",
      "Initialized awgModule\n",
      "Initialized scopeModule\n",
      "Connected to: ZurichInstruments HDAWG8 (serial:dev8018, firmware:53503) in 1.70s\n"
     ]
    }
   ],
   "source": [
    "AWG8 = ZI_HDAWG8.ZI_HDAWG8('AWG8_8018', device='dev8018')"
   ]
  },
  {
   "cell_type": "markdown",
   "metadata": {},
   "source": [
    "## Upload SeqC program"
   ]
  },
  {
   "cell_type": "code",
   "execution_count": 3,
   "metadata": {},
   "outputs": [
    {
     "name": "stdout",
     "output_type": "stream",
     "text": [
      "Configuring AWG_nr 0.\n",
      "Compilation started\n",
      "Detected 1 HDAWG sub-devices\n",
      "Compiling string\n",
      "Compilation successful\n",
      "Uploading file to device...\n",
      "File successfully uploaded in 1.69s\n"
     ]
    }
   ],
   "source": [
    "AWG8.configure_awg_from_string(0, '''\n",
    "// Constants\n",
    "const FS = 2.4e9;\n",
    "const PULSE_AMP = 0.5;\n",
    "const PULSE_LENGTH = 5e-6;\n",
    "\n",
    "// Waveform\n",
    "wave w = join(PULSE_AMP*ones(PULSE_LENGTH*FS), zeros(PULSE_LENGTH*FS), -PULSE_AMP*ones(PULSE_LENGTH*FS));\n",
    "\n",
    "while (1) {\n",
    "    // Play waveform on channel 1\n",
    "    playWave(1, w);\n",
    "    setTrigger(1);\n",
    "    setTrigger(0);\n",
    "}    \n",
    "''')"
   ]
  },
  {
   "cell_type": "markdown",
   "metadata": {},
   "source": [
    "## Enable output channel 1"
   ]
  },
  {
   "cell_type": "code",
   "execution_count": 4,
   "metadata": {},
   "outputs": [],
   "source": [
    "AWG8.set('sigouts_0_on', 1)"
   ]
  },
  {
   "cell_type": "markdown",
   "metadata": {},
   "source": [
    "## Start the AWG"
   ]
  },
  {
   "cell_type": "code",
   "execution_count": 5,
   "metadata": {},
   "outputs": [],
   "source": [
    "AWG8.start()"
   ]
  },
  {
   "cell_type": "markdown",
   "metadata": {},
   "source": [
    "## Run the real-time pre-distortion on channel 1"
   ]
  },
  {
   "cell_type": "code",
   "execution_count": 6,
   "metadata": {},
   "outputs": [
    {
     "data": {
      "text/plain": [
       "{'delay_clk_cycles': 17, 'hpc_tau': 9.999830581364222e-06, 'exp_coefs': []}"
      ]
     },
     "execution_count": 6,
     "metadata": {},
     "output_type": "execute_result"
    }
   ],
   "source": [
    "AWG8.run_realtime_predistortion(0, hpc_tau = 10e-6)"
   ]
  },
  {
   "cell_type": "code",
   "execution_count": 7,
   "metadata": {},
   "outputs": [
    {
     "data": {
      "text/plain": [
       "{'delay_clk_cycles': 0, 'hpc_tau': None, 'exp_coefs': []}"
      ]
     },
     "execution_count": 7,
     "metadata": {},
     "output_type": "execute_result"
    }
   ],
   "source": [
    "AWG8.run_realtime_predistortion(0)"
   ]
  },
  {
   "cell_type": "code",
   "execution_count": 10,
   "metadata": {},
   "outputs": [
    {
     "data": {
      "text/plain": [
       "{'delay_clk_cycles': 73,\n",
       " 'hpc_tau': 3.930010643671267e-05,\n",
       " 'exp_coefs': [{'tau': 6.300000222836388e-06, 'amp': 1.3799999952316284},\n",
       "  {'tau': 4.500000159168849e-06, 'amp': 1.3799999952316284},\n",
       "  {'tau': 1.3200000239521614e-06, 'amp': 0.004800000227987766},\n",
       "  {'tau': 3.3899999607456266e-07, 'amp': -0.007400000002235174}]}"
      ]
     },
     "execution_count": 10,
     "metadata": {},
     "output_type": "execute_result"
    }
   ],
   "source": [
    "AWG8.run_realtime_predistortion(0, hpc_tau = 39.3e-6, exp_coefs=[\n",
    "    {'tau' : 6.3e-6, 'amp' : 1.38},\n",
    "    {'tau' : 4.5e-6, 'amp' : 1.38},\n",
    "    {'tau' : 1.32e-6, 'amp' : 0.0048},\n",
    "    {'tau' : 0.339e-6, 'amp' : -0.0074}])"
   ]
  },
  {
   "cell_type": "code",
   "execution_count": 9,
   "metadata": {},
   "outputs": [
    {
     "data": {
      "text/plain": [
       "{'delay_clk_cycles': 60,\n",
       " 'hpc_tau': None,\n",
       " 'exp_coefs': [{'tau': 1.3000000080864993e-06, 'amp': 1.3799999952316284},\n",
       "  {'tau': 2.499999936844688e-06, 'amp': 1.3799999952316284},\n",
       "  {'tau': 1.3200000239521614e-06, 'amp': 0.004800000227987766},\n",
       "  {'tau': 3.3899999607456266e-07, 'amp': -0.007400000002235174}]}"
      ]
     },
     "execution_count": 9,
     "metadata": {},
     "output_type": "execute_result"
    }
   ],
   "source": [
    "AWG8.run_realtime_predistortion(0, exp_coefs=[\n",
    "    {'tau' : 1.3e-6, 'amp' : 1.38},\n",
    "    {'tau' : 2.5e-6, 'amp' : 1.38},\n",
    "    {'tau' : 1.32e-6, 'amp' : 0.0048},\n",
    "    {'tau' : 0.339e-6, 'amp' : -0.0074}])"
   ]
  },
  {
   "cell_type": "code",
   "execution_count": null,
   "metadata": {},
   "outputs": [],
   "source": [
    "AWG8.run_realtime_predistortion(0, exp_coefs=[\n",
    "    {'tau' : 1.3e-6, 'amp' : 1.38},\n",
    "    {'tau' : 2.5e-6, 'amp' : 1.38},\n",
    "    {'tau' : 1.32e-6, 'amp' : 0.0048},\n",
    "    {'tau' : 0.339e-6, 'amp' : -0.0074}])"
   ]
  },
  {
   "cell_type": "code",
   "execution_count": null,
   "metadata": {},
   "outputs": [],
   "source": []
  }
 ],
 "metadata": {
  "kernelspec": {
   "display_name": "Python 3",
   "language": "python",
   "name": "python3"
  },
  "language_info": {
   "codemirror_mode": {
    "name": "ipython",
    "version": 3
   },
   "file_extension": ".py",
   "mimetype": "text/x-python",
   "name": "python",
   "nbconvert_exporter": "python",
   "pygments_lexer": "ipython3",
   "version": "3.6.5"
  }
 },
 "nbformat": 4,
 "nbformat_minor": 2
}
