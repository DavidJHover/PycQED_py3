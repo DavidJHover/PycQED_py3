{
 "cells": [
  {
   "cell_type": "markdown",
   "metadata": {},
   "source": [
    "# Real time predistortion demonstration"
   ]
  },
  {
   "cell_type": "markdown",
   "metadata": {},
   "source": [
    "## Load PycQED"
   ]
  },
  {
   "cell_type": "code",
   "execution_count": 1,
   "metadata": {},
   "outputs": [],
   "source": [
    "from pycqed.instrument_drivers.physical_instruments.ZurichInstruments import ZI_HDAWG8\n",
    "from pycqed.measurement.kernel_functions_ZI import *"
   ]
  },
  {
   "cell_type": "markdown",
   "metadata": {},
   "source": [
    "## Load libraries for plotting and fitting"
   ]
  },
  {
   "cell_type": "code",
   "execution_count": 2,
   "metadata": {},
   "outputs": [],
   "source": [
    "import numpy as np\n",
    "import matplotlib as mpl\n",
    "import matplotlib.pyplot as plt\n",
    "from scipy import signal\n",
    "from scipy.optimize import minimize"
   ]
  },
  {
   "cell_type": "markdown",
   "metadata": {},
   "source": [
    "## Connect to the HDAWG device"
   ]
  },
  {
   "cell_type": "markdown",
   "metadata": {},
   "source": [
    "Please replace 'dev8018' by the correct device identifier."
   ]
  },
  {
   "cell_type": "code",
   "execution_count": 3,
   "metadata": {},
   "outputs": [
    {
     "name": "stdout",
     "output_type": "stream",
     "text": [
      "Connecting to server on host localhost:8004 using API level 5\n",
      "Trying to connect to device dev8018\n",
      "Connected to device dev8018 over 1GbE\n",
      "Initialized awgModule\n",
      "Initialized scopeModule\n",
      "Connected to: ZurichInstruments HDAWG8 (serial:dev8018, firmware:53959) in 2.18s\n"
     ]
    }
   ],
   "source": [
    "AWG8 = ZI_HDAWG8.ZI_HDAWG8('AWG8_8018', device='dev8018')"
   ]
  },
  {
   "cell_type": "markdown",
   "metadata": {},
   "source": [
    "## Upload SeqC program"
   ]
  },
  {
   "cell_type": "code",
   "execution_count": 4,
   "metadata": {},
   "outputs": [
    {
     "name": "stdout",
     "output_type": "stream",
     "text": [
      "Configuring AWG_nr 0.\n",
      "Compilation started\n",
      "Detected 1 HDAWG sub-devices\n",
      "Compiling string\n",
      "Compilation successful\n",
      "Uploading file to device...\n",
      "File successfully uploaded in 1.68s\n"
     ]
    }
   ],
   "source": [
    "AWG8.configure_awg_from_string(0, '''\n",
    "// Constants\n",
    "const FS = 2.4e9;\n",
    "const PULSE_AMP = 0.5;\n",
    "const PULSE_LENGTH = 5e-6;\n",
    "\n",
    "// Waveform\n",
    "wave w = join(PULSE_AMP*ones(PULSE_LENGTH*FS), zeros(PULSE_LENGTH*FS), -PULSE_AMP*ones(PULSE_LENGTH*FS), zeros(PULSE_LENGTH*FS));\n",
    "\n",
    "while (1) {\n",
    "    // Play waveform on channel 1\n",
    "    playWave(1, w);\n",
    "    setTrigger(1);\n",
    "    setTrigger(0);\n",
    "}    \n",
    "''')"
   ]
  },
  {
   "cell_type": "markdown",
   "metadata": {},
   "source": [
    "## Enable output channel 1"
   ]
  },
  {
   "cell_type": "code",
   "execution_count": 5,
   "metadata": {},
   "outputs": [],
   "source": [
    "AWG8.set('sigouts_0_on', 1)"
   ]
  },
  {
   "cell_type": "markdown",
   "metadata": {},
   "source": [
    "## Start the AWG"
   ]
  },
  {
   "cell_type": "code",
   "execution_count": 6,
   "metadata": {},
   "outputs": [],
   "source": [
    "AWG8.start()"
   ]
  },
  {
   "cell_type": "markdown",
   "metadata": {},
   "source": [
    "## Run the real-time pre-distortion on channel 1"
   ]
  },
  {
   "cell_type": "markdown",
   "metadata": {},
   "source": [
    "### High-pass filter compensation (HPC)\n",
    "\n",
    "* Exponential decay is compensated by linear increase.\n",
    "* Mapping from input $x_n$ to output $y_n$ for each sample with index $n$:\n",
    "  * $y_n = x_n + k(2u_n-x_n)$.\n",
    "* The state variable is $u_n = u_{n-8} + \\bar{x}_n$, where $\\bar{x}_n$ is an average over eight parallel paths. \n",
    "* Parameter $k = 1/(2\\tau f_s$), where $\\tau$ is the time constant and $f_s = 2.4\\;\\mathrm{GSa/s}$ is the sampling rate.\n",
    "* Important: the state variable is only updated every 8th clock cycle of the sample clock, i.e with rate $f_s/8 = 300\\;\\mathrm{MSa/s}$\n"
   ]
  },
  {
   "cell_type": "markdown",
   "metadata": {},
   "source": [
    "Set the time constant of the high-pass filter compensation:"
   ]
  },
  {
   "cell_type": "code",
   "execution_count": 50,
   "metadata": {},
   "outputs": [],
   "source": [
    "AWG8.set('sigouts_0_compensations_hpcs_0_timeconstant', 10e-6)"
   ]
  },
  {
   "cell_type": "markdown",
   "metadata": {},
   "source": [
    "Enable the high-pass filter compensations:"
   ]
  },
  {
   "cell_type": "code",
   "execution_count": 51,
   "metadata": {},
   "outputs": [],
   "source": [
    "AWG8.set('sigouts_0_compensations_hpcs_0_enable', 1)"
   ]
  },
  {
   "cell_type": "markdown",
   "metadata": {},
   "source": [
    "Check, whether the high-pass filter compensation overflowed (0 = no overflow, 1 = overflow detected):"
   ]
  },
  {
   "cell_type": "code",
   "execution_count": 11,
   "metadata": {},
   "outputs": [
    {
     "data": {
      "text/plain": [
       "0"
      ]
     },
     "execution_count": 11,
     "metadata": {},
     "output_type": "execute_result"
    }
   ],
   "source": [
    "AWG8.get('sigouts_0_compensations_hpcs_0_status')"
   ]
  },
  {
   "cell_type": "markdown",
   "metadata": {},
   "source": [
    "Note: the overflow status will be cleared when disabling the HPC filter."
   ]
  },
  {
   "cell_type": "markdown",
   "metadata": {},
   "source": [
    "Disable real-time pre-distortion again:"
   ]
  },
  {
   "cell_type": "code",
   "execution_count": 12,
   "metadata": {
    "scrolled": true
   },
   "outputs": [],
   "source": [
    "AWG8.set('sigouts_0_compensations_hpcs_0_enable', 0)"
   ]
  },
  {
   "cell_type": "markdown",
   "metadata": {},
   "source": [
    "### Exponential under- / overshoot compensation (EXP)\n",
    "* Mapping from input $x_n$ to output $y_n$ for each sample with index $n$:\n",
    "   * $y_n = (1 - k) x_n + k u_n$\n",
    "* The state variable is an exponential moving average: $u_n = u_{n-32} + 32\\alpha (\\bar{x}_n - u_{n-32})$, where $\\bar{x}_n$ is an average over 32 consecutive samples. \n",
    "* Important: the state variable is only updated every 8th clock cycle of the sample clock, i.e with rate $f_s/8 = 300\\;\\mathrm{MSa/s}$\n",
    "* Parameters: \n",
    " * $\\alpha = 1 - e^{-1/(f_s\\tau(1+A)}$\n",
    " * $k = \\begin{cases}A/(1 + A - \\alpha) & \\text{, for } A\\geq0\\\\ A/((1+A)(1-\\alpha)) & \\text{, for } A<0\\end{cases}$\n",
    " * where $\\tau$ is the time constant and $A$ the amplitude of the over- / undershoot relative to the pulse amplitude."
   ]
  },
  {
   "cell_type": "code",
   "execution_count": 13,
   "metadata": {},
   "outputs": [],
   "source": [
    "AWG8.set('sigouts_0_compensations_exps_0_timeconstant', 1e-6)"
   ]
  },
  {
   "cell_type": "code",
   "execution_count": 14,
   "metadata": {},
   "outputs": [],
   "source": [
    "AWG8.set('sigouts_0_compensations_exps_0_amplitude', 0.25)"
   ]
  },
  {
   "cell_type": "code",
   "execution_count": 15,
   "metadata": {},
   "outputs": [],
   "source": [
    "AWG8.set('sigouts_0_compensations_exps_0_enable', 1)"
   ]
  },
  {
   "cell_type": "markdown",
   "metadata": {},
   "source": [
    "### Multiple EXP filters"
   ]
  },
  {
   "cell_type": "markdown",
   "metadata": {},
   "source": [
    "Here we activate an additional EXP filter with index 1:"
   ]
  },
  {
   "cell_type": "code",
   "execution_count": 16,
   "metadata": {},
   "outputs": [],
   "source": [
    "AWG8.set('sigouts_0_compensations_exps_1_timeconstant', 1e-6)"
   ]
  },
  {
   "cell_type": "code",
   "execution_count": 17,
   "metadata": {},
   "outputs": [],
   "source": [
    "AWG8.set('sigouts_0_compensations_exps_1_amplitude', -0.25)"
   ]
  },
  {
   "cell_type": "code",
   "execution_count": 18,
   "metadata": {},
   "outputs": [],
   "source": [
    "AWG8.set('sigouts_0_compensations_exps_1_enable', 1)"
   ]
  },
  {
   "cell_type": "markdown",
   "metadata": {},
   "source": [
    "Disable all EXP filters again:"
   ]
  },
  {
   "cell_type": "code",
   "execution_count": 19,
   "metadata": {},
   "outputs": [],
   "source": [
    "AWG8.set('sigouts_0_compensations_exps_0_enable', 0)\n",
    "AWG8.set('sigouts_0_compensations_exps_1_enable', 0)"
   ]
  },
  {
   "cell_type": "markdown",
   "metadata": {},
   "source": [
    "## Bounce correction"
   ]
  },
  {
   "cell_type": "code",
   "execution_count": 47,
   "metadata": {},
   "outputs": [],
   "source": [
    "AWG8.set('sigouts_0_compensations_bcs_0_delay', 11.1e-9-0.444e-9)"
   ]
  },
  {
   "cell_type": "code",
   "execution_count": 48,
   "metadata": {},
   "outputs": [],
   "source": [
    "AWG8.set('sigouts_0_compensations_bcs_0_amplitude', 0.285)"
   ]
  },
  {
   "cell_type": "code",
   "execution_count": 55,
   "metadata": {},
   "outputs": [],
   "source": [
    "AWG8.set('sigouts_0_compensations_bcs_0_enable', 1)"
   ]
  },
  {
   "cell_type": "markdown",
   "metadata": {},
   "source": [
    "Disable the bounce correction again:"
   ]
  },
  {
   "cell_type": "code",
   "execution_count": 54,
   "metadata": {},
   "outputs": [],
   "source": [
    "AWG8.set('sigouts_0_compensations_bcs_0_enable', 0)"
   ]
  },
  {
   "cell_type": "markdown",
   "metadata": {},
   "source": [
    "### Load measured bounce"
   ]
  },
  {
   "cell_type": "code",
   "execution_count": 27,
   "metadata": {},
   "outputs": [
    {
     "data": {
      "image/png": "[encoded data removed]",
      "text/plain": [
       "<matplotlib.figure.Figure at 0x20c21807748>"
      ]
     },
     "metadata": {},
     "output_type": "display_data"
    }
   ],
   "source": [
    "data = np.loadtxt('RefCurve_2018-07-04_3_184432.Wfm.csv', delimiter=';')\n",
    "plt.plot(data[:,0]*1e9, data[:,1])\n",
    "plt.xlabel('Time, t (ns)')\n",
    "plt.ylabel('Voltage (V)')\n",
    "plt.tight_layout()\n",
    "\n",
    "plt.show()"
   ]
  },
  {
   "cell_type": "markdown",
   "metadata": {},
   "source": [
    "Determine scope sample rate:"
   ]
  },
  {
   "cell_type": "code",
   "execution_count": 9,
   "metadata": {},
   "outputs": [],
   "source": [
    "scope_sample_rate = 1/(data[1,0]-data[0,0])"
   ]
  },
  {
   "cell_type": "markdown",
   "metadata": {},
   "source": [
    "Define ideal step response"
   ]
  },
  {
   "cell_type": "code",
   "execution_count": 10,
   "metadata": {},
   "outputs": [
    {
     "data": {
      "image/png": "[encoded data removed]",
      "text/plain": [
       "<matplotlib.figure.Figure at 0x20c216cf908>"
      ]
     },
     "metadata": {},
     "output_type": "display_data"
    }
   ],
   "source": [
    "threshold = 0.15\n",
    "step_response = data[0,1]*np.ones(len(data))\n",
    "step_response[data[:,1] > threshold] = data[-1,1]\n",
    "\n",
    "plt.plot(data[:,0]*1e9, data[:,1])\n",
    "plt.plot(data[:,0]*1e9, step_response)\n",
    "plt.xlabel('Time, t (ns)')\n",
    "plt.ylabel('Voltage (V)')\n",
    "plt.tight_layout()\n",
    "\n",
    "plt.show()"
   ]
  },
  {
   "cell_type": "markdown",
   "metadata": {},
   "source": [
    "Fit correction:"
   ]
  },
  {
   "cell_type": "code",
   "execution_count": 11,
   "metadata": {},
   "outputs": [],
   "source": [
    "bnds = ((0.4e-9, 103e-9), (-1, 1))"
   ]
  },
  {
   "cell_type": "code",
   "execution_count": 12,
   "metadata": {},
   "outputs": [
    {
     "data": {
      "text/plain": [
       "1.03e-07"
      ]
     },
     "execution_count": 12,
     "metadata": {},
     "output_type": "execute_result"
    }
   ],
   "source": [
    "bnds[0][1]"
   ]
  },
  {
   "cell_type": "code",
   "execution_count": 13,
   "metadata": {},
   "outputs": [],
   "source": [
    "def objective_func(params):\n",
    "    pred_corr = first_order_bounce_corr(data[:,1], min(max(params[0], bnds[0][0]), bnds[0][1]), params[1], 2.4e9, scope_sample_rate)\n",
    "    step_response = pred_corr[0]*np.ones(len(pred_corr))\n",
    "    step_response[pred_corr > threshold] = pred_corr[-1]\n",
    "    penalty = 0 if bnds[0][0] < params[0] < bnds[0][1] else 10\n",
    "    return np.mean(np.abs(pred_corr-step_response)) + penalty"
   ]
  },
  {
   "cell_type": "code",
   "execution_count": 14,
   "metadata": {},
   "outputs": [],
   "source": [
    "opt = minimize(objective_func, (10e-9, 0.3), method='Nelder-Mead')"
   ]
  },
  {
   "cell_type": "code",
   "execution_count": 15,
   "metadata": {},
   "outputs": [
    {
     "data": {
      "text/plain": [
       " final_simplex: (array([[  1.11110840e-08,   2.85688477e-01],\n",
       "       [  1.11230927e-08,   2.85596008e-01],\n",
       "       [  1.10671997e-08,   2.85721436e-01]]), array([ 0.00206496,  0.00206496,  0.00206496]))\n",
       "           fun: 0.0020649574212031939\n",
       "       message: 'Optimization terminated successfully.'\n",
       "          nfev: 40\n",
       "           nit: 19\n",
       "        status: 0\n",
       "       success: True\n",
       "             x: array([  1.11110840e-08,   2.85688477e-01])"
      ]
     },
     "execution_count": 15,
     "metadata": {},
     "output_type": "execute_result"
    }
   ],
   "source": [
    "opt"
   ]
  },
  {
   "cell_type": "code",
   "execution_count": 58,
   "metadata": {},
   "outputs": [],
   "source": [
    "pred_corr = first_order_bounce_corr(data[:,1], opt.x[0]-0.444e-9, opt.x[1], 2.4e9, scope_sample_rate)\n",
    "step_response = pred_corr[0]*np.ones(len(pred_corr))\n",
    "step_response[pred_corr > threshold] = pred_corr[-1]"
   ]
  },
  {
   "cell_type": "code",
   "execution_count": 59,
   "metadata": {},
   "outputs": [
    {
     "data": {
      "image/png": "[encoded data removed]",
      "text/plain": [
       "<matplotlib.figure.Figure at 0x20c22c28198>"
      ]
     },
     "metadata": {},
     "output_type": "display_data"
    }
   ],
   "source": [
    "plt.plot(data[:,0]*1e9, pred_corr)\n",
    "plt.plot(data[:,0]*1e9, step_response)\n",
    "plt.xlabel('Time, t (ns)')\n",
    "plt.ylabel('Voltage (V)')\n",
    "plt.tight_layout()\n",
    "\n",
    "plt.show()"
   ]
  },
  {
   "cell_type": "markdown",
   "metadata": {},
   "source": [
    "### Load measured correction and compare"
   ]
  },
  {
   "cell_type": "code",
   "execution_count": 32,
   "metadata": {},
   "outputs": [
    {
     "data": {
      "image/png": "[encoded data removed]",
      "text/plain": [
       "<matplotlib.figure.Figure at 0x20c22c43390>"
      ]
     },
     "metadata": {},
     "output_type": "display_data"
    }
   ],
   "source": [
    "data_corr = np.loadtxt('RefCurve_2018-07-04_4_192353.Wfm.csv', delimiter=';')\n",
    "plt.plot(data[:,0]*1e9, data[:,1], label='No correction')\n",
    "plt.plot(data[:,0]*1e9, data_corr[:,1], label='Realt-time bounce correction')\n",
    "plt.xlabel('Time, t (ns)')\n",
    "plt.ylabel('Voltage (V)')\n",
    "plt.tight_layout()\n",
    "plt.legend()\n",
    "plt.savefig('bounce_correction_measurements.png',dpi=600,bbox_inches='tight')\n",
    "plt.show()"
   ]
  },
  {
   "cell_type": "markdown",
   "metadata": {},
   "source": [
    "## Update parameter file"
   ]
  },
  {
   "cell_type": "code",
   "execution_count": 3,
   "metadata": {
    "scrolled": true
   },
   "outputs": [
    {
     "name": "stdout",
     "output_type": "stream",
     "text": [
      "Help on method create_parameter_file in module pycqed.instrument_drivers.physical_instruments.ZurichInstruments.ZI_base_instrument:\n",
      "\n",
      "create_parameter_file() method of pycqed.instrument_drivers.physical_instruments.ZurichInstruments.ZI_HDAWG8.ZI_HDAWG8 instance\n",
      "    This generates a json file Containing the node_docs as extracted\n",
      "    from the ZI instrument API.\n",
      "    \n",
      "    In the future this file (instead of the s_node_pars and d_node_pars)\n",
      "    should be used to generate the drivers.\n",
      "\n"
     ]
    }
   ],
   "source": [
    "help(AWG8.create_parameter_file)"
   ]
  },
  {
   "cell_type": "code",
   "execution_count": 33,
   "metadata": {},
   "outputs": [],
   "source": [
    "AWG8.create_parameter_file()"
   ]
  }
 ],
 "metadata": {
  "kernelspec": {
   "display_name": "Python 3",
   "language": "python",
   "name": "python3"
  },
  "language_info": {
   "codemirror_mode": {
    "name": "ipython",
    "version": 3
   },
   "file_extension": ".py",
   "mimetype": "text/x-python",
   "name": "python",
   "nbconvert_exporter": "python",
   "pygments_lexer": "ipython3",
   "version": "3.6.5"
  }
 },
 "nbformat": 4,
 "nbformat_minor": 2
}
