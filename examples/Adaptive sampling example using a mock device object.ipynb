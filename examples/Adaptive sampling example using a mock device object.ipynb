{
 "cells": [
  {
   "cell_type": "code",
   "execution_count": null,
   "metadata": {},
   "outputs": [],
   "source": [
    "%matplotlib inline\n",
    "import adaptive\n",
    "import matplotlib.pyplot as plt\n",
    "import pycqed as pq\n",
    "import numpy as np\n",
    "from pycqed.measurement import measurement_control\n",
    "import pycqed.measurement.detector_functions as det\n",
    "from qcodes import station\n",
    "station = station.Station()\n"
   ]
  },
  {
   "cell_type": "markdown",
   "metadata": {},
   "source": [
    "## Setting up the mock device\n",
    "\n",
    "Measurements are controlled through the `MeasurementControl` usually instantiated as `MC`"
   ]
  },
  {
   "cell_type": "code",
   "execution_count": null,
   "metadata": {},
   "outputs": [],
   "source": [
    "from pycqed.instrument_drivers.virtual_instruments.mock_device import Mock_Device\n",
    "MC = measurement_control.MeasurementControl('MC',live_plot_enabled=True, verbose=True)\n",
    "MC.station = station\n",
    "station.add_component(MC)\n",
    "\n",
    "mock_device = Mock_Device('mock_device')\n",
    "mock_device.mw_pow(-20)\n",
    "mock_device.res_freq(7.4e9)\n"
   ]
  },
  {
   "cell_type": "markdown",
   "metadata": {},
   "source": [
    "## Measuring a resonator using the conventional method"
   ]
  },
  {
   "cell_type": "code",
   "execution_count": null,
   "metadata": {},
   "outputs": [],
   "source": [
    "mock_device.cw_noise_level(.01)"
   ]
  },
  {
   "cell_type": "code",
   "execution_count": null,
   "metadata": {},
   "outputs": [],
   "source": [
    "freqs = np.arange(7.4e9-1e6, 7.4e9+1e6, 10e3)\n",
    "\n",
    "d = det.Function_Detector(mock_device.S21,value_names=['Magn', 'Phase'], value_units=['V', 'deg'])\n",
    "MC.set_sweep_function(mock_device.mw_freq)\n",
    "MC.set_sweep_points(freqs)\n",
    "MC.set_detector_function(d)\n",
    "dat=MC.run('test')"
   ]
  },
  {
   "cell_type": "code",
   "execution_count": null,
   "metadata": {},
   "outputs": [],
   "source": [
    "freqs = np.arange(7.4e9-1e6, 7.4e9+1e6, 10e3)\n",
    "\n",
    "mock_device.acq_type('magn')\n",
    "d = det.Function_Detector(mock_device.S21,value_names=['Magn'], value_units=['V'])\n",
    "MC.set_sweep_function(mock_device.mw_freq)\n",
    "MC.set_sweep_points(freqs)\n",
    "MC.set_detector_function(d)\n",
    "dat=MC.run('test')"
   ]
  },
  {
   "cell_type": "markdown",
   "metadata": {},
   "source": [
    "## Using adaptive sampling"
   ]
  },
  {
   "cell_type": "markdown",
   "metadata": {},
   "source": [
    "learner = adaptive.Learner1D(f, bounds=(-1, 1))"
   ]
  },
  {
   "cell_type": "code",
   "execution_count": null,
   "metadata": {},
   "outputs": [],
   "source": [
    "def my_func(f):\n",
    "    mock_device.mw_freq(f)\n",
    "    return mock_device.S21()"
   ]
  },
  {
   "cell_type": "code",
   "execution_count": null,
   "metadata": {},
   "outputs": [],
   "source": [
    "mock_device.cw_noise_level(0.001)"
   ]
  },
  {
   "cell_type": "code",
   "execution_count": null,
   "metadata": {},
   "outputs": [],
   "source": [
    "adaptive.notebook_extension()\n",
    "learner = adaptive.Learner1D(my_func, bounds=(7.39e9, 7.41e9))\n",
    "# The end condition is when the \"loss\" is less than 0.1. In the context of the\n",
    "# 1D learner this means that we will resolve features in 'func' with width 0.1 or wider.\n",
    "runner = adaptive.Runner(learner, goal=lambda l: l.loss() < 0.005)\n",
    "runner.live_info()"
   ]
  },
  {
   "cell_type": "code",
   "execution_count": null,
   "metadata": {},
   "outputs": [],
   "source": [
    "runner.live_plot(update_interval=1)"
   ]
  },
  {
   "cell_type": "markdown",
   "metadata": {},
   "source": [
    "## Two D learner"
   ]
  },
  {
   "cell_type": "code",
   "execution_count": null,
   "metadata": {},
   "outputs": [],
   "source": [
    "def my_func(fpow):\n",
    "    f, pow = fpow\n",
    "    mock_device.mw_freq(f)\n",
    "    mock_device.mw_pow(pow)\n",
    "    return mock_device.S21()"
   ]
  },
  {
   "cell_type": "code",
   "execution_count": null,
   "metadata": {},
   "outputs": [],
   "source": [
    "mock_device.cw_noise_level(0.004)"
   ]
  },
  {
   "cell_type": "code",
   "execution_count": null,
   "metadata": {},
   "outputs": [],
   "source": [
    "adaptive.notebook_extension()\n",
    "learner = adaptive.Learner2D(my_func, bounds=((7.35e9, 7.45e9), (-30, -10)))\n",
    "# The end condition is when the \"loss\" is less than 0.1. In the context of the\n",
    "# 1D learner this means that we will resolve features in 'func' with width 0.1 or wider.\n",
    "# learner = adaptive.Learner2D(my_func, bounds=[(-1, 1), (-1, 1)])\n",
    "runner = adaptive.Runner(learner, goal=lambda l: l.loss() < 0.0005)\n",
    "runner.live_info()"
   ]
  },
  {
   "cell_type": "code",
   "execution_count": null,
   "metadata": {},
   "outputs": [],
   "source": [
    "def plot(learner):\n",
    "    plot = learner.plot(tri_alpha=0.2)\n",
    "    title = f'loss={learner._loss:.3f}, n_points={learner.npoints}'\n",
    "    return (plot.Image\n",
    "            + plot.EdgePaths.I.opts(plot=dict(title_format=title))\n",
    "            + plot)\n",
    "\n",
    "runner.live_plot(plotter=plot, update_interval=15)"
   ]
  },
  {
   "cell_type": "code",
   "execution_count": null,
   "metadata": {},
   "outputs": [],
   "source": []
  }
 ],
 "metadata": {
  "language_info": {
   "name": "python",
   "pygments_lexer": "ipython3"
  }
 },
 "nbformat": 4,
 "nbformat_minor": 2
}
