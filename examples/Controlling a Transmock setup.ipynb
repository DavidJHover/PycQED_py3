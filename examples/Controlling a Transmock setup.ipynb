{
 "cells": [
  {
   "cell_type": "markdown",
   "metadata": {},
   "source": [
    "# Tutorial 2. Controlling a Transmock setup\n",
    "\n",
    "This tutorial covers a \"real\" usage example using the Transmock. We will go over all the aspects relevant in controlling an experiment using the mock transmon. \n",
    "\n",
    "The steps we will cover are \n",
    "1. Initializing the setup\n",
    "2. The device and qubit objects \n",
    "3. Running basic measurements \n",
    "4. Calibrating your setup \n"
   ]
  },
  {
   "cell_type": "markdown",
   "metadata": {},
   "source": [
    "\n",
    "<br>\n",
    "<div class=\"alert alert-info\">\n",
    "<b>NOTE:</b> We recommend using PycQED from a console for actual use. \n",
    "</div>"
   ]
  },
  {
   "cell_type": "markdown",
   "metadata": {
    "toc-hr-collapsed": false
   },
   "source": [
    "# 1. Initializing the setup \n",
    "\n",
    "Experiments in `PycQED` are run by starting an iPython kernel (console or notebook) in which we instantiate different instruments that we then interact with. \n",
    "A session in one of these kernels typically lasts multiple days/weeks in the case of extended experiments. Before we can start runnning an experiment we start by running an initialization script. Such a script consists several steps. \n",
    "\n",
    "1. Importing the required modules. \n",
    "2. Setting the datadirectory\n",
    "3. Instantiating the instruments and (optionally) loading settings onto these instruments\n",
    "\n",
    "Normally the environment would be instantiated by importing from an external init script e.g.: `from my_init import *`. Here we explicitly put all the parts of the initialization script required to setup a 2 qubit mock experiment. Note that all the instruments being used are mock instruments. "
   ]
  },
  {
   "cell_type": "markdown",
   "metadata": {},
   "source": [
    "## importing the required modules"
   ]
  },
  {
   "cell_type": "code",
   "execution_count": 1,
   "metadata": {},
   "outputs": [
    {
     "name": "stdout",
     "output_type": "stream",
     "text": [
      "c:\\users\\niels\\documents\\github\\pycqed_py3\\data\n",
      "Data directory set to: c:\\users\\niels\\documents\\github\\pycqed_py3\\data\n",
      "c:\\users\\niels\\documents\\github\\pycqed_py3\\data\n",
      "c:\\users\\niels\\documents\\github\\pycqed_py3\\data\n",
      "Data directory set to: c:\\users\\niels\\documents\\github\\pycqed_py3\\data\n",
      "c:\\users\\niels\\documents\\github\\pycqed_py3\\data\n",
      "Data directory set to: c:\\users\\niels\\documents\\github\\pycqed_py3\\data\n",
      "c:\\users\\niels\\documents\\github\\pycqed_py3\\data\n",
      "Data directory set to: c:\\users\\niels\\documents\\github\\pycqed_py3\\data\n",
      "c:\\users\\niels\\documents\\github\\pycqed_py3\\data\n",
      "Data directory set to: c:\\users\\niels\\documents\\github\\pycqed_py3\\data\n"
     ]
    },
    {
     "name": "stderr",
     "output_type": "stream",
     "text": [
      "WARNING:root:No module named 'qisa_as'\n"
     ]
    }
   ],
   "source": [
    "###############################################################################\n",
    "# Import Statements\n",
    "###############################################################################\n",
    "\n",
    "# Generic python imports \n",
    "import os\n",
    "import warnings\n",
    "import openql\n",
    "import datetime\n",
    "import time\n",
    "import pycqed as pq\n",
    "import networkx as nx\n",
    "\n",
    "import matplotlib.pyplot as plt\n",
    "import numpy as np\n",
    "from importlib import reload\n",
    "\n",
    "\n",
    "\n",
    "# generic PycQED/QCoDeS imports \n",
    "from qcodes import station\n",
    "from pycqed.measurement import measurement_control\n",
    "\n",
    "from pycqed.analysis_v2 import measurement_analysis as ma2\n",
    "from pycqed.analysis import measurement_analysis as ma\n",
    "\n",
    "from pycqed.utilities import general as gen\n",
    "import pycqed.analysis.analysis_toolbox as a_tools\n",
    "\n",
    "# Package for dependency graph based calibrations\n",
    "from autodepgraph import AutoDepGraph_DAG\n",
    "\n",
    "\n",
    "# Annoying warning:\n",
    "os.environ['PYGSTI_BACKCOMPAT_WARNING'] = '0' # suppresses a warning in PyGSTi \n",
    "\n",
    "# Import instruments \n",
    "from pycqed.instrument_drivers.meta_instrument.qubit_objects import mock_CCL_Transmon as mct\n",
    "from pycqed.instrument_drivers.meta_instrument.qubit_objects.qubit_object import Qubit\n",
    "from pycqed.instrument_drivers.meta_instrument.qubit_objects.CCL_Transmon import CCLight_Transmon\n",
    "from pycqed.instrument_drivers.meta_instrument.LutMans.ro_lutman import UHFQC_RO_LutMan\n",
    "from pycqed.instrument_drivers.physical_instruments.QuTech_VSM_Module import Dummy_QuTechVSMModule\n",
    "from pycqed.instrument_drivers.physical_instruments.QuTech_CCL import dummy_CCL\n",
    "from pycqed.instrument_drivers.meta_instrument.qubit_objects.CC_transmon import CBox_v3_driven_transmon, QWG_driven_transmon\n",
    "from pycqed.instrument_drivers.meta_instrument.qubit_objects.Tektronix_driven_transmon import Tektronix_driven_transmon\n",
    "from pycqed.instrument_drivers.meta_instrument.qubit_objects.QuDev_transmon import QuDev_transmon\n",
    "\n",
    "\n",
    "from pycqed.instrument_drivers.physical_instruments.QuTech_Duplexer import Dummy_Duplexer\n",
    "import pycqed.instrument_drivers.physical_instruments.ZurichInstruments.UHFQuantumController as uhf\n",
    "# from pycqed.instrument_drivers.physical_instruments.QuTech_SPI_S4g_FluxCurrent \\\n",
    "#     import QuTech_SPI_S4g_FluxCurrent\n",
    "from pycqed.instrument_drivers.meta_instrument.LutMans import mw_lutman as mwl\n",
    "import pycqed.instrument_drivers.virtual_instruments.virtual_MW_source as vmw\n",
    "import pycqed.instrument_drivers.virtual_instruments.virtual_SignalHound as sh\n",
    "import pycqed.instrument_drivers.physical_instruments.ZurichInstruments.ZI_HDAWG8 as HDAWG\n",
    "import pycqed.instrument_drivers.virtual_instruments.virtual_SPI_S4g_FluxCurrent as flx\n",
    "import pycqed.instrument_drivers.virtual_instruments.virtual_VNA as VNA\n",
    "import pycqed.instrument_drivers.meta_instrument.device_dependency_graphs as DDG\n",
    "import pycqed.instrument_drivers.meta_instrument.device_object_CCL as do\n",
    "from pycqed.instrument_drivers.meta_instrument.Resonator import resonator\n",
    "\n",
    "\n",
    "\n",
    "\n",
    "\n"
   ]
  },
  {
   "cell_type": "markdown",
   "metadata": {},
   "source": [
    "## Setting the datadirectory"
   ]
  },
  {
   "cell_type": "code",
   "execution_count": 2,
   "metadata": {},
   "outputs": [],
   "source": [
    "\n",
    "test_datadir = os.path.join(pq.__path__[0], 'tests', 'test_output') # we use a test datadirectory for our examples\n",
    "a_tools.datadir = test_datadir\n",
    "\n",
    "\n",
    "timestamp = None # '20190719_164604'  \n",
    "# the timestamp variable is used below to load settings from previous experiments onto instruments"
   ]
  },
  {
   "cell_type": "code",
   "execution_count": null,
   "metadata": {},
   "outputs": [],
   "source": []
  },
  {
   "cell_type": "markdown",
   "metadata": {},
   "source": [
    "## Instantiating the instruments"
   ]
  },
  {
   "cell_type": "code",
   "execution_count": 3,
   "metadata": {},
   "outputs": [],
   "source": [
    "###############################################################################\n",
    "# MC and monitor\n",
    "###############################################################################\n",
    "station = station.Station()\n",
    "# The measurement control is used to control experiments (see tutorial 1.)\n",
    "MC = measurement_control.MeasurementControl(\n",
    "    'MC', live_plot_enabled=True, verbose=True)\n",
    "MC.station = station\n",
    "station.add_component(MC)\n",
    "MC.create_plot_monitor()\n",
    "MC.live_plot_enabled(True)\n",
    "\n",
    "# Required to set it to the testing datadir\n",
    "MC.datadir(a_tools.datadir)\n",
    "\n",
    "\n",
    "###############################################################################\n",
    "# nested MC\n",
    "###############################################################################\n",
    "nested_MC = measurement_control.MeasurementControl(\n",
    "    'nested_MC', live_plot_enabled=True, verbose=True)\n",
    "nested_MC.station = station\n",
    "station.add_component(nested_MC)\n",
    "nested_MC.datadir(a_tools.datadir)"
   ]
  },
  {
   "cell_type": "code",
   "execution_count": 4,
   "metadata": {},
   "outputs": [
    {
     "name": "stdout",
     "output_type": "stream",
     "text": [
      "Connected to: None MW1 (serial:None, firmware:None) in 0.12s\n",
      "Connected to: None MW2 (serial:None, firmware:None) in 0.00s\n",
      "Connected to: None MW3 (serial:None, firmware:None) in 0.00s\n",
      "Initialized SignalHound in 0.00s\n",
      "Setting debug level to 0\n",
      "Connected to: ZurichInstruments UHFQA (serial:dev2109, firmware:99999) in 1.77s\n",
      "Connected to: None None (serial:None, firmware:None) in 0.01s\n",
      "Connected to:  VSM (serial:Dummy, firmware:) in 0.10s\n",
      "Setting debug level to 0\n",
      "Connected to: ZurichInstruments HDAWG8 (serial:dev8026, firmware:99999) in 1.26s\n",
      "Connected to: <Mock_CCLight_Transmon: Q1> in 0.01 s\n",
      "Connected to: <Mock_CCLight_Transmon: Q2> in 0.01 s\n",
      "Connected to: <Mock_CCLight_Transmon: fakequbit> in 0.01 s\n"
     ]
    }
   ],
   "source": [
    "###############################################################################\n",
    "# Instruments\n",
    "###############################################################################\n",
    "# Fluxcurrent\n",
    "fluxcurrent = flx.virtual_SPI_S4g_FluxCurrent(\n",
    "        'fluxcurrent',\n",
    "        channel_map={\n",
    "            'FBL_Q1': (0, 0),\n",
    "            'FBL_Q2': (0, 1),\n",
    "        })\n",
    "fluxcurrent.FBL_Q1(0)\n",
    "fluxcurrent.FBL_Q2(0)\n",
    "station.add_component(fluxcurrent)\n",
    "\n",
    "###############################################################################\n",
    "# VNA\n",
    "VNA = VNA.virtual_ZNB20('VNA')\n",
    "station.add_component(VNA)\n",
    "\n",
    "###############################################################################\n",
    "# MW sources\n",
    "MW1 = vmw.VirtualMWsource('MW1')\n",
    "MW2 = vmw.VirtualMWsource('MW2')\n",
    "MW3 = vmw.VirtualMWsource('MW3')\n",
    "\n",
    "###############################################################################\n",
    "# SignalHound\n",
    "SH = sh.virtual_SignalHound_USB_SA124B('SH')\n",
    "\n",
    "###############################################################################\n",
    "# UHFQC\n",
    "UHFQC = uhf.UHFQC(name='UHFQC', server='emulator',\n",
    "                               device='dev2109', interface='1GbE')\n",
    "\n",
    "###############################################################################\n",
    "# CCL\n",
    "CCL = dummy_CCL('CCL')\n",
    "\n",
    "###############################################################################\n",
    "# VSM\n",
    "VSM = Dummy_QuTechVSMModule('VSM')\n",
    "\n",
    "###############################################################################\n",
    "# AWG\n",
    "AWG = HDAWG.ZI_HDAWG8(name='DummyAWG8', server='emulator', num_codewords=32, device='dev8026', interface='1GbE')\n",
    "\n",
    "\n",
    "AWG8_VSM_MW_LutMan = mwl.AWG8_VSM_MW_LutMan('MW_LutMan_VSM')\n",
    "AWG8_VSM_MW_LutMan.AWG(AWG.name)\n",
    "AWG8_VSM_MW_LutMan.channel_GI(1)\n",
    "AWG8_VSM_MW_LutMan.channel_GQ(2)\n",
    "AWG8_VSM_MW_LutMan.channel_DI(3)\n",
    "AWG8_VSM_MW_LutMan.channel_DQ(4)\n",
    "AWG8_VSM_MW_LutMan.mw_modulation(100e6)\n",
    "AWG8_VSM_MW_LutMan.sampling_rate(2.4e9)\n",
    "\n",
    "###############################################################################\n",
    "# RO Lutman\n",
    "ro_lutman = UHFQC_RO_LutMan(\n",
    "    'RO_lutman', num_res=5, feedline_number=0)\n",
    "ro_lutman.AWG(UHFQC.name)\n",
    "\n",
    "###############################################################################\n",
    "# Qubit\n",
    "Q1 = mct.Mock_CCLight_Transmon('Q1')\n",
    "\n",
    "# Assign instruments\n",
    "Q1.instr_LutMan_MW(AWG8_VSM_MW_LutMan.name)\n",
    "Q1.instr_LO_ro(MW1.name)\n",
    "Q1.instr_LO_mw(MW2.name)\n",
    "Q1.instr_spec_source(MW3.name)\n",
    "\n",
    "Q1.instr_acquisition(UHFQC.name)\n",
    "Q1.instr_VSM(VSM.name)\n",
    "Q1.instr_CC(CCL.name)\n",
    "Q1.instr_LutMan_RO(ro_lutman.name)\n",
    "Q1.instr_MC(MC.name)\n",
    "Q1.instr_nested_MC(nested_MC.name)\n",
    "Q1.instr_FluxCtrl(fluxcurrent.name)\n",
    "Q1.instr_SH(SH.name)\n",
    "Q1.cfg_with_vsm(False)\n",
    "Q1.done_spectroscopy = False\n",
    "\n",
    "config_fn = os.path.join(\n",
    "    pq.__path__[0], 'tests', 'openql', 'test_cfg_CCL.json')\n",
    "Q1.cfg_openql_platform_fn(config_fn)\n",
    "# QL.dep_graph()\n",
    "station.add_component(Q1)\n",
    "# Does not set any initial parameters, it should work from scratch\n",
    "# Qubit\n",
    "Q2 = mct.Mock_CCLight_Transmon('Q2')\n",
    "Q2_parameters = {'mock_Ec': 243e6,\n",
    "                 'mock_Ej1': 8.348e9,\n",
    "                 'mock_Ej2': 8.246e9,\n",
    "                 'mock_fl_dc_I_per_phi0': {'FBL_Q1': 2, 'FBL_Q2': 20.3153e-3},\n",
    "                 # 'mock_fl_dc_V0'\n",
    "                 'mock_fl_dc_ch': 'FBL_Q2',\n",
    "                 'mock_freq_res_bare': 7.35e9,\n",
    "                 'mock_freq_test_res': 7.73e9,\n",
    "                 'mock_sweetspot_phi_over_phi0': 0,\n",
    "                 'mock_Qe': 19000,\n",
    "                 'mock_Q': 15000,\n",
    "                 'mock_slope': 0}\n",
    "\n",
    "\n",
    "for parameter, value in Q2_parameters.items():\n",
    "    Q2.parameters[parameter](value)\n",
    "# Assign instruments\n",
    "Q2.instr_LutMan_MW(AWG8_VSM_MW_LutMan.name)\n",
    "Q2.instr_LO_ro(MW1.name)\n",
    "Q2.instr_LO_mw(MW2.name)\n",
    "Q2.instr_spec_source(MW3.name)\n",
    "\n",
    "Q2.instr_acquisition(UHFQC.name)\n",
    "Q2.instr_VSM(VSM.name)\n",
    "Q2.instr_CC(CCL.name)\n",
    "Q2.instr_LutMan_RO(ro_lutman.name)\n",
    "Q2.instr_MC(MC.name)\n",
    "Q2.instr_nested_MC(nested_MC.name)\n",
    "Q2.instr_FluxCtrl(fluxcurrent.name)\n",
    "Q2.instr_SH(SH.name)\n",
    "\n",
    "\n",
    "config_fn = os.path.join(\n",
    "    pq.__path__[0], 'tests', 'openql', 'test_cfg_CCL.json')\n",
    "Q2.cfg_openql_platform_fn(config_fn)\n",
    "# QR.dep_graph()\n",
    "station.add_component(Q2)\n",
    "\n",
    "fakequbit = mct.Mock_CCLight_Transmon('fakequbit')\n",
    "\n",
    "# Assign instruments\n",
    "fakequbit.instr_LutMan_MW(AWG8_VSM_MW_LutMan.name)\n",
    "fakequbit.instr_LO_ro(MW1.name)\n",
    "fakequbit.instr_LO_mw(MW2.name)\n",
    "fakequbit.instr_spec_source(MW3.name)\n",
    "\n",
    "fakequbit.instr_acquisition(UHFQC.name)\n",
    "fakequbit.instr_VSM(VSM.name)\n",
    "fakequbit.instr_CC(CCL.name)\n",
    "fakequbit.instr_LutMan_RO(ro_lutman.name)\n",
    "fakequbit.instr_MC(MC.name)\n",
    "fakequbit.instr_nested_MC(nested_MC.name)\n",
    "fakequbit.instr_FluxCtrl(fluxcurrent.name)\n",
    "fakequbit.instr_SH(SH.name)\n",
    "fakequbit.cfg_with_vsm(False)\n",
    "\n",
    "config_fn = os.path.join(\n",
    "    pq.__path__[0], 'tests', 'openql', 'test_cfg_CCL.json')\n",
    "fakequbit.cfg_openql_platform_fn(config_fn)\n",
    "# fakequbit.dep_graph()\n",
    "station.add_component(fakequbit)\n",
    "##############################################################################\n",
    "# Device\n",
    "Mock_Octobox = do.DeviceCCL(name='Mock_Octobox')\n",
    "Mock_Octobox.qubits(['Q1', 'Q2', 'fakequbit'])\n",
    "\n",
    "Q1.instr_device(Mock_Octobox.name)\n",
    "Q2.instr_device(Mock_Octobox.name)\n",
    "fakequbit.instr_device(Mock_Octobox.name)\n",
    "resQ1 = resonator('2', freq=7.5e9)\n",
    "resQ2 = resonator('1', freq=7.35e9)\n",
    "rest1 = resonator('t1', freq=7.73e9, type='test_resonator')\n",
    "rest2 = resonator('t2', freq=7.8e9, type='test_resonator')\n",
    "\n",
    "# Mock_Octobox.expected_resonators = [resQR, resQL, rest1, rest2]\n",
    "###############################################################################\n",
    "# DepGraph\n",
    "Qubits = [Q1, Q2, fakequbit]\n",
    "# some_file.py\n",
    "#dag = DDG.octobox_dep_graph(name='Octobox', device=Mock_Octobox)\n",
    "# dag.create_dep_graph(Qubits)\n",
    "# dag.set_all_node_states('needs calibration')\n",
    "# dag.set_node_state('QL Drive Mixer Calibrations', 'good')\n",
    "# dag.set_node_state('QR Drive Mixer Calibrations', 'good')\n",
    "# dag.set_node_state('QL Readout Mixer Calibrations', 'good')\n",
    "# dag.set_node_state('QR Readout Mixer Calibrations', 'good')\n",
    "# ###############################################################################\n",
    "# # Hacky stuff to make life easier\n",
    "\n",
    "# # Room temp:\n",
    "Q1.freq_qubit(5.85e9)\n",
    "Q2.freq_qubit(5.48e9)\n",
    "\n",
    "for Q in Qubits:\n",
    "    # Q.ro_acq_averages(32768*4)\n",
    "    Q.ro_freq(7.5e9)\n",
    "\n",
    "# # QL.freq_res(QL.mock_freq_res())\n",
    "# # QL.ro_pulse_amp_CW(QL.mock_ro_pulse_amp_CW())\n",
    "\n",
    "# # gen.load_settings_onto_instrument_v2(QL, timestamp=timestamp)\n",
    "# # gen.load_settings_onto_instrument_v2(fakequbit, timestamp=timestamp)\n",
    "# dag.maintain_QL_Frequency_at_Sweetspot()\n",
    "# dag.maintain_QR_Frequency_Fine()\n",
    "# freqs = np.arange(7.348e9, 7.352e9, 0.025e6)\n",
    "# powers = np.arange(-40, 1, 1)\n",
    "# fakequbit.measure_resonator_power(freqs=freqs, powers=powers)\n",
    "\n",
    "\n",
    "# for power in np.arange(-35, -14, 1):\n",
    "#     QL.spec_pow(power)\n",
    "#     QL.find_frequency(freqs=np.arange(5.85e9 - 20e6, 5.85e9+20e6, 0.1e6))"
   ]
  },
  {
   "cell_type": "code",
   "execution_count": null,
   "metadata": {},
   "outputs": [],
   "source": []
  },
  {
   "cell_type": "markdown",
   "metadata": {},
   "source": [
    "# 2. Running an experiment on a mock transmon"
   ]
  },
  {
   "cell_type": "code",
   "execution_count": 5,
   "metadata": {},
   "outputs": [],
   "source": [
    "Q1.ro_freq(6e9)\n",
    "Q1.mw_freq_mod(100e6)\n",
    "Q1.freq_res(6e9)\n",
    "Q1.freq_res()\n",
    "#Q2.fl_dc_ch(fluxcurrent.FBL_Q1())\n",
    "#Q1.fl_dc_ch(fluxcurrent.FBL_Q2())\n",
    "Q1.mock_freq_res_bare(7.58726e9)\n",
    "Q1.mock_sweetspot_phi_over_phi0(0.1)\n",
    "freq_res = Q1.calculate_mock_resonator_frequency()\n",
    "Q1.freq_res(7.587e9)"
   ]
  },
  {
   "cell_type": "code",
   "execution_count": 7,
   "metadata": {},
   "outputs": [],
   "source": [
    "Q1.fl_dc_ch('FBL_Q2')\n",
    "Q1.freq_qubit(6e9)"
   ]
  },
  {
   "cell_type": "code",
   "execution_count": 8,
   "metadata": {},
   "outputs": [
    {
     "name": "stdout",
     "output_type": "stream",
     "text": [
      "File successfully uploaded in 0.00s\n"
     ]
    },
    {
     "name": "stderr",
     "output_type": "stream",
     "text": [
      "WARNING:root:dev8026: No program configured for awg_nr 0.\n",
      "WARNING:root:dev8026: No program configured for awg_nr 1.\n",
      "WARNING:root:dev8026: No program configured for awg_nr 2.\n",
      "WARNING:root:dev8026: No program configured for awg_nr 3.\n",
      "WARNING:root:dev8026: Not starting awg_nr 0.\n",
      "WARNING:root:dev8026: Not starting awg_nr 1.\n",
      "WARNING:root:dev8026: Not starting awg_nr 2.\n",
      "WARNING:root:dev8026: Not starting awg_nr 3.\n"
     ]
    },
    {
     "name": "stdout",
     "output_type": "stream",
     "text": [
      "Starting measurement: AllXY_Q2\n",
      "Sweep function: OpenQL_Sweep\n",
      "Detector function: raw_UHFQC_integrated_average\n",
      "[DEBUG UHF SWF] SHOULD HAVE HAD AN ERROR\n",
      " 100% completed \telapsed time: 2.4s \ttime left: 0.0s\n"
     ]
    },
    {
     "data": {
      "text/plain": [
       "1.3459917282193128"
      ]
     },
     "execution_count": 8,
     "metadata": {},
     "output_type": "execute_result"
    }
   ],
   "source": [
    "#Q1.find_resonator_frequency()\n",
    "Q2.measure_allxy()"
   ]
  },
  {
   "cell_type": "code",
   "execution_count": 10,
   "metadata": {},
   "outputs": [
    {
     "ename": "TypeError",
     "evalue": "'numpy.complex128' object is not iterable",
     "output_type": "error",
     "traceback": [
      "\u001b[1;31m---------------------------------------------------------------------------\u001b[0m",
      "\u001b[1;31mTypeError\u001b[0m                                 Traceback (most recent call last)",
      "\u001b[1;32m<ipython-input-10-a48952d17f53>\u001b[0m in \u001b[0;36m<module>\u001b[1;34m\u001b[0m\n\u001b[0;32m      1\u001b[0m \u001b[0mQ1\u001b[0m\u001b[1;33m.\u001b[0m\u001b[0mfreq_qubit\u001b[0m\u001b[1;33m(\u001b[0m\u001b[1;36m6e9\u001b[0m\u001b[1;33m)\u001b[0m\u001b[1;33m\u001b[0m\u001b[1;33m\u001b[0m\u001b[0m\n\u001b[1;32m----> 2\u001b[1;33m \u001b[0mQ1\u001b[0m\u001b[1;33m.\u001b[0m\u001b[0mfind_frequency\u001b[0m\u001b[1;33m(\u001b[0m\u001b[0mfreqs\u001b[0m\u001b[1;33m=\u001b[0m\u001b[0mnp\u001b[0m\u001b[1;33m.\u001b[0m\u001b[0marange\u001b[0m\u001b[1;33m(\u001b[0m\u001b[1;36m6e9\u001b[0m\u001b[1;33m,\u001b[0m\u001b[1;36m7e9\u001b[0m\u001b[1;33m,\u001b[0m\u001b[1;36m10e6\u001b[0m\u001b[1;33m)\u001b[0m\u001b[1;33m)\u001b[0m\u001b[1;33m\u001b[0m\u001b[1;33m\u001b[0m\u001b[0m\n\u001b[0m",
      "\u001b[1;32mc:\\users\\niels\\documents\\github\\pycqed_py3\\pycqed\\instrument_drivers\\meta_instrument\\qubit_objects\\qubit_object.py\u001b[0m in \u001b[0;36mfind_frequency\u001b[1;34m(self, method, spec_mode, steps, artificial_periods, freqs, f_span, use_max, f_step, verbose, update, close_fig, MC, label)\u001b[0m\n\u001b[0;32m   1066\u001b[0m             self.measure_spectroscopy(freqs, mode=spec_mode, MC=MC,\n\u001b[0;32m   1067\u001b[0m                                       \u001b[0manalyze\u001b[0m\u001b[1;33m=\u001b[0m\u001b[1;32mFalse\u001b[0m\u001b[1;33m,\u001b[0m \u001b[0mlabel\u001b[0m \u001b[1;33m=\u001b[0m \u001b[0mlabel\u001b[0m\u001b[1;33m,\u001b[0m\u001b[1;33m\u001b[0m\u001b[1;33m\u001b[0m\u001b[0m\n\u001b[1;32m-> 1068\u001b[1;33m                                       close_fig=close_fig)\n\u001b[0m\u001b[0;32m   1069\u001b[0m \u001b[1;33m\u001b[0m\u001b[0m\n\u001b[0;32m   1070\u001b[0m             \u001b[0mlabel\u001b[0m \u001b[1;33m=\u001b[0m \u001b[1;34m'spec'\u001b[0m\u001b[1;33m\u001b[0m\u001b[1;33m\u001b[0m\u001b[0m\n",
      "\u001b[1;32mc:\\users\\niels\\documents\\github\\pycqed_py3\\pycqed\\instrument_drivers\\meta_instrument\\qubit_objects\\mock_CCL_Transmon.py\u001b[0m in \u001b[0;36mmeasure_spectroscopy\u001b[1;34m(self, freqs, mode, MC, analyze, close_fig, label, prepare_for_continuous_wave)\u001b[0m\n\u001b[0;32m    317\u001b[0m                            unit='Hz')\n\u001b[0;32m    318\u001b[0m \u001b[1;33m\u001b[0m\u001b[0m\n\u001b[1;32m--> 319\u001b[1;33m         \u001b[0mh\u001b[0m \u001b[1;33m=\u001b[0m \u001b[0mself\u001b[0m\u001b[1;33m.\u001b[0m\u001b[0mmeasurement_signal\u001b[0m\u001b[1;33m(\u001b[0m\u001b[0mexcited\u001b[0m\u001b[1;33m=\u001b[0m\u001b[1;32mFalse\u001b[0m\u001b[1;33m)\u001b[0m  \u001b[1;31m# Lorentian baseline [V]\u001b[0m\u001b[1;33m\u001b[0m\u001b[1;33m\u001b[0m\u001b[0m\n\u001b[0m\u001b[0;32m    320\u001b[0m         \u001b[0mA0\u001b[0m \u001b[1;33m=\u001b[0m \u001b[0mself\u001b[0m\u001b[1;33m.\u001b[0m\u001b[0mmeasurement_signal\u001b[0m\u001b[1;33m(\u001b[0m\u001b[0mexcited\u001b[0m\u001b[1;33m=\u001b[0m\u001b[1;32mTrue\u001b[0m\u001b[1;33m)\u001b[0m \u001b[1;33m-\u001b[0m \u001b[0mh\u001b[0m  \u001b[1;31m# Peak height\u001b[0m\u001b[1;33m\u001b[0m\u001b[1;33m\u001b[0m\u001b[0m\n\u001b[0;32m    321\u001b[0m \u001b[1;33m\u001b[0m\u001b[0m\n",
      "\u001b[1;32mc:\\users\\niels\\documents\\github\\pycqed_py3\\pycqed\\instrument_drivers\\meta_instrument\\qubit_objects\\mock_CCL_Transmon.py\u001b[0m in \u001b[0;36mmeasurement_signal\u001b[1;34m(self, excited)\u001b[0m\n\u001b[0;32m    911\u001b[0m \u001b[1;33m\u001b[0m\u001b[0m\n\u001b[0;32m    912\u001b[0m         f0, dip = self.calculate_mock_resonator_response(power, f_ro,\n\u001b[1;32m--> 913\u001b[1;33m                                                          excited=excited)\n\u001b[0m\u001b[0;32m    914\u001b[0m         \u001b[0msignal\u001b[0m \u001b[1;33m=\u001b[0m \u001b[0mh\u001b[0m \u001b[1;33m+\u001b[0m \u001b[0mdip\u001b[0m\u001b[1;33m\u001b[0m\u001b[1;33m\u001b[0m\u001b[0m\n\u001b[0;32m    915\u001b[0m \u001b[1;33m\u001b[0m\u001b[0m\n",
      "\u001b[1;32mc:\\users\\niels\\documents\\github\\pycqed_py3\\pycqed\\instrument_drivers\\meta_instrument\\qubit_objects\\mock_CCL_Transmon.py\u001b[0m in \u001b[0;36mcalculate_mock_resonator_response\u001b[1;34m(self, power, freqs, excited)\u001b[0m\n\u001b[0;32m   1060\u001b[0m             \u001b[0mres_qubit_dip\u001b[0m \u001b[1;33m+=\u001b[0m \u001b[0mh\u001b[0m\u001b[1;33m\u001b[0m\u001b[1;33m\u001b[0m\u001b[0m\n\u001b[0;32m   1061\u001b[0m             \u001b[1;31m# Add some extra noise\u001b[0m\u001b[1;33m\u001b[0m\u001b[1;33m\u001b[0m\u001b[1;33m\u001b[0m\u001b[0m\n\u001b[1;32m-> 1062\u001b[1;33m             \u001b[1;32mfor\u001b[0m \u001b[0mi\u001b[0m\u001b[1;33m,\u001b[0m \u001b[0mvalue\u001b[0m \u001b[1;32min\u001b[0m \u001b[0menumerate\u001b[0m\u001b[1;33m(\u001b[0m\u001b[0mres_qubit_dip\u001b[0m\u001b[1;33m)\u001b[0m\u001b[1;33m:\u001b[0m\u001b[1;33m\u001b[0m\u001b[1;33m\u001b[0m\u001b[0m\n\u001b[0m\u001b[0;32m   1063\u001b[0m                 \u001b[0md\u001b[0m \u001b[1;33m=\u001b[0m \u001b[0mnp\u001b[0m\u001b[1;33m.\u001b[0m\u001b[0mabs\u001b[0m\u001b[1;33m(\u001b[0m\u001b[0mvalue\u001b[0m \u001b[1;33m-\u001b[0m \u001b[0mh\u001b[0m\u001b[1;33m)\u001b[0m\u001b[1;33m\u001b[0m\u001b[1;33m\u001b[0m\u001b[0m\n\u001b[0;32m   1064\u001b[0m \u001b[1;33m\u001b[0m\u001b[0m\n",
      "\u001b[1;31mTypeError\u001b[0m: 'numpy.complex128' object is not iterable"
     ]
    }
   ],
   "source": [
    "Q1.freq_qubit(6e9)\n",
    "Q1.find_frequency(freqs=np.arange(6e9,7e9,10e6))"
   ]
  },
  {
   "cell_type": "code",
   "execution_count": 11,
   "metadata": {},
   "outputs": [
    {
     "ename": "TypeError",
     "evalue": "'numpy.complex128' object is not iterable",
     "output_type": "error",
     "traceback": [
      "\u001b[1;31m---------------------------------------------------------------------------\u001b[0m",
      "\u001b[1;31mTypeError\u001b[0m                                 Traceback (most recent call last)",
      "\u001b[1;32m<ipython-input-11-db0d71516516>\u001b[0m in \u001b[0;36m<module>\u001b[1;34m\u001b[0m\n\u001b[1;32m----> 1\u001b[1;33m \u001b[0mQ1\u001b[0m\u001b[1;33m.\u001b[0m\u001b[0mmeasure_T1\u001b[0m\u001b[1;33m(\u001b[0m\u001b[0mtimes\u001b[0m\u001b[1;33m=\u001b[0m\u001b[0mnp\u001b[0m\u001b[1;33m.\u001b[0m\u001b[0marange\u001b[0m\u001b[1;33m(\u001b[0m\u001b[1;36m1e-6\u001b[0m\u001b[1;33m,\u001b[0m\u001b[1;36m60e-6\u001b[0m\u001b[1;33m,\u001b[0m\u001b[1;36m1e-6\u001b[0m\u001b[1;33m)\u001b[0m\u001b[1;33m)\u001b[0m\u001b[1;33m\u001b[0m\u001b[1;33m\u001b[0m\u001b[0m\n\u001b[0m",
      "\u001b[1;32mc:\\users\\niels\\documents\\github\\pycqed_py3\\pycqed\\instrument_drivers\\meta_instrument\\qubit_objects\\mock_CCL_Transmon.py\u001b[0m in \u001b[0;36mmeasure_T1\u001b[1;34m(self, times, MC, analyze, close_fig, update, prepare_for_timedomain)\u001b[0m\n\u001b[0;32m    854\u001b[0m         \u001b[0ms\u001b[0m \u001b[1;33m=\u001b[0m \u001b[0mswf\u001b[0m\u001b[1;33m.\u001b[0m\u001b[0mNone_Sweep\u001b[0m\u001b[1;33m(\u001b[0m\u001b[0mparameter_name\u001b[0m\u001b[1;33m=\u001b[0m\u001b[1;34m'Time'\u001b[0m\u001b[1;33m,\u001b[0m \u001b[0munit\u001b[0m\u001b[1;33m=\u001b[0m\u001b[1;34m's'\u001b[0m\u001b[1;33m)\u001b[0m\u001b[1;33m\u001b[0m\u001b[1;33m\u001b[0m\u001b[0m\n\u001b[0;32m    855\u001b[0m \u001b[1;33m\u001b[0m\u001b[0m\n\u001b[1;32m--> 856\u001b[1;33m         \u001b[0mlow_lvl\u001b[0m \u001b[1;33m=\u001b[0m \u001b[0mself\u001b[0m\u001b[1;33m.\u001b[0m\u001b[0mmeasurement_signal\u001b[0m\u001b[1;33m(\u001b[0m\u001b[0mexcited\u001b[0m\u001b[1;33m=\u001b[0m\u001b[1;32mFalse\u001b[0m\u001b[1;33m)\u001b[0m\u001b[1;33m\u001b[0m\u001b[1;33m\u001b[0m\u001b[0m\n\u001b[0m\u001b[0;32m    857\u001b[0m         \u001b[0mhigh_lvl\u001b[0m \u001b[1;33m=\u001b[0m \u001b[0mself\u001b[0m\u001b[1;33m.\u001b[0m\u001b[0mmeasurement_signal\u001b[0m\u001b[1;33m(\u001b[0m\u001b[0mexcited\u001b[0m\u001b[1;33m=\u001b[0m\u001b[1;32mTrue\u001b[0m\u001b[1;33m)\u001b[0m\u001b[1;33m\u001b[0m\u001b[1;33m\u001b[0m\u001b[0m\n\u001b[0;32m    858\u001b[0m \u001b[1;33m\u001b[0m\u001b[0m\n",
      "\u001b[1;32mc:\\users\\niels\\documents\\github\\pycqed_py3\\pycqed\\instrument_drivers\\meta_instrument\\qubit_objects\\mock_CCL_Transmon.py\u001b[0m in \u001b[0;36mmeasurement_signal\u001b[1;34m(self, excited)\u001b[0m\n\u001b[0;32m    911\u001b[0m \u001b[1;33m\u001b[0m\u001b[0m\n\u001b[0;32m    912\u001b[0m         f0, dip = self.calculate_mock_resonator_response(power, f_ro,\n\u001b[1;32m--> 913\u001b[1;33m                                                          excited=excited)\n\u001b[0m\u001b[0;32m    914\u001b[0m         \u001b[0msignal\u001b[0m \u001b[1;33m=\u001b[0m \u001b[0mh\u001b[0m \u001b[1;33m+\u001b[0m \u001b[0mdip\u001b[0m\u001b[1;33m\u001b[0m\u001b[1;33m\u001b[0m\u001b[0m\n\u001b[0;32m    915\u001b[0m \u001b[1;33m\u001b[0m\u001b[0m\n",
      "\u001b[1;32mc:\\users\\niels\\documents\\github\\pycqed_py3\\pycqed\\instrument_drivers\\meta_instrument\\qubit_objects\\mock_CCL_Transmon.py\u001b[0m in \u001b[0;36mcalculate_mock_resonator_response\u001b[1;34m(self, power, freqs, excited)\u001b[0m\n\u001b[0;32m   1060\u001b[0m             \u001b[0mres_qubit_dip\u001b[0m \u001b[1;33m+=\u001b[0m \u001b[0mh\u001b[0m\u001b[1;33m\u001b[0m\u001b[1;33m\u001b[0m\u001b[0m\n\u001b[0;32m   1061\u001b[0m             \u001b[1;31m# Add some extra noise\u001b[0m\u001b[1;33m\u001b[0m\u001b[1;33m\u001b[0m\u001b[1;33m\u001b[0m\u001b[0m\n\u001b[1;32m-> 1062\u001b[1;33m             \u001b[1;32mfor\u001b[0m \u001b[0mi\u001b[0m\u001b[1;33m,\u001b[0m \u001b[0mvalue\u001b[0m \u001b[1;32min\u001b[0m \u001b[0menumerate\u001b[0m\u001b[1;33m(\u001b[0m\u001b[0mres_qubit_dip\u001b[0m\u001b[1;33m)\u001b[0m\u001b[1;33m:\u001b[0m\u001b[1;33m\u001b[0m\u001b[1;33m\u001b[0m\u001b[0m\n\u001b[0m\u001b[0;32m   1063\u001b[0m                 \u001b[0md\u001b[0m \u001b[1;33m=\u001b[0m \u001b[0mnp\u001b[0m\u001b[1;33m.\u001b[0m\u001b[0mabs\u001b[0m\u001b[1;33m(\u001b[0m\u001b[0mvalue\u001b[0m \u001b[1;33m-\u001b[0m \u001b[0mh\u001b[0m\u001b[1;33m)\u001b[0m\u001b[1;33m\u001b[0m\u001b[1;33m\u001b[0m\u001b[0m\n\u001b[0;32m   1064\u001b[0m \u001b[1;33m\u001b[0m\u001b[0m\n",
      "\u001b[1;31mTypeError\u001b[0m: 'numpy.complex128' object is not iterable"
     ]
    }
   ],
   "source": [
    "Q1.measure_T1(times=np.arange(1e-6,60e-6,1e-6))"
   ]
  },
  {
   "cell_type": "code",
   "execution_count": null,
   "metadata": {},
   "outputs": [],
   "source": []
  }
 ],
 "metadata": {
  "kernelspec": {
   "display_name": "Python 3",
   "language": "python",
   "name": "python3"
  },
  "language_info": {
   "codemirror_mode": {
    "name": "ipython",
    "version": 3
   },
   "file_extension": ".py",
   "mimetype": "text/x-python",
   "name": "python",
   "nbconvert_exporter": "python",
   "pygments_lexer": "ipython3",
   "version": "3.7.4"
  }
 },
 "nbformat": 4,
 "nbformat_minor": 4
}
