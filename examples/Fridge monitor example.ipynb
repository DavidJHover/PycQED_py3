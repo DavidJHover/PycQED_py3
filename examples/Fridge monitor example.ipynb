{
 "cells": [
  {
   "cell_type": "code",
   "execution_count": 1,
   "metadata": {
    "collapsed": false
   },
   "outputs": [],
   "source": [
    "import pycqed as pq\n",
    "import numpy as np\n",
    "from qcodes import station\n",
    "station = station.Station()\n"
   ]
  },
  {
   "cell_type": "code",
   "execution_count": 2,
   "metadata": {
    "collapsed": false
   },
   "outputs": [],
   "source": [
    "import logging\n",
    "logger = logging.getLogger()\n",
    "logger.setLevel(logging.WARN)\n",
    "logger.debug('root debug test')"
   ]
  },
  {
   "cell_type": "code",
   "execution_count": 3,
   "metadata": {
    "collapsed": false
   },
   "outputs": [],
   "source": [
    "from pycqed.instrument_drivers.virtual_instruments import instrument_monitor as im\n",
    "IM = im.InstrumentMonitor('IM', station=station)\n",
    "\n",
    "from importlib import reload\n",
    "from pycqed.instrument_drivers.physical_instruments import Fridge_monitor as fm\n",
    "reload(fm)\n",
    "\n",
    "FM_LaMaserati= fm.Fridge_Monitor('FM_LaMaserati', 'LaMaserati')\n",
    "FM_LaDucati= fm.Fridge_Monitor('FM_LaDucati', 'LaDucati')\n",
    "FM_LaFerrari= fm.Fridge_Monitor('FM_LaFerrari', 'LaFerrari')\n",
    "FM_LaAprilia= fm.Fridge_Monitor('FM_LaAprilia', 'LaAprilia')\n",
    "station.add_component(FM_LaMaserati)\n",
    "station.add_component(FM_LaDucati)\n",
    "station.add_component(FM_LaFerrari)\n",
    "station.add_component(FM_LaAprilia)\n",
    "IM.update()"
   ]
  },
  {
   "cell_type": "code",
   "execution_count": 5,
   "metadata": {
    "collapsed": false
   },
   "outputs": [],
   "source": [
    "IM.update()"
   ]
  },
  {
   "cell_type": "code",
   "execution_count": 16,
   "metadata": {
    "collapsed": false
   },
   "outputs": [
    {
     "data": {
      "text/plain": [
       "[('P_5', '926'),\n",
       " ('P_Still', '0.13446'),\n",
       " ('P_IVC', '5.5'),\n",
       " ('P_OVC', '5.4'),\n",
       " ('P_4He', '71'),\n",
       " ('P_3He', '102')]"
      ]
     },
     "execution_count": 16,
     "metadata": {},
     "output_type": "execute_result"
    }
   ],
   "source": [
    "pressuregroups = re.findall(\n",
    "                    r'<br>(P_[\\w_]+(?: \\(P\\))?) = ([\\d\\.]+)', str(source))\n",
    "\n",
    "pressuregroups"
   ]
  },
  {
   "cell_type": "code",
   "execution_count": null,
   "metadata": {
    "collapsed": true
   },
   "outputs": [],
   "source": []
  }
 ],
 "metadata": {
  "kernelspec": {
   "display_name": "Python 3",
   "language": "python",
   "name": "python3"
  },
  "language_info": {
   "codemirror_mode": {
    "name": "ipython",
    "version": 3
   },
   "file_extension": ".py",
   "mimetype": "text/x-python",
   "name": "python",
   "nbconvert_exporter": "python",
   "pygments_lexer": "ipython3",
   "version": "3.6.0"
  }
 },
 "nbformat": 4,
 "nbformat_minor": 0
}
