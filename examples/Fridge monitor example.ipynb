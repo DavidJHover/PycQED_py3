{
 "cells": [
  {
   "cell_type": "code",
   "execution_count": 1,
   "metadata": {
    "collapsed": false
   },
   "outputs": [],
   "source": [
    "import pycqed as pq\n",
    "import numpy as np\n",
    "from qcodes import station\n",
    "station = station.Station()\n"
   ]
  },
  {
   "cell_type": "code",
   "execution_count": 2,
   "metadata": {
    "collapsed": true
   },
   "outputs": [],
   "source": [
    "import logging\n",
    "logger = logging.getLogger()\n",
    "logger.setLevel(logging.DEBUG)\n",
    "logger.debug('root debug test')"
   ]
  },
  {
   "cell_type": "code",
   "execution_count": 3,
   "metadata": {
    "collapsed": false
   },
   "outputs": [
    {
     "name": "stderr",
     "output_type": "stream",
     "text": [
      "INFO:root:Could not extract T_3K (P) from http://dicarlolab.tudelft.nl//wp-content/uploads/LaMaseratiMonitor/\n",
      "INFO:root:Could not extract T_Still (P) from http://dicarlolab.tudelft.nl//wp-content/uploads/LaMaseratiMonitor/\n",
      "INFO:root:Could not extract T_MClo (P) from http://dicarlolab.tudelft.nl//wp-content/uploads/LaMaseratiMonitor/\n",
      "INFO:root:Could not extract T_MChi from http://dicarlolab.tudelft.nl//wp-content/uploads/LaMaseratiMonitor/\n",
      "INFO:root:Could not extract T_Still from http://dicarlolab.tudelft.nl//wp-content/uploads/LaDucatiMonitor/\n",
      "INFO:root:Could not extract T_Still from http://dicarlolab.tudelft.nl//wp-content/uploads/LaFerrariMonitor/\n",
      "INFO:root:Could not extract T_MChi from http://dicarlolab.tudelft.nl//wp-content/uploads/LaApriliaMonitor/\n",
      "INFO:root:Could not extract T_MCloCMN  from http://dicarlolab.tudelft.nl//wp-content/uploads/LaApriliaMonitor/\n"
     ]
    }
   ],
   "source": [
    "from pycqed.instrument_drivers.virtual_instruments import instrument_monitor as im\n",
    "IM = im.InstrumentMonitor('IM', station=station)\n",
    "\n",
    "from importlib import reload\n",
    "from pycqed.instrument_drivers.physical_instruments import Fridge_monitor as fm\n",
    "reload(fm)\n",
    "\n",
    "FM_LaMaserati= fm.Fridge_Monitor('FM_LaMaserati', 'LaMaserati')\n",
    "FM_LaDucati= fm.Fridge_Monitor('FM_LaDucati', 'LaDucati')\n",
    "FM_LaFerrari= fm.Fridge_Monitor('FM_LaFerrari', 'LaFerrari')\n",
    "FM_LaAprilia= fm.Fridge_Monitor('FM_LaAprilia', 'LaAprilia')\n",
    "station.add_component(FM_LaMaserati)\n",
    "station.add_component(FM_LaDucati)\n",
    "station.add_component(FM_LaFerrari)\n",
    "station.add_component(FM_LaAprilia)\n",
    "IM.update()"
   ]
  },
  {
   "cell_type": "code",
   "execution_count": 4,
   "metadata": {
    "collapsed": false
   },
   "outputs": [
    {
     "name": "stderr",
     "output_type": "stream",
     "text": [
      "INFO:root:Could not extract T_3K (P) from http://dicarlolab.tudelft.nl//wp-content/uploads/LaMaseratiMonitor/\n",
      "INFO:root:Could not extract T_Still (P) from http://dicarlolab.tudelft.nl//wp-content/uploads/LaMaseratiMonitor/\n",
      "INFO:root:Could not extract T_MClo (P) from http://dicarlolab.tudelft.nl//wp-content/uploads/LaMaseratiMonitor/\n",
      "INFO:root:Could not extract T_MChi from http://dicarlolab.tudelft.nl//wp-content/uploads/LaMaseratiMonitor/\n",
      "INFO:root:Could not extract T_Still from http://dicarlolab.tudelft.nl//wp-content/uploads/LaDucatiMonitor/\n",
      "INFO:root:Could not extract T_Still from http://dicarlolab.tudelft.nl//wp-content/uploads/LaFerrariMonitor/\n",
      "INFO:root:Could not extract T_MChi from http://dicarlolab.tudelft.nl//wp-content/uploads/LaApriliaMonitor/\n",
      "INFO:root:Could not extract T_MCloCMN  from http://dicarlolab.tudelft.nl//wp-content/uploads/LaApriliaMonitor/\n"
     ]
    }
   ],
   "source": [
    "IM.update()"
   ]
  },
  {
   "cell_type": "code",
   "execution_count": 6,
   "metadata": {
    "collapsed": false
   },
   "outputs": [
    {
     "name": "stderr",
     "output_type": "stream",
     "text": [
      "INFO:root:Could not extract T_3K (P) from http://dicarlolab.tudelft.nl//wp-content/uploads/LaMaseratiMonitor/\n",
      "INFO:root:Could not extract T_Still (P) from http://dicarlolab.tudelft.nl//wp-content/uploads/LaMaseratiMonitor/\n",
      "INFO:root:Could not extract T_MClo (P) from http://dicarlolab.tudelft.nl//wp-content/uploads/LaMaseratiMonitor/\n",
      "INFO:root:Could not extract T_MChi from http://dicarlolab.tudelft.nl//wp-content/uploads/LaMaseratiMonitor/\n",
      "INFO:root:Could not extract T_Still from http://dicarlolab.tudelft.nl//wp-content/uploads/LaDucatiMonitor/\n",
      "INFO:root:Could not extract T_Still from http://dicarlolab.tudelft.nl//wp-content/uploads/LaFerrariMonitor/\n",
      "INFO:root:Could not extract T_MChi from http://dicarlolab.tudelft.nl//wp-content/uploads/LaApriliaMonitor/\n",
      "INFO:root:Could not extract T_MCloCMN  from http://dicarlolab.tudelft.nl//wp-content/uploads/LaApriliaMonitor/\n"
     ]
    }
   ],
   "source": [
    "IM.update()"
   ]
  },
  {
   "cell_type": "code",
   "execution_count": 24,
   "metadata": {
    "collapsed": false
   },
   "outputs": [
    {
     "data": {
      "text/plain": [
       "<_sre.SRE_Match object; span=(299, 306), match='Current'>"
      ]
     },
     "execution_count": 24,
     "metadata": {},
     "output_type": "execute_result"
    }
   ],
   "source": [
    "re.search('Current', str(source))"
   ]
  },
  {
   "cell_type": "code",
   "execution_count": 63,
   "metadata": {
    "collapsed": false
   },
   "outputs": [
    {
     "data": {
      "text/plain": [
       "['Fri, May 19, 2017 6:21:28 PM.']"
      ]
     },
     "execution_count": 63,
     "metadata": {},
     "output_type": "execute_result"
    }
   ],
   "source": [
    "re.findall('Current time: (.*)<br>L', str(source))"
   ]
  },
  {
   "cell_type": "code",
   "execution_count": 10,
   "metadata": {
    "collapsed": false
   },
   "outputs": [
    {
     "data": {
      "text/plain": [
       "[('T_3K', '6272'),\n",
       " ('T_Still', '5300'),\n",
       " ('T_CP', '6066'),\n",
       " ('T_MClo', '5888.6'),\n",
       " ('T_50K (P)', '3.9241'),\n",
       " ('T_CP (P)', '0'),\n",
       " ('T_MChi (P)', '3.9241')]"
      ]
     },
     "execution_count": 10,
     "metadata": {},
     "output_type": "execute_result"
    }
   ],
   "source": [
    "update = re.findall(\n",
    "    r'<br>(T_[\\w_]+(?: \\(P\\))?) = ([\\d\\.]+)', str(source))\n"
   ]
  },
  {
   "cell_type": "code",
   "execution_count": 14,
   "metadata": {
    "collapsed": false
   },
   "outputs": [
    {
     "name": "stderr",
     "output_type": "stream",
     "text": [
      "INFO:root:Could not extract T_3K (P) from http://dicarlolab.tudelft.nl//wp-content/uploads/LaMaseratiMonitor/\n",
      "INFO:root:Could not extract T_Still (P) from http://dicarlolab.tudelft.nl//wp-content/uploads/LaMaseratiMonitor/\n",
      "INFO:root:Could not extract T_MClo (P) from http://dicarlolab.tudelft.nl//wp-content/uploads/LaMaseratiMonitor/\n",
      "INFO:root:Could not extract T_MChi from http://dicarlolab.tudelft.nl//wp-content/uploads/LaMaseratiMonitor/\n",
      "INFO:root:Could not extract T_Still from http://dicarlolab.tudelft.nl//wp-content/uploads/LaDucatiMonitor/\n",
      "INFO:root:Could not extract T_Still from http://dicarlolab.tudelft.nl//wp-content/uploads/LaFerrariMonitor/\n",
      "INFO:root:Could not extract T_MChi from http://dicarlolab.tudelft.nl//wp-content/uploads/LaApriliaMonitor/\n",
      "INFO:root:Could not extract T_MCloCMN  from http://dicarlolab.tudelft.nl//wp-content/uploads/LaApriliaMonitor/\n"
     ]
    }
   ],
   "source": [
    "IM.update()"
   ]
  },
  {
   "cell_type": "code",
   "execution_count": null,
   "metadata": {
    "collapsed": true
   },
   "outputs": [],
   "source": []
  }
 ],
 "metadata": {
  "kernelspec": {
   "display_name": "Python 3",
   "language": "python",
   "name": "python3"
  },
  "language_info": {
   "codemirror_mode": {
    "name": "ipython",
    "version": 3
   },
   "file_extension": ".py",
   "mimetype": "text/x-python",
   "name": "python",
   "nbconvert_exporter": "python",
   "pygments_lexer": "ipython3",
   "version": "3.6.0"
  }
 },
 "nbformat": 4,
 "nbformat_minor": 0
}
