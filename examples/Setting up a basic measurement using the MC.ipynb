{
 "cells": [
  {
   "cell_type": "code",
   "execution_count": 1,
   "metadata": {
    "collapsed": false
   },
   "outputs": [
    {
     "name": "stdout",
     "output_type": "stream",
     "text": [
      "Data directory set to: /Users/Adriaan/Documents/Testing/Data\n"
     ]
    },
    {
     "data": {
      "application/javascript": [
       "/*\n",
       " * Qcodes Jupyter/IPython widgets\n",
       " */\n",
       "require([\n",
       "    'nbextensions/widgets/widgets/js/widget',\n",
       "    'nbextensions/widgets/widgets/js/manager'\n",
       "], function (widget, manager) {\n",
       "\n",
       "    var UpdateView = widget.DOMWidgetView.extend({\n",
       "        render: function() {\n",
       "            window.MYWIDGET = this;\n",
       "            this._interval = 0;\n",
       "            this.update();\n",
       "        },\n",
       "        update: function() {\n",
       "            this.display(this.model.get('_message'));\n",
       "            this.setInterval();\n",
       "        },\n",
       "        display: function(message) {\n",
       "            /*\n",
       "             * display method: override this for custom display logic\n",
       "             */\n",
       "            this.el.innerHTML = message;\n",
       "        },\n",
       "        remove: function() {\n",
       "            clearInterval(this._updater);\n",
       "        },\n",
       "        setInterval: function(newInterval) {\n",
       "            var me = this;\n",
       "            if(newInterval===undefined) newInterval = me.model.get('interval');\n",
       "            if(newInterval===me._interval) return;\n",
       "\n",
       "            me._interval = newInterval;\n",
       "\n",
       "            if(me._updater) clearInterval(me._updater);\n",
       "\n",
       "            if(me._interval) {\n",
       "                me._updater = setInterval(function() {\n",
       "                    me.send({myupdate: true});\n",
       "                    if(!me.model.comm_live) {\n",
       "                        console.log('missing comm, canceling widget updates', me);\n",
       "                        clearInterval(me._updater);\n",
       "                    }\n",
       "                }, me._interval * 1000);\n",
       "            }\n",
       "        }\n",
       "    });\n",
       "    manager.WidgetManager.register_widget_view('UpdateView', UpdateView);\n",
       "\n",
       "    var HiddenUpdateView = UpdateView.extend({\n",
       "        display: function(message) {\n",
       "            this.$el.hide();\n",
       "        }\n",
       "    });\n",
       "    manager.WidgetManager.register_widget_view('HiddenUpdateView', HiddenUpdateView);\n",
       "\n",
       "    var SubprocessView = UpdateView.extend({\n",
       "        render: function() {\n",
       "            var me = this;\n",
       "            me._interval = 0;\n",
       "            me._minimize = '<i class=\"fa-minus fa\"></i>';\n",
       "            me._restore = '<i class=\"fa-plus fa\"></i>';\n",
       "\n",
       "            // max lines of output to show\n",
       "            me.maxOutputLength = 500;\n",
       "\n",
       "            // in case there is already an outputView present,\n",
       "            // like from before restarting the kernel\n",
       "            $('.qcodes-output-view').not(me.$el).remove();\n",
       "\n",
       "            me.$el\n",
       "                .addClass('qcodes-output-view')\n",
       "                .attr('qcodes-state', 'docked')\n",
       "                .html(\n",
       "                    '<div class=\"qcodes-output-header toolbar\">' +\n",
       "                        '<div class=\"qcodes-process-list\"></div>' +\n",
       "                        '<button class=\"btn qcodes-processlines\"><i class=\"fa-list fa\"></i></button>' +\n",
       "                        '<button class=\"btn qcodes-abort-loop disabled\">Abort</button>' +\n",
       "                        '<button class=\"btn qcodes-clear-output disabled qcodes-content\">Clear</button>' +\n",
       "                        '<button class=\"btn js-state qcodes-minimized\"><i class=\"fa-minus fa\"></i></button>' +\n",
       "                        '<button class=\"btn js-state qcodes-docked\"><i class=\"fa-toggle-up fa\"></i></button>' +\n",
       "                        '<button class=\"btn js-state qcodes-floated\"><i class=\"fa-arrows fa\"></i></button>' +\n",
       "                    '</div>' +\n",
       "                    '<pre class=\"qcodes-content\"></pre>'\n",
       "                );\n",
       "\n",
       "            me.clearButton = me.$el.find('.qcodes-clear-output');\n",
       "            me.minButton = me.$el.find('.qcodes-minimize');\n",
       "            me.outputArea = me.$el.find('pre');\n",
       "            me.subprocessList = me.$el.find('.qcodes-process-list');\n",
       "            me.abortButton = me.$el.find('.qcodes-abort-loop');\n",
       "            me.processLinesButton = me.$el.find('.qcodes-processlines')\n",
       "\n",
       "            me.outputLines = [];\n",
       "\n",
       "            me.clearButton.click(function() {\n",
       "                me.outputArea.html('');\n",
       "                me.clearButton.addClass('disabled');\n",
       "            });\n",
       "\n",
       "            me.abortButton.click(function() {\n",
       "                me.send({abort: true});\n",
       "            });\n",
       "\n",
       "            me.processLinesButton.click(function() {\n",
       "                // toggle multiline process list display\n",
       "                me.subprocessesMultiline = !me.subprocessesMultiline;\n",
       "                me.showSubprocesses();\n",
       "            });\n",
       "\n",
       "            me.$el.find('.js-state').click(function() {\n",
       "                var state = this.className.substr(this.className.indexOf('qcodes'))\n",
       "                        .split('-')[1].split(' ')[0];\n",
       "                me.model.set('_state', state);\n",
       "            });\n",
       "\n",
       "            $(window)\n",
       "                .off('resize.qcodes')\n",
       "                .on('resize.qcodes', function() {me.clipBounds();});\n",
       "\n",
       "            me.update();\n",
       "        },\n",
       "\n",
       "        updateState: function() {\n",
       "            var me = this,\n",
       "                oldState = me.$el.attr('qcodes-state'),\n",
       "                state = me.model.get('_state');\n",
       "\n",
       "            if(state === oldState) return;\n",
       "\n",
       "            setTimeout(function() {\n",
       "                // not sure why I can't pop it out of the widgetarea in render, but it seems that\n",
       "                // some other bit of code resets the parent after render if I do it there.\n",
       "                // To be safe, just do it on every state click.\n",
       "                me.$el.appendTo('body');\n",
       "\n",
       "                if(oldState === 'floated') {\n",
       "                    console.log('here');\n",
       "                    me.$el.draggable('destroy').css({left:'', top: ''});\n",
       "                }\n",
       "\n",
       "                me.$el.attr('qcodes-state', state);\n",
       "\n",
       "                if(state === 'floated') {\n",
       "                    me.$el\n",
       "                        .draggable({stop: function() { me.clipBounds(); }})\n",
       "                        .css({\n",
       "                            left: window.innerWidth - me.$el.width() - 15,\n",
       "                            top: window.innerHeight - me.$el.height() - 10\n",
       "                        });\n",
       "                }\n",
       "\n",
       "                // any previous highlighting is now moot\n",
       "                me.$el.removeClass('qcodes-highlight');\n",
       "            }, 0);\n",
       "\n",
       "        },\n",
       "\n",
       "        clipBounds: function() {\n",
       "            var me = this;\n",
       "            if(me.$el.attr('qcodes-state') === 'floated') {\n",
       "                var bounds = me.$el[0].getBoundingClientRect(),\n",
       "                    minVis = 40,\n",
       "                    maxLeft = window.innerWidth - minVis,\n",
       "                    minLeft = minVis - bounds.width,\n",
       "                    maxTop = window.innerHeight - minVis;\n",
       "\n",
       "                if(bounds.left > maxLeft) me.$el.css('left', maxLeft);\n",
       "                else if(bounds.left < minLeft) me.$el.css('left', minLeft);\n",
       "\n",
       "                if(bounds.top > maxTop) me.$el.css('top', maxTop);\n",
       "                else if(bounds.top < 0) me.$el.css('top', 0);\n",
       "            }\n",
       "        },\n",
       "\n",
       "        display: function(message) {\n",
       "            var me = this;\n",
       "            if(message) {\n",
       "                var initialScroll = me.outputArea.scrollTop();\n",
       "                me.outputArea.scrollTop(me.outputArea.prop('scrollHeight'));\n",
       "                var scrollBottom = me.outputArea.scrollTop();\n",
       "\n",
       "                if(me.$el.attr('qcodes-state') === 'minimized') {\n",
       "                    // if we add text and the box is minimized, highlight the\n",
       "                    // title bar to alert the user that there are new messages.\n",
       "                    // remove then add the class, so we get the animation again\n",
       "                    // if it's already highlighted\n",
       "                    me.$el.removeClass('qcodes-highlight');\n",
       "                    setTimeout(function(){\n",
       "                        me.$el.addClass('qcodes-highlight');\n",
       "                    }, 0);\n",
       "                }\n",
       "\n",
       "                var newLines = message.split('\\n'),\n",
       "                    out = me.outputLines,\n",
       "                    outLen = out.length;\n",
       "                if(outLen) out[outLen - 1] += newLines[0];\n",
       "                else out.push(newLines[0]);\n",
       "\n",
       "                for(var i = 1; i < newLines.length; i++) {\n",
       "                    out.push(newLines[i]);\n",
       "                }\n",
       "\n",
       "                if(out.length > me.maxOutputLength) {\n",
       "                    out.splice(0, out.length - me.maxOutputLength + 1,\n",
       "                        '<<< Output clipped >>>');\n",
       "                }\n",
       "\n",
       "                me.outputArea.text(out.join('\\n'));\n",
       "                me.clearButton.removeClass('disabled');\n",
       "\n",
       "                // if we were scrolled to the bottom initially, make sure\n",
       "                // we stay that way.\n",
       "                me.outputArea.scrollTop(initialScroll === scrollBottom ?\n",
       "                    me.outputArea.prop('scrollHeight') : initialScroll);\n",
       "            }\n",
       "\n",
       "            me.showSubprocesses();\n",
       "            me.updateState();\n",
       "        },\n",
       "\n",
       "        showSubprocesses: function() {\n",
       "            var me = this,\n",
       "                replacer = me.subprocessesMultiline ? '<br>' : ', ',\n",
       "                processes = (me.model.get('_processes') || '')\n",
       "                    .replace(/\\n/g, '&gt;' + replacer + '&lt;');\n",
       "\n",
       "            if(processes) processes = '&lt;' + processes + '&gt;';\n",
       "            else processes = 'No subprocesses';\n",
       "\n",
       "            me.abortButton.toggleClass('disabled', processes.indexOf('Measurement')===-1);\n",
       "\n",
       "            me.subprocessList.html(processes);\n",
       "        }\n",
       "    });\n",
       "    manager.WidgetManager.register_widget_view('SubprocessView', SubprocessView);\n",
       "});\n"
      ],
      "text/plain": [
       "<IPython.core.display.Javascript object>"
      ]
     },
     "metadata": {},
     "output_type": "display_data"
    },
    {
     "data": {
      "text/html": [
       "<style>.qcodes-output-view:not(.ui-draggable) {\n",
       "    bottom: 0;\n",
       "    right: 5px;\n",
       "}\n",
       ".qcodes-output-view {\n",
       "    position: fixed;\n",
       "    z-index: 999;\n",
       "    background-color: #fff;\n",
       "    box-shadow: 0 0 12px 1px rgba(87, 87, 87, 0.2);\n",
       "}\n",
       "\n",
       ".qcodes-output-header {\n",
       "    float: right;\n",
       "}\n",
       "\n",
       ".qcodes-highlight {\n",
       "    animation: pulse 1s linear;\n",
       "    background-color: #fa4;\n",
       "}\n",
       "\n",
       "@keyframes pulse {\n",
       "    0% {\n",
       "        background-color: #f00;\n",
       "    }\n",
       "    100% {\n",
       "        background-color: #fa4;\n",
       "    }\n",
       "}\n",
       "\n",
       ".qcodes-process-list {\n",
       "    float: left;\n",
       "    max-width: 780px;\n",
       "    margin: 3px 5px 3px 10px;\n",
       "    overflow: hidden;\n",
       "    white-space: nowrap;\n",
       "    text-overflow: ellipsis;\n",
       "}\n",
       "\n",
       ".qcodes-output-view[qcodes-state=minimized] .qcodes-process-list {\n",
       "    max-width: 300px;\n",
       "}\n",
       "\n",
       ".qcodes-output-view span {\n",
       "    padding: 2px 6px 3px 12px;\n",
       "}\n",
       "\n",
       ".qcodes-output-view .btn {\n",
       "    margin: 0 3px 0 0;\n",
       "}\n",
       "\n",
       ".qcodes-output-view[qcodes-state=docked] .qcodes-docked,\n",
       ".qcodes-output-view[qcodes-state=floated] .qcodes-floated,\n",
       ".qcodes-output-view[qcodes-state=minimized] .qcodes-minimized,\n",
       ".qcodes-output-view[qcodes-state=minimized] .qcodes-content {\n",
       "    display: none;\n",
       "}\n",
       "\n",
       ".qcodes-output-view .disabled {\n",
       "    opacity: 0.4;\n",
       "}\n",
       "\n",
       ".qcodes-abort-loop {\n",
       "    background-color: #844;\n",
       "    color: #fff;\n",
       "}\n",
       "\n",
       ".qcodes-output-view pre {\n",
       "    clear: both;\n",
       "    margin: 0;\n",
       "    border: 0;\n",
       "    border-top: 1px solid #ccc;\n",
       "    background-color: #ffe;\n",
       "    min-height: 50px;\n",
       "    max-height: 400px;\n",
       "    min-width: 400px;\n",
       "    max-width: 1000px;\n",
       "}</style>"
      ],
      "text/plain": [
       "<IPython.core.display.HTML object>"
      ]
     },
     "metadata": {},
     "output_type": "display_data"
    }
   ],
   "source": [
    "import pycqed as pq\n",
    "import numpy as np\n",
    "from pycqed.measurement import measurement_control\n",
    "from pycqed.measurement.sweep_functions import None_Sweep\n",
    "import pycqed.measurement.detector_functions as det\n",
    "from qcodes import station\n",
    "station = station.Station()\n"
   ]
  },
  {
   "cell_type": "markdown",
   "metadata": {},
   "source": [
    "## Creating an instance of the measurement control"
   ]
  },
  {
   "cell_type": "code",
   "execution_count": 2,
   "metadata": {
    "collapsed": false
   },
   "outputs": [
    {
     "data": {
      "text/plain": [
       "'MC'"
      ]
     },
     "execution_count": 2,
     "metadata": {},
     "output_type": "execute_result"
    }
   ],
   "source": [
    "\n",
    "MC = measurement_control.MeasurementControl('MC',live_plot_enabled=True, verbose=False)\n",
    "MC.station = station\n",
    "station.add_component(MC)"
   ]
  },
  {
   "cell_type": "markdown",
   "metadata": {},
   "source": [
    "# A simple 1D measurement "
   ]
  },
  {
   "cell_type": "code",
   "execution_count": 3,
   "metadata": {
    "collapsed": false
   },
   "outputs": [],
   "source": [
    "\n",
    "\n",
    "None_Sweep()\n",
    "MC.set_sweep_function(None_Sweep())\n",
    "MC.set_sweep_points(np.linspace(0, 10, 30))\n",
    "MC.set_detector_function(det.Dummy_Detector_Soft())\n",
    "dat = MC.run('dummy')"
   ]
  },
  {
   "cell_type": "markdown",
   "metadata": {},
   "source": [
    "# A simple 2D measurement"
   ]
  },
  {
   "cell_type": "code",
   "execution_count": 4,
   "metadata": {
    "collapsed": false
   },
   "outputs": [
    {
     "name": "stderr",
     "output_type": "stream",
     "text": [
      "/Users/Adriaan/GitHubRepos/DiCarloLab_Repositories/PycQED_py3/pycqed/measurement/measurement_control.py:499: VisibleDeprecationWarning: using a non-integer number instead of an integer will result in an error in the future\n",
      "  self.TwoD_array[y_ind, x_ind, j] = self.dset[i, z_ind]\n",
      "/Users/Adriaan/GitHubRepos/DiCarloLab_Repositories/PycQED_py3/pycqed/measurement/measurement_control.py:499: VisibleDeprecationWarning: using a non-integer number instead of an integer will result in an error in the future\n",
      "  self.TwoD_array[y_ind, x_ind, j] = self.dset[i, z_ind]\n",
      "/Users/Adriaan/GitHubRepos/DiCarloLab_Repositories/PycQED_py3/pycqed/measurement/measurement_control.py:499: VisibleDeprecationWarning: using a non-integer number instead of an integer will result in an error in the future\n",
      "  self.TwoD_array[y_ind, x_ind, j] = self.dset[i, z_ind]\n"
     ]
    }
   ],
   "source": [
    "sweep_pts = np.linspace(0, 10, 30)\n",
    "sweep_pts_2D = np.linspace(0, 10, 5)\n",
    "MC.set_sweep_function(None_Sweep(sweep_control='soft'))\n",
    "MC.set_sweep_function_2D(None_Sweep(sweep_control='soft'))\n",
    "MC.set_sweep_points(sweep_pts)\n",
    "MC.set_sweep_points_2D(sweep_pts_2D)\n",
    "MC.set_detector_function(det.Dummy_Detector_Soft())\n",
    "dat=MC.run('test', mode='2D')"
   ]
  },
  {
   "cell_type": "markdown",
   "metadata": {},
   "source": [
    "# 2D combinatioin of a hard inner and soft outer loop\n",
    "The hard inner loop returns 30 values "
   ]
  },
  {
   "cell_type": "code",
   "execution_count": 5,
   "metadata": {
    "collapsed": false
   },
   "outputs": [
    {
     "data": {
      "text/plain": [
       "<module 'pycqed.measurement.detector_functions' from '/Users/Adriaan/GitHubRepos/DiCarloLab_Repositories/PycQED_py3/pycqed/measurement/detector_functions.py'>"
      ]
     },
     "execution_count": 5,
     "metadata": {},
     "output_type": "execute_result"
    }
   ],
   "source": [
    "from importlib import reload\n",
    "reload(det)"
   ]
  },
  {
   "cell_type": "code",
   "execution_count": null,
   "metadata": {
    "collapsed": true
   },
   "outputs": [],
   "source": []
  },
  {
   "cell_type": "code",
   "execution_count": 6,
   "metadata": {
    "collapsed": false
   },
   "outputs": [
    {
     "name": "stdout",
     "output_type": "stream",
     "text": [
      "start idx: 0\n",
      "start idx: 30\n",
      "start idx: 60\n",
      "start idx: 90\n",
      "start idx: 120\n",
      "start idx: 150\n",
      "start idx: 180\n",
      "start idx: 210\n",
      "start idx: 240\n",
      "start idx: 270\n",
      "start idx: 300\n",
      "start idx: 330\n",
      "start idx: 360\n",
      "start idx: 390\n",
      "start idx: 420\n",
      "start idx: 450\n",
      "start idx: 480\n",
      "start idx: 510\n",
      "start idx: 540\n",
      "start idx: 570\n",
      "start idx: 600\n",
      "start idx: 630\n",
      "start idx: 660\n",
      "start idx: 690\n",
      "start idx: 720\n",
      "start idx: 750\n",
      "start idx: 780\n",
      "start idx: 810\n",
      "start idx: 840\n",
      "start idx: 870\n"
     ]
    }
   ],
   "source": [
    "sweep_pts = np.linspace(0, 10, 30)\n",
    "sweep_pts_2D = np.linspace(0, 10, 30)\n",
    "MC.set_sweep_function(None_Sweep(sweep_control='hard'))\n",
    "MC.set_sweep_function_2D(None_Sweep(sweep_control='soft'))\n",
    "MC.set_sweep_points(sweep_pts)\n",
    "MC.set_sweep_points_2D(sweep_pts_2D)\n",
    "MC.set_detector_function(det.Dummy_Detector_Hard(delay=.05, noise=.2))\n",
    "dat = MC.run('2D_hard', mode='2D')"
   ]
  },
  {
   "cell_type": "markdown",
   "metadata": {},
   "source": [
    "## A Hard measurement that uses soft averaging"
   ]
  },
  {
   "cell_type": "markdown",
   "metadata": {},
   "source": [
    "The number of soft_averages determines how many times the experiment will be performed. \n",
    "Only the averaged data is plotted and saved. \n",
    "The number of soft-averages can be set as a parameter of the Measurement Control. \n",
    "\n",
    "Will first implement it for 1D hard sweeps (easier) and then follow for combinations of hard and soft sweeps. "
   ]
  },
  {
   "cell_type": "code",
   "execution_count": 7,
   "metadata": {
    "collapsed": true
   },
   "outputs": [],
   "source": [
    "MC.soft_avg(10)"
   ]
  },
  {
   "cell_type": "code",
   "execution_count": 8,
   "metadata": {
    "collapsed": false
   },
   "outputs": [
    {
     "name": "stdout",
     "output_type": "stream",
     "text": [
      "start idx: 0\n",
      "start idx: 0\n"
     ]
    },
    {
     "ename": "TypeError",
     "evalue": "Can't broadcast (30, 2) -> (60, 2)",
     "output_type": "error",
     "traceback": [
      "\u001b[0;31m---------------------------------------------------------------------------\u001b[0m",
      "\u001b[0;31mTypeError\u001b[0m                                 Traceback (most recent call last)",
      "\u001b[0;32m<ipython-input-8-c7b9353d6dad>\u001b[0m in \u001b[0;36m<module>\u001b[0;34m()\u001b[0m\n\u001b[1;32m      3\u001b[0m \u001b[0mMC\u001b[0m\u001b[0;34m.\u001b[0m\u001b[0mset_sweep_points\u001b[0m\u001b[0;34m(\u001b[0m\u001b[0mnp\u001b[0m\u001b[0;34m.\u001b[0m\u001b[0mlinspace\u001b[0m\u001b[0;34m(\u001b[0m\u001b[0;36m0\u001b[0m\u001b[0;34m,\u001b[0m \u001b[0;36m10\u001b[0m\u001b[0;34m,\u001b[0m \u001b[0;36m30\u001b[0m\u001b[0;34m)\u001b[0m\u001b[0;34m)\u001b[0m\u001b[0;34m\u001b[0m\u001b[0m\n\u001b[1;32m      4\u001b[0m \u001b[0mMC\u001b[0m\u001b[0;34m.\u001b[0m\u001b[0mset_detector_function\u001b[0m\u001b[0;34m(\u001b[0m\u001b[0mdet\u001b[0m\u001b[0;34m.\u001b[0m\u001b[0mDummy_Detector_Hard\u001b[0m\u001b[0;34m(\u001b[0m\u001b[0mnoise\u001b[0m\u001b[0;34m=\u001b[0m\u001b[0;36m.1\u001b[0m\u001b[0;34m)\u001b[0m\u001b[0;34m)\u001b[0m\u001b[0;34m\u001b[0m\u001b[0m\n\u001b[0;32m----> 5\u001b[0;31m \u001b[0mdat\u001b[0m \u001b[0;34m=\u001b[0m \u001b[0mMC\u001b[0m\u001b[0;34m.\u001b[0m\u001b[0mrun\u001b[0m\u001b[0;34m(\u001b[0m\u001b[0;34m'dummy_hard'\u001b[0m\u001b[0;34m)\u001b[0m\u001b[0;34m\u001b[0m\u001b[0m\n\u001b[0m",
      "\u001b[0;32m/Users/Adriaan/GitHubRepos/DiCarloLab_Repositories/PycQED_py3/pycqed/measurement/measurement_control.py\u001b[0m in \u001b[0;36mrun\u001b[0;34m(self, name, mode, **kw)\u001b[0m\n\u001b[1;32m     87\u001b[0m             \u001b[0mself\u001b[0m\u001b[0;34m.\u001b[0m\u001b[0mxlen\u001b[0m \u001b[0;34m=\u001b[0m \u001b[0mlen\u001b[0m\u001b[0;34m(\u001b[0m\u001b[0mself\u001b[0m\u001b[0;34m.\u001b[0m\u001b[0mget_sweep_points\u001b[0m\u001b[0;34m(\u001b[0m\u001b[0;34m)\u001b[0m\u001b[0;34m)\u001b[0m\u001b[0;34m\u001b[0m\u001b[0m\n\u001b[1;32m     88\u001b[0m             \u001b[0;32mif\u001b[0m \u001b[0mself\u001b[0m\u001b[0;34m.\u001b[0m\u001b[0mmode\u001b[0m \u001b[0;34m==\u001b[0m \u001b[0;34m'1D'\u001b[0m\u001b[0;34m:\u001b[0m\u001b[0;34m\u001b[0m\u001b[0m\n\u001b[0;32m---> 89\u001b[0;31m                 \u001b[0mself\u001b[0m\u001b[0;34m.\u001b[0m\u001b[0mmeasure\u001b[0m\u001b[0;34m(\u001b[0m\u001b[0;34m)\u001b[0m\u001b[0;34m\u001b[0m\u001b[0m\n\u001b[0m\u001b[1;32m     90\u001b[0m             \u001b[0;32melif\u001b[0m \u001b[0mself\u001b[0m\u001b[0;34m.\u001b[0m\u001b[0mmode\u001b[0m \u001b[0;34m==\u001b[0m \u001b[0;34m'2D'\u001b[0m\u001b[0;34m:\u001b[0m\u001b[0;34m\u001b[0m\u001b[0m\n\u001b[1;32m     91\u001b[0m                 \u001b[0mself\u001b[0m\u001b[0;34m.\u001b[0m\u001b[0mmeasure_2D\u001b[0m\u001b[0;34m(\u001b[0m\u001b[0;34m)\u001b[0m\u001b[0;34m\u001b[0m\u001b[0m\n",
      "\u001b[0;32m/Users/Adriaan/GitHubRepos/DiCarloLab_Repositories/PycQED_py3/pycqed/measurement/measurement_control.py\u001b[0m in \u001b[0;36mmeasure\u001b[0;34m(self, *kw)\u001b[0m\n\u001b[1;32m    118\u001b[0m                     self.detector_function.prepare(\n\u001b[1;32m    119\u001b[0m                         sweep_points=self.get_sweep_points())\n\u001b[0;32m--> 120\u001b[0;31m                     \u001b[0mself\u001b[0m\u001b[0;34m.\u001b[0m\u001b[0mmeasure_hard\u001b[0m\u001b[0;34m(\u001b[0m\u001b[0;34m)\u001b[0m\u001b[0;34m\u001b[0m\u001b[0m\n\u001b[0m\u001b[1;32m    121\u001b[0m             \u001b[0;32melse\u001b[0m\u001b[0;34m:\u001b[0m\u001b[0;34m\u001b[0m\u001b[0m\n\u001b[1;32m    122\u001b[0m                 \u001b[0mself\u001b[0m\u001b[0;34m.\u001b[0m\u001b[0mget_measurement_preparetime\u001b[0m\u001b[0;34m(\u001b[0m\u001b[0;34m)\u001b[0m\u001b[0;34m\u001b[0m\u001b[0m\n",
      "\u001b[0;32m/Users/Adriaan/GitHubRepos/DiCarloLab_Repositories/PycQED_py3/pycqed/measurement/measurement_control.py\u001b[0m in \u001b[0;36mmeasure_hard\u001b[0;34m(self)\u001b[0m\n\u001b[1;32m    219\u001b[0m         \u001b[0;32melse\u001b[0m\u001b[0;34m:\u001b[0m\u001b[0;34m\u001b[0m\u001b[0m\n\u001b[1;32m    220\u001b[0m             self.dset[start_idx:,\n\u001b[0;32m--> 221\u001b[0;31m                       len(self.sweep_functions):] = new_data\n\u001b[0m\u001b[1;32m    222\u001b[0m \u001b[0;34m\u001b[0m\u001b[0m\n\u001b[1;32m    223\u001b[0m         \u001b[0msweep_len\u001b[0m \u001b[0;34m=\u001b[0m \u001b[0mlen\u001b[0m\u001b[0;34m(\u001b[0m\u001b[0mself\u001b[0m\u001b[0;34m.\u001b[0m\u001b[0mget_sweep_points\u001b[0m\u001b[0;34m(\u001b[0m\u001b[0;34m)\u001b[0m\u001b[0;34m.\u001b[0m\u001b[0mT\u001b[0m\u001b[0;34m)\u001b[0m\u001b[0;34m\u001b[0m\u001b[0m\n",
      "\u001b[0;32mh5py/_objects.pyx\u001b[0m in \u001b[0;36mh5py._objects.with_phil.wrapper (/Users/travis/build/MacPython/h5py-wheels/h5py/h5py/_objects.c:2687)\u001b[0;34m()\u001b[0m\n",
      "\u001b[0;32mh5py/_objects.pyx\u001b[0m in \u001b[0;36mh5py._objects.with_phil.wrapper (/Users/travis/build/MacPython/h5py-wheels/h5py/h5py/_objects.c:2645)\u001b[0;34m()\u001b[0m\n",
      "\u001b[0;32m/usr/local/lib/python3.5/site-packages/h5py/_hl/dataset.py\u001b[0m in \u001b[0;36m__setitem__\u001b[0;34m(self, args, val)\u001b[0m\n\u001b[1;32m    615\u001b[0m             \u001b[0mmshape_pad\u001b[0m \u001b[0;34m=\u001b[0m \u001b[0mmshape\u001b[0m\u001b[0;34m\u001b[0m\u001b[0m\n\u001b[1;32m    616\u001b[0m         \u001b[0mmspace\u001b[0m \u001b[0;34m=\u001b[0m \u001b[0mh5s\u001b[0m\u001b[0;34m.\u001b[0m\u001b[0mcreate_simple\u001b[0m\u001b[0;34m(\u001b[0m\u001b[0mmshape_pad\u001b[0m\u001b[0;34m,\u001b[0m \u001b[0;34m(\u001b[0m\u001b[0mh5s\u001b[0m\u001b[0;34m.\u001b[0m\u001b[0mUNLIMITED\u001b[0m\u001b[0;34m,\u001b[0m\u001b[0;34m)\u001b[0m\u001b[0;34m*\u001b[0m\u001b[0mlen\u001b[0m\u001b[0;34m(\u001b[0m\u001b[0mmshape_pad\u001b[0m\u001b[0;34m)\u001b[0m\u001b[0;34m)\u001b[0m\u001b[0;34m\u001b[0m\u001b[0m\n\u001b[0;32m--> 617\u001b[0;31m         \u001b[0;32mfor\u001b[0m \u001b[0mfspace\u001b[0m \u001b[0;32min\u001b[0m \u001b[0mselection\u001b[0m\u001b[0;34m.\u001b[0m\u001b[0mbroadcast\u001b[0m\u001b[0;34m(\u001b[0m\u001b[0mmshape\u001b[0m\u001b[0;34m)\u001b[0m\u001b[0;34m:\u001b[0m\u001b[0;34m\u001b[0m\u001b[0m\n\u001b[0m\u001b[1;32m    618\u001b[0m             \u001b[0mself\u001b[0m\u001b[0;34m.\u001b[0m\u001b[0mid\u001b[0m\u001b[0;34m.\u001b[0m\u001b[0mwrite\u001b[0m\u001b[0;34m(\u001b[0m\u001b[0mmspace\u001b[0m\u001b[0;34m,\u001b[0m \u001b[0mfspace\u001b[0m\u001b[0;34m,\u001b[0m \u001b[0mval\u001b[0m\u001b[0;34m,\u001b[0m \u001b[0mmtype\u001b[0m\u001b[0;34m,\u001b[0m \u001b[0mdxpl\u001b[0m\u001b[0;34m=\u001b[0m\u001b[0mself\u001b[0m\u001b[0;34m.\u001b[0m\u001b[0m_dxpl\u001b[0m\u001b[0;34m)\u001b[0m\u001b[0;34m\u001b[0m\u001b[0m\n\u001b[1;32m    619\u001b[0m \u001b[0;34m\u001b[0m\u001b[0m\n",
      "\u001b[0;32m/usr/local/lib/python3.5/site-packages/h5py/_hl/selections.py\u001b[0m in \u001b[0;36mbroadcast\u001b[0;34m(self, target_shape)\u001b[0m\n\u001b[1;32m    295\u001b[0m                     \u001b[0mtshape\u001b[0m\u001b[0;34m.\u001b[0m\u001b[0mappend\u001b[0m\u001b[0;34m(\u001b[0m\u001b[0mt\u001b[0m\u001b[0;34m)\u001b[0m\u001b[0;34m\u001b[0m\u001b[0m\n\u001b[1;32m    296\u001b[0m                 \u001b[0;32melse\u001b[0m\u001b[0;34m:\u001b[0m\u001b[0;34m\u001b[0m\u001b[0m\n\u001b[0;32m--> 297\u001b[0;31m                     \u001b[0;32mraise\u001b[0m \u001b[0mTypeError\u001b[0m\u001b[0;34m(\u001b[0m\u001b[0;34m\"Can't broadcast %s -> %s\"\u001b[0m \u001b[0;34m%\u001b[0m \u001b[0;34m(\u001b[0m\u001b[0mtarget_shape\u001b[0m\u001b[0;34m,\u001b[0m \u001b[0mcount\u001b[0m\u001b[0;34m)\u001b[0m\u001b[0;34m)\u001b[0m\u001b[0;34m\u001b[0m\u001b[0m\n\u001b[0m\u001b[1;32m    298\u001b[0m         \u001b[0mtshape\u001b[0m\u001b[0;34m.\u001b[0m\u001b[0mreverse\u001b[0m\u001b[0;34m(\u001b[0m\u001b[0;34m)\u001b[0m\u001b[0;34m\u001b[0m\u001b[0m\n\u001b[1;32m    299\u001b[0m         \u001b[0mtshape\u001b[0m \u001b[0;34m=\u001b[0m \u001b[0mtuple\u001b[0m\u001b[0;34m(\u001b[0m\u001b[0mtshape\u001b[0m\u001b[0;34m)\u001b[0m\u001b[0;34m\u001b[0m\u001b[0m\n",
      "\u001b[0;31mTypeError\u001b[0m: Can't broadcast (30, 2) -> (60, 2)"
     ]
    }
   ],
   "source": [
    "\n",
    "MC.set_sweep_function(None_Sweep(sweep_control='hard'))\n",
    "MC.set_sweep_points(np.linspace(0, 10, 30))\n",
    "MC.set_detector_function(det.Dummy_Detector_Hard(noise=.1))\n",
    "dat = MC.run('dummy_hard')"
   ]
  },
  {
   "cell_type": "code",
   "execution_count": 26,
   "metadata": {
    "collapsed": false
   },
   "outputs": [
    {
     "data": {
      "text/plain": [
       "array([ 0.65631164,  0.03746736,  0.74947848,  0.27202054,  0.42844457,\n",
       "        0.3059217 ,  0.58674701,  0.25134404,  0.67448748,  0.73906571,\n",
       "        0.18573425,  0.46660944,  0.1131018 ,  0.32144482,  0.32103409,\n",
       "        0.25989586,  0.95510552,  0.18853773,  0.29510219,  0.47458454])"
      ]
     },
     "execution_count": 26,
     "metadata": {},
     "output_type": "execute_result"
    }
   ],
   "source": []
  },
  {
   "cell_type": "code",
   "execution_count": null,
   "metadata": {
    "collapsed": true
   },
   "outputs": [],
   "source": []
  }
 ],
 "metadata": {
  "kernelspec": {
   "display_name": "Python 3",
   "language": "python",
   "name": "python3"
  },
  "language_info": {
   "codemirror_mode": {
    "name": "ipython",
    "version": 3
   },
   "file_extension": ".py",
   "mimetype": "text/x-python",
   "name": "python",
   "nbconvert_exporter": "python",
   "pygments_lexer": "ipython3",
   "version": "3.5.1"
  },
  "widgets": {
   "state": {},
   "version": "1.1.1"
  }
 },
 "nbformat": 4,
 "nbformat_minor": 0
}
